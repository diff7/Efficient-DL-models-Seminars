{
 "cells": [
  {
   "cell_type": "markdown",
   "id": "d6fa8b24",
   "metadata": {
    "nbsphinx": {
     "execute": "never"
    }
   },
   "source": [
    "# Search Algorithms"
   ]
  },
  {
   "cell_type": "code",
   "execution_count": null,
   "id": "d043b2a1",
   "metadata": {},
   "outputs": [],
   "source": [
    "# archai/docs/getting_started/notebooks/discrete_search/algos.ipynb\n",
    "# https://github.com/microsoft/archai"
   ]
  },
  {
   "cell_type": "code",
   "execution_count": 1,
   "id": "1b103993",
   "metadata": {},
   "outputs": [],
   "source": [
    "import os\n",
    "import json\n",
    "from overrides import overrides\n",
    "from typing import List\n",
    "import torch\n",
    "from torch import nn\n",
    "import numpy as np\n",
    "from random import Random\n",
    "\n",
    "from archai.discrete_search.api import ArchaiModel, EvolutionarySearchSpace, BayesOptSearchSpace"
   ]
  },
  {
   "cell_type": "markdown",
   "id": "f81488a6",
   "metadata": {},
   "source": [
    "We will re-use the CNN search space created in the [search space example](./search_space.ipynb)."
   ]
  },
  {
   "cell_type": "code",
   "execution_count": 2,
   "id": "9b7ac3c7",
   "metadata": {},
   "outputs": [],
   "source": [
    "from model import MyModel\n",
    "from cnn_search_space import CNNSearchSpaceExt as CNNSearchSpace"
   ]
  },
  {
   "cell_type": "code",
   "execution_count": 3,
   "id": "d2a667bb",
   "metadata": {},
   "outputs": [],
   "source": [
    "ss = CNNSearchSpace(max_layers=10, kernel_list=[3, 5, 7], hidden_list=[16, 32, 64])"
   ]
  },
  {
   "cell_type": "code",
   "execution_count": null,
   "id": "b7b5dd4e",
   "metadata": {},
   "outputs": [],
   "source": [
    "m = ss.random_sample()\n",
    "m"
   ]
  },
  {
   "cell_type": "markdown",
   "id": "24de6e98",
   "metadata": {},
   "source": [
    "## Dataset Provider"
   ]
  },
  {
   "cell_type": "markdown",
   "id": "6cf68260",
   "metadata": {},
   "source": [
    "Datasets are represented in Archai throught the [`DatasetProvider`](../../reference/api/archai.discrete_search.api.rst) class. For this example, we will use the built-in dataset provider of the MNIST dataset."
   ]
  },
  {
   "cell_type": "code",
   "execution_count": 5,
   "id": "dc94c3d1",
   "metadata": {},
   "outputs": [],
   "source": [
    "from archai.datasets.cv.mnist_dataset_provider import MnistDatasetProvider"
   ]
  },
  {
   "cell_type": "code",
   "execution_count": 6,
   "id": "058373ec",
   "metadata": {},
   "outputs": [],
   "source": [
    "dataset_provider = MnistDatasetProvider()"
   ]
  },
  {
   "cell_type": "markdown",
   "id": "67e836d0",
   "metadata": {},
   "source": [
    "We can get train/test PyTorch datasets from a DatasetProvider by calling `dataset_provider.get_datasets(load_train, load_test, transforms_train, transforms_test)`"
   ]
  },
  {
   "cell_type": "code",
   "execution_count": 7,
   "id": "10505074",
   "metadata": {},
   "outputs": [],
   "source": [
    "# Loads only the training set\n",
    "tr_d = dataset_provider.get_train_dataset()"
   ]
  },
  {
   "cell_type": "markdown",
   "id": "ecace173",
   "metadata": {},
   "source": [
    "## Wrapping custom evaluation code"
   ]
  },
  {
   "cell_type": "markdown",
   "id": "056973d6",
   "metadata": {},
   "source": [
    "We will evaluate the models using partial training validation accuracy as a proxy for final task performance. This notebook will take about an hour to complete if you run it on a Intel Core i9 CPU.  If you have CUDA enabled version of pytorch installed, it will be about 30 minutes if you pass the `device` argument `cuda` in the following `PartialTrainingValAccuracy` constructor."
   ]
  },
  {
   "cell_type": "code",
   "execution_count": 8,
   "id": "df253354",
   "metadata": {},
   "outputs": [],
   "source": [
    "from archai.api.dataset_provider import DatasetProvider\n",
    "from archai.discrete_search.api import ModelEvaluator\n",
    "from archai.discrete_search.evaluators import RayParallelEvaluator\n",
    "\n",
    "from tqdm import tqdm\n",
    "import math\n",
    "\n",
    "\n",
    "class PartialTrainingValAccuracy(ModelEvaluator):\n",
    "    def __init__(self, dataset: DatasetProvider, training_epochs: float = 1.0, lr: float = 1e-4, device: str = 'cuda:0',\n",
    "                 progress_bar: bool = False):\n",
    "        self.training_epochs = training_epochs\n",
    "        self.dataset_provider = dataset\n",
    "        self.device = device\n",
    "        self.lr = lr\n",
    "        self.progress_bar = progress_bar\n",
    "    \n",
    "    @overrides\n",
    "    def evaluate(self, model, budget = None) -> float:\n",
    "        # Loads the dataset\n",
    "        tr_data = self.dataset_provider.get_train_dataset()\n",
    "        val_data = self.dataset_provider.get_val_dataset()\n",
    "        \n",
    "        tr_dl = torch.utils.data.DataLoader(tr_data, batch_size=16, shuffle=True, num_workers=4)\n",
    "        val_dl = torch.utils.data.DataLoader(val_data, batch_size=32, shuffle=False, num_workers=4)\n",
    "        \n",
    "        # Training settings\n",
    "        optimizer = torch.optim.Adam(model.arch.parameters(), lr=self.lr)\n",
    "        criterion = nn.CrossEntropyLoss()\n",
    "        \n",
    "        model.arch.train()\n",
    "        model.arch.to(self.device)\n",
    "        \n",
    "        # Partial training\n",
    "        epoch_iter = range(math.ceil(self.training_epochs))\n",
    "        if self.progress_bar:\n",
    "            epoch_iter = tqdm(epoch_iter, desc=f'Training model {model.archid}')\n",
    "\n",
    "        for epoch_nb in epoch_iter:\n",
    "            # Early stops for fractional values of training epochs (e.g, 0.2)\n",
    "            early_stop = len(tr_dl) + 1\n",
    "            if 0 < (self.training_epochs - epoch_nb) < 1:\n",
    "                early_stop = int((self.training_epochs - epoch_nb) * len(tr_dl))\n",
    "            \n",
    "            for i, (x, y) in enumerate(tr_dl):\n",
    "                if i >= early_stop:\n",
    "                    break\n",
    "                \n",
    "                optimizer.zero_grad()\n",
    "                \n",
    "                pred = model.arch(x.to(self.device))\n",
    "                loss = criterion(pred, y.to(self.device))\n",
    "\n",
    "                loss.backward()\n",
    "                optimizer.step()\n",
    "        \n",
    "        # Evaluates final model\n",
    "        model.arch.eval()\n",
    "        \n",
    "        with torch.no_grad():\n",
    "            val_pred, val_target = [], []\n",
    "\n",
    "            for x, y in val_dl:\n",
    "                val_pred.append(model.arch(x.to(self.device)).argmax(axis=1).to('cpu'))\n",
    "                val_target.append(y.to('cpu'))\n",
    "\n",
    "            val_pred, val_target = torch.cat(val_pred, axis=0), torch.cat(val_target, axis=0)\n",
    "            val_acc = (val_pred.squeeze() == val_target.squeeze()).numpy().mean()\n",
    "\n",
    "        # Returns model to cpu\n",
    "        model.arch.cpu()\n",
    "        \n",
    "        return val_acc"
   ]
  },
  {
   "cell_type": "code",
   "execution_count": 9,
   "id": "0e711898",
   "metadata": {
    "scrolled": true
   },
   "outputs": [],
   "source": [
    "#!pip install -U ipywidgets"
   ]
  },
  {
   "cell_type": "markdown",
   "id": "19a74a59",
   "metadata": {},
   "source": [
    "Let's test our evaluator:"
   ]
  },
  {
   "cell_type": "code",
   "execution_count": 10,
   "id": "7e40e515",
   "metadata": {},
   "outputs": [],
   "source": [
    "partial_tr = PartialTrainingValAccuracy(\n",
    "    dataset_provider,\n",
    "    training_epochs=0.001, # Trains for 1/1000 of an epoch\n",
    "    progress_bar=True\n",
    ")"
   ]
  },
  {
   "cell_type": "markdown",
   "id": "0f153a2d",
   "metadata": {},
   "source": [
    "This evaluation is pretty quick, even on a CPU, at around 10 seconds on an Intel Core i9 processor."
   ]
  },
  {
   "cell_type": "code",
   "execution_count": null,
   "id": "689a2adf",
   "metadata": {
    "tags": []
   },
   "outputs": [],
   "source": [
    "partial_tr.evaluate(ss.random_sample())"
   ]
  },
  {
   "cell_type": "markdown",
   "id": "7d6e6884",
   "metadata": {},
   "source": [
    "We can make this objective more efficient evaluating multiple architectures in parallel. To do that, we can use the `RayParallelObjective` wrapper mentioned in the [previous example](./evaluators.ipynb):"
   ]
  },
  {
   "cell_type": "code",
   "execution_count": 12,
   "id": "f88c234b",
   "metadata": {},
   "outputs": [],
   "source": [
    "# NBVAL_SKIP\n",
    "parallel_partial_tr = RayParallelEvaluator(partial_tr)"
   ]
  },
  {
   "cell_type": "markdown",
   "id": "eaa3c2a5",
   "metadata": {},
   "source": [
    "Let's test our partial training objective sending two random architectures"
   ]
  },
  {
   "cell_type": "code",
   "execution_count": null,
   "id": "4adfc19b",
   "metadata": {
    "tags": []
   },
   "outputs": [],
   "source": [
    "# NBVAL_SKIP\n",
    "parallel_partial_tr.send(ss.random_sample())\n",
    "parallel_partial_tr.send(ss.random_sample())"
   ]
  },
  {
   "cell_type": "code",
   "execution_count": 14,
   "id": "36119d81",
   "metadata": {},
   "outputs": [],
   "source": [
    "#import model"
   ]
  },
  {
   "cell_type": "code",
   "execution_count": null,
   "id": "a974a2b7",
   "metadata": {
    "scrolled": true,
    "tags": []
   },
   "outputs": [],
   "source": [
    "# NBVAL_SKIP\n",
    "parallel_partial_tr.fetch_all()"
   ]
  },
  {
   "cell_type": "markdown",
   "id": "b3b548cb",
   "metadata": {},
   "source": [
    "To run the same objective distributing jobs across multiple GPUs, just set the `num_gpus` parameter from [ray.init](https://docs.ray.io/en/latest/ray-core/package-ref.html#ray-init) and set `device='cuda'` (This assumes you have installed the NVidia CUDA SDK and PyTorch for CUDA as per the setup instructions at https://pytorch.org/get-started/locally/)\n",
    "\n",
    "```python\n",
    "RayParallelObjective(\n",
    "    PartialTrainingValAccuracy(training_epochs=1, device='cuda'),\n",
    "    num_gpus=0.5, # 2 jobs per gpu available\n",
    "    max_calls=1\n",
    ")\n",
    "```"
   ]
  },
  {
   "cell_type": "markdown",
   "id": "3c50b818",
   "metadata": {},
   "source": [
    "## Defining Search Objectives"
   ]
  },
  {
   "cell_type": "markdown",
   "id": "7c8ac88d",
   "metadata": {},
   "source": [
    "Search optimization objectives are specified using the `archai.discrete_search.SearchObjectives` class"
   ]
  },
  {
   "cell_type": "code",
   "execution_count": 16,
   "id": "25095dc5",
   "metadata": {},
   "outputs": [],
   "source": [
    "from archai.discrete_search.api import SearchObjectives\n",
    "\n",
    "objectives = SearchObjectives()"
   ]
  },
  {
   "cell_type": "markdown",
   "id": "ccf6ddc3",
   "metadata": {},
   "source": [
    "### Adding objectives"
   ]
  },
  {
   "cell_type": "markdown",
   "id": "9950bb3b",
   "metadata": {},
   "source": [
    "To add search objectives, we can use the `SearchObjectives.add_objective` method\n"
   ]
  },
  {
   "cell_type": "code",
   "execution_count": 17,
   "id": "3060750e",
   "metadata": {},
   "outputs": [],
   "source": [
    "from archai.discrete_search.evaluators import AvgOnnxLatency, TorchFlops\n",
    "\n",
    "objectives.add_objective(\n",
    "    # Objective function name (will be used in plots and reports)\n",
    "    name='ONNX Latency (ms)',  \n",
    "    \n",
    "    # ModelEvaluator object that will be used to evaluate the model\n",
    "    model_evaluator=AvgOnnxLatency(input_shape=(1, 1, 28, 28), num_trials=3),  \n",
    "    \n",
    "    # Optimization direction, `True` for maximization or `False` for minimization\n",
    "    higher_is_better=False,\n",
    "\n",
    "    # Whether this objective should be considered 'compute intensive' or not.\n",
    "    compute_intensive=False \n",
    ")\n"
   ]
  },
  {
   "cell_type": "markdown",
   "id": "92aaef34",
   "metadata": {},
   "source": [
    "The `compute_intensive` flag is used in some search algorithms to help increase search efficiency. For instance, search algorithms that use surrogate models may try to estimate the value of expensive objective functions of unseen architectures in certain situations, while cheap objectives (`compute_intensive=False`) will just be computed directly."
   ]
  },
  {
   "cell_type": "code",
   "execution_count": 18,
   "id": "4cd5163c",
   "metadata": {},
   "outputs": [],
   "source": [
    "objectives.add_objective(\n",
    "    'FLOPs', TorchFlops(torch.randn(1, 1, 28, 28)),\n",
    "    higher_is_better=False,\n",
    "    compute_intensive=False,\n",
    "    # We may optionally add a constraint. \n",
    "    # Architectures outside this range will be ignored by the search algorithm\n",
    "    constraint=(0.0, 1e9)\n",
    ")"
   ]
  },
  {
   "cell_type": "markdown",
   "id": "41127aed",
   "metadata": {},
   "source": [
    "Additionally, objectives that are cheap to evaluate (`compute_intensive=False`) may receive an optional `constraint` argument. Model candidates outside this range will\n",
    "be ignored by the search algorithm."
   ]
  },
  {
   "cell_type": "markdown",
   "id": "8b058b47",
   "metadata": {},
   "source": [
    "We can evaluate cheap objectives calling `SearchObjectives.eval_cheap_objs(model_list)`"
   ]
  },
  {
   "cell_type": "code",
   "execution_count": null,
   "id": "df60ad54",
   "metadata": {
    "scrolled": true
   },
   "outputs": [],
   "source": [
    "samples = [ss.random_sample() for _ in range(2)]\n",
    "objectives.eval_cheap_objs(samples,\n",
    "                           progress_bar=True)"
   ]
  },
  {
   "cell_type": "code",
   "execution_count": null,
   "id": "197ef541",
   "metadata": {},
   "outputs": [],
   "source": [
    "samples = [ss.random_sample() for _ in range(2)]\n",
    "objectives.eval_all_objs(samples,\n",
    "                           progress_bar=True)"
   ]
  },
  {
   "cell_type": "markdown",
   "id": "c7ae043b",
   "metadata": {},
   "source": [
    "We can check if a model satisfies the constraints we added for the FLOPs objective by calling `SearchObjectives.validate_constraints(model_list)` or `SearchObjectives.is_model_valid(ss.random_sample())`"
   ]
  },
  {
   "cell_type": "code",
   "execution_count": null,
   "id": "e99203fa",
   "metadata": {},
   "outputs": [],
   "source": [
    "m = ss.random_sample()\n",
    "\n",
    "objectives.validate_constraints([m])"
   ]
  },
  {
   "cell_type": "code",
   "execution_count": null,
   "id": "858a3966",
   "metadata": {},
   "outputs": [],
   "source": [
    "objectives.is_model_valid(m)"
   ]
  },
  {
   "cell_type": "markdown",
   "id": "7ddc2911",
   "metadata": {},
   "source": [
    "By default, all objective and constraints evaluations are cached to prevent spending resources in the same architecture twice."
   ]
  },
  {
   "cell_type": "code",
   "execution_count": null,
   "id": "fc3893e6",
   "metadata": {},
   "outputs": [],
   "source": [
    "# The evaluation cache is built using the\n",
    "# tuple (obj_name, archid, budget)\n",
    "objectives.lookup_cache('FLOPs', samples[0].archid, None)"
   ]
  },
  {
   "cell_type": "markdown",
   "id": "1fbcc6c7",
   "metadata": {},
   "source": [
    "Caching can be disabled setting `SearchObjectives(cache_objective_evaluation=False)`."
   ]
  },
  {
   "cell_type": "markdown",
   "id": "ee596afe",
   "metadata": {},
   "source": [
    "Now, let's try adding the partial training objective we created before. \n",
    "\n",
    "<div class=\"alert alert-block alert-warning\">\n",
    "The code below requests a GPU compatible with CUDA. If running on CPU, that's ok, it will just fall back to CPU training.\n",
    "</div>"
   ]
  },
  {
   "cell_type": "code",
   "execution_count": 23,
   "id": "89efb3e2",
   "metadata": {},
   "outputs": [],
   "source": [
    "objectives.add_objective(\n",
    "    'Partial training Validation Accuracy (1 epoch)',\n",
    "    PartialTrainingValAccuracy(dataset_provider, training_epochs=1, device='cuda'),\n",
    "    higher_is_better=True,\n",
    "    compute_intensive=True # This is a compute intensive evaluator\n",
    ")"
   ]
  },
  {
   "cell_type": "code",
   "execution_count": 24,
   "id": "50c463da",
   "metadata": {},
   "outputs": [],
   "source": [
    "#objectives.add_objective(\n",
    "#    'Partial training Validation Accuracy (1 epoch)',\n",
    "#    RayParallelEvaluator(\n",
    "#        PartialTrainingValAccuracy(dataset_provider, training_epochs=1, device='cuda'),\n",
    "#        num_gpus=0.5, # 2 jobs per gpu available\n",
    "#        max_calls=1\n",
    "#    ),\n",
    "#    higher_is_better=True,\n",
    "#    compute_intensive=True # This is a compute intensive evaluator\n",
    "#)"
   ]
  },
  {
   "cell_type": "markdown",
   "id": "33bfae1a",
   "metadata": {},
   "source": [
    "Expensive objectives can be evaluated using `SearchObjectives.eval_expensive_objs(model_list)`"
   ]
  },
  {
   "cell_type": "markdown",
   "id": "f2ec34f6",
   "metadata": {},
   "source": [
    "Alternatively, all objectives (expensive and cheap) can also be evaluated using `SearchObjectives.eval_all_objs`."
   ]
  },
  {
   "cell_type": "markdown",
   "id": "91205ae4",
   "metadata": {},
   "source": [
    "### Adding extra constraints"
   ]
  },
  {
   "cell_type": "markdown",
   "id": "ec0e1653",
   "metadata": {},
   "source": [
    "Besides the constraint parameter from cheap objectives, it is also possible to add extra constraints that are not search objectives (and thus should not be optimized by NAS algorithms)."
   ]
  },
  {
   "cell_type": "code",
   "execution_count": null,
   "id": "74cf95ea",
   "metadata": {},
   "outputs": [],
   "source": [
    "from archai.discrete_search.evaluators import TorchNumParameters\n",
    "\n",
    "objectives.add_constraint(\n",
    "    'Number of parameters',\n",
    "    TorchNumParameters(),\n",
    "    constraint=(0.0, 1e6)\n",
    ")"
   ]
  },
  {
   "cell_type": "code",
   "execution_count": null,
   "id": "dc36366d",
   "metadata": {},
   "outputs": [],
   "source": [
    "objectives.validate_constraints([m])"
   ]
  },
  {
   "cell_type": "code",
   "execution_count": null,
   "id": "27a83b39",
   "metadata": {},
   "outputs": [],
   "source": [
    "objectives.is_model_valid(m)"
   ]
  },
  {
   "cell_type": "markdown",
   "id": "ae8bd85d",
   "metadata": {},
   "source": [
    "## Using a search algorithm"
   ]
  },
  {
   "cell_type": "markdown",
   "id": "0a2a8fa7",
   "metadata": {},
   "source": [
    "Now that we know how to create and use search objectives, we can finally use a search algorithm do to Neural Architecture Search!"
   ]
  },
  {
   "cell_type": "markdown",
   "id": "457800f2",
   "metadata": {},
   "source": [
    "### Example: `EvolutionParetoSearch`"
   ]
  },
  {
   "cell_type": "markdown",
   "id": "81b60964",
   "metadata": {},
   "source": [
    "Let's start with an evolutionary-based search algorithm"
   ]
  },
  {
   "cell_type": "code",
   "execution_count": 28,
   "id": "1b66c7e8",
   "metadata": {},
   "outputs": [],
   "source": [
    "from archai.discrete_search.algos import EvolutionParetoSearch"
   ]
  },
  {
   "cell_type": "code",
   "execution_count": 29,
   "id": "d5bb8efe",
   "metadata": {},
   "outputs": [],
   "source": [
    "algo = EvolutionParetoSearch(\n",
    "    ss, objectives, \n",
    "    output_dir='./out_evo',\n",
    "    num_iters=5, num_crossovers=5,\n",
    "    mutations_per_parent=2,\n",
    "    max_unseen_population=10,\n",
    "    save_pareto_model_weights=False,\n",
    "    seed=42\n",
    ")"
   ]
  },
  {
   "cell_type": "code",
   "execution_count": null,
   "id": "7b0d4117",
   "metadata": {
    "scrolled": true,
    "tags": []
   },
   "outputs": [],
   "source": [
    "# NBVAL_SKIP\n",
    "search_results = algo.search()"
   ]
  },
  {
   "cell_type": "markdown",
   "id": "44658a70",
   "metadata": {},
   "source": [
    "By default all algorithms will save the final pareto architectures `{output_dir}/pareto_models_iter_*/`, pareto evolution plots `pareto_*.png` and search state tables with all the results `{output_dir}/search_state_*.csv`"
   ]
  },
  {
   "cell_type": "code",
   "execution_count": 31,
   "id": "248462b2",
   "metadata": {
    "tags": []
   },
   "outputs": [
    {
     "data": {
      "text/plain": [
       "['search_state_5.csv',\n",
       " 'search_state_4.csv',\n",
       " 'pareto_FLOPs_vs_Partial_training_Validation_Accuracy_1_epoch.png',\n",
       " 'pareto_ONNX_Latency_ms_vs_Partial_training_Validation_Accuracy_1_epoch.png',\n",
       " 'pareto_ONNX_Latency_ms_vs_FLOPs.png',\n",
       " 'pareto_models_iter_4',\n",
       " 'pareto_models_iter_5',\n",
       " 'search_state_1.csv',\n",
       " 'pareto_models_iter_2',\n",
       " 'pareto_models_iter_3',\n",
       " 'search_state_3.csv',\n",
       " 'search_state_2.csv',\n",
       " 'pareto_models_iter_1']"
      ]
     },
     "execution_count": 31,
     "metadata": {},
     "output_type": "execute_result"
    }
   ],
   "source": [
    "# NBVAL_SKIP\n",
    "os.listdir('./out_evo')"
   ]
  },
  {
   "cell_type": "markdown",
   "id": "384e9a76",
   "metadata": {},
   "source": [
    "It is also possible to get information from the `search_results` object directly:"
   ]
  },
  {
   "cell_type": "code",
   "execution_count": 32,
   "id": "2923ca7e",
   "metadata": {
    "tags": []
   },
   "outputs": [
    {
     "data": {
      "image/png": "[encoded data removed]",
      "text/plain": [
       "<Figure size 1000x500 with 2 Axes>"
      ]
     },
     "execution_count": 32,
     "metadata": {},
     "output_type": "execute_result"
    }
   ],
   "source": [
    "# NBVAL_SKIP\n",
    "search_results.plot_2d_pareto_evolution(('ONNX Latency (ms)', 'Partial training Validation Accuracy (1 epoch)'))"
   ]
  },
  {
   "cell_type": "markdown",
   "id": "0484398e",
   "metadata": {},
   "source": [
    "We can get `pandas.DataFrame` object with the search results calling"
   ]
  },
  {
   "cell_type": "code",
   "execution_count": 30,
   "id": "08d6df34",
   "metadata": {
    "tags": []
   },
   "outputs": [],
   "source": [
    "# NBVAL_SKIP\n",
    "results_df = search_results.get_search_state_df()"
   ]
  },
  {
   "cell_type": "code",
   "execution_count": 31,
   "id": "a5e9c584",
   "metadata": {
    "tags": []
   },
   "outputs": [
    {
     "data": {
      "text/html": [
       "<div>\n",
       "<style scoped>\n",
       "    .dataframe tbody tr th:only-of-type {\n",
       "        vertical-align: middle;\n",
       "    }\n",
       "\n",
       "    .dataframe tbody tr th {\n",
       "        vertical-align: top;\n",
       "    }\n",
       "\n",
       "    .dataframe thead th {\n",
       "        text-align: right;\n",
       "    }\n",
       "</style>\n",
       "<table border=\"1\" class=\"dataframe\">\n",
       "  <thead>\n",
       "    <tr style=\"text-align: right;\">\n",
       "      <th></th>\n",
       "      <th>archid</th>\n",
       "      <th>ONNX Latency (ms)</th>\n",
       "      <th>FLOPs</th>\n",
       "      <th>Partial training Validation Accuracy (1 epoch)</th>\n",
       "      <th>parent</th>\n",
       "      <th>parents</th>\n",
       "      <th>iteration_num</th>\n",
       "      <th>search_walltime_hours</th>\n",
       "    </tr>\n",
       "  </thead>\n",
       "  <tbody>\n",
       "    <tr>\n",
       "      <th>22</th>\n",
       "      <td>L=1, K=5, H=16</td>\n",
       "      <td>0.000067</td>\n",
       "      <td>690250.0</td>\n",
       "      <td>0.2366</td>\n",
       "      <td>L=1, K=7, H=16</td>\n",
       "      <td>None</td>\n",
       "      <td>2</td>\n",
       "      <td>0.283439</td>\n",
       "    </tr>\n",
       "    <tr>\n",
       "      <th>5</th>\n",
       "      <td>L=1, K=7, H=16</td>\n",
       "      <td>0.000071</td>\n",
       "      <td>1292362.0</td>\n",
       "      <td>0.2929</td>\n",
       "      <td>None</td>\n",
       "      <td>None</td>\n",
       "      <td>0</td>\n",
       "      <td>0.060559</td>\n",
       "    </tr>\n",
       "    <tr>\n",
       "      <th>36</th>\n",
       "      <td>L=2, K=3, H=16</td>\n",
       "      <td>0.000091</td>\n",
       "      <td>3951690.0</td>\n",
       "      <td>0.3045</td>\n",
       "      <td>L=9, K=7, H=16</td>\n",
       "      <td>None</td>\n",
       "      <td>3</td>\n",
       "      <td>0.414055</td>\n",
       "    </tr>\n",
       "    <tr>\n",
       "      <th>2</th>\n",
       "      <td>L=1, K=7, H=64</td>\n",
       "      <td>0.000090</td>\n",
       "      <td>5169418.0</td>\n",
       "      <td>0.3303</td>\n",
       "      <td>None</td>\n",
       "      <td>None</td>\n",
       "      <td>0</td>\n",
       "      <td>0.060559</td>\n",
       "    </tr>\n",
       "    <tr>\n",
       "      <th>16</th>\n",
       "      <td>L=2, K=5, H=16</td>\n",
       "      <td>0.000094</td>\n",
       "      <td>10775626.0</td>\n",
       "      <td>0.4510</td>\n",
       "      <td>L=4, K=5, H=16</td>\n",
       "      <td>None</td>\n",
       "      <td>1</td>\n",
       "      <td>0.142594</td>\n",
       "    </tr>\n",
       "    <tr>\n",
       "      <th>13</th>\n",
       "      <td>L=4, K=3, H=16</td>\n",
       "      <td>0.000114</td>\n",
       "      <td>11277386.0</td>\n",
       "      <td>0.6514</td>\n",
       "      <td>L=4, K=7, H=16</td>\n",
       "      <td>None</td>\n",
       "      <td>1</td>\n",
       "      <td>0.142594</td>\n",
       "    </tr>\n",
       "    <tr>\n",
       "      <th>21</th>\n",
       "      <td>L=5, K=3, H=16</td>\n",
       "      <td>0.000272</td>\n",
       "      <td>14940234.0</td>\n",
       "      <td>0.7085</td>\n",
       "      <td>L=6, K=3, H=16</td>\n",
       "      <td>None</td>\n",
       "      <td>2</td>\n",
       "      <td>0.283439</td>\n",
       "    </tr>\n",
       "    <tr>\n",
       "      <th>1</th>\n",
       "      <td>L=6, K=3, H=16</td>\n",
       "      <td>0.000133</td>\n",
       "      <td>18603082.0</td>\n",
       "      <td>0.7211</td>\n",
       "      <td>None</td>\n",
       "      <td>None</td>\n",
       "      <td>0</td>\n",
       "      <td>0.060559</td>\n",
       "    </tr>\n",
       "    <tr>\n",
       "      <th>41</th>\n",
       "      <td>L=3, K=5, H=16</td>\n",
       "      <td>0.000117</td>\n",
       "      <td>20861002.0</td>\n",
       "      <td>0.7473</td>\n",
       "      <td>None</td>\n",
       "      <td>None</td>\n",
       "      <td>4</td>\n",
       "      <td>0.501170</td>\n",
       "    </tr>\n",
       "    <tr>\n",
       "      <th>34</th>\n",
       "      <td>L=8, K=3, H=16</td>\n",
       "      <td>0.000153</td>\n",
       "      <td>25928778.0</td>\n",
       "      <td>0.8375</td>\n",
       "      <td>L=4, K=3, H=16</td>\n",
       "      <td>None</td>\n",
       "      <td>3</td>\n",
       "      <td>0.414055</td>\n",
       "    </tr>\n",
       "    <tr>\n",
       "      <th>6</th>\n",
       "      <td>L=4, K=5, H=16</td>\n",
       "      <td>0.000129</td>\n",
       "      <td>30946378.0</td>\n",
       "      <td>0.8742</td>\n",
       "      <td>None</td>\n",
       "      <td>None</td>\n",
       "      <td>0</td>\n",
       "      <td>0.060559</td>\n",
       "    </tr>\n",
       "    <tr>\n",
       "      <th>14</th>\n",
       "      <td>L=3, K=7, H=16</td>\n",
       "      <td>0.000398</td>\n",
       "      <td>40730698.0</td>\n",
       "      <td>0.9233</td>\n",
       "      <td>None</td>\n",
       "      <td>None</td>\n",
       "      <td>1</td>\n",
       "      <td>0.142594</td>\n",
       "    </tr>\n",
       "    <tr>\n",
       "      <th>43</th>\n",
       "      <td>L=5, K=5, H=16</td>\n",
       "      <td>0.000170</td>\n",
       "      <td>41031754.0</td>\n",
       "      <td>0.9569</td>\n",
       "      <td>L=9, K=5, H=32</td>\n",
       "      <td>None</td>\n",
       "      <td>4</td>\n",
       "      <td>0.501170</td>\n",
       "    </tr>\n",
       "    <tr>\n",
       "      <th>0</th>\n",
       "      <td>L=4, K=7, H=16</td>\n",
       "      <td>0.000189</td>\n",
       "      <td>60449866.0</td>\n",
       "      <td>0.9570</td>\n",
       "      <td>None</td>\n",
       "      <td>None</td>\n",
       "      <td>0</td>\n",
       "      <td>0.060559</td>\n",
       "    </tr>\n",
       "    <tr>\n",
       "      <th>31</th>\n",
       "      <td>L=7, K=5, H=16</td>\n",
       "      <td>0.000200</td>\n",
       "      <td>61202506.0</td>\n",
       "      <td>0.9714</td>\n",
       "      <td>L=4, K=5, H=16</td>\n",
       "      <td>None</td>\n",
       "      <td>3</td>\n",
       "      <td>0.414055</td>\n",
       "    </tr>\n",
       "    <tr>\n",
       "      <th>48</th>\n",
       "      <td>L=9, K=5, H=16</td>\n",
       "      <td>0.000227</td>\n",
       "      <td>81373258.0</td>\n",
       "      <td>0.9751</td>\n",
       "      <td>None</td>\n",
       "      <td>None</td>\n",
       "      <td>4</td>\n",
       "      <td>0.501170</td>\n",
       "    </tr>\n",
       "    <tr>\n",
       "      <th>40</th>\n",
       "      <td>L=10, K=5, H=16</td>\n",
       "      <td>0.000244</td>\n",
       "      <td>91458634.0</td>\n",
       "      <td>0.9784</td>\n",
       "      <td>L=10, K=7, H=16</td>\n",
       "      <td>None</td>\n",
       "      <td>4</td>\n",
       "      <td>0.501170</td>\n",
       "    </tr>\n",
       "    <tr>\n",
       "      <th>18</th>\n",
       "      <td>L=9, K=7, H=16</td>\n",
       "      <td>0.000363</td>\n",
       "      <td>159045706.0</td>\n",
       "      <td>0.9810</td>\n",
       "      <td>L=1, K=7, H=16</td>\n",
       "      <td>None</td>\n",
       "      <td>1</td>\n",
       "      <td>0.142594</td>\n",
       "    </tr>\n",
       "    <tr>\n",
       "      <th>42</th>\n",
       "      <td>L=6, K=5, H=32</td>\n",
       "      <td>0.000372</td>\n",
       "      <td>202586250.0</td>\n",
       "      <td>0.9830</td>\n",
       "      <td>L=6, K=3, H=16</td>\n",
       "      <td>None</td>\n",
       "      <td>4</td>\n",
       "      <td>0.501170</td>\n",
       "    </tr>\n",
       "    <tr>\n",
       "      <th>28</th>\n",
       "      <td>L=10, K=7, H=16</td>\n",
       "      <td>0.001076</td>\n",
       "      <td>178764874.0</td>\n",
       "      <td>0.9831</td>\n",
       "      <td>L=4, K=7, H=16</td>\n",
       "      <td>None</td>\n",
       "      <td>2</td>\n",
       "      <td>0.283439</td>\n",
       "    </tr>\n",
       "    <tr>\n",
       "      <th>27</th>\n",
       "      <td>L=9, K=5, H=32</td>\n",
       "      <td>0.000537</td>\n",
       "      <td>323309706.0</td>\n",
       "      <td>0.9846</td>\n",
       "      <td>None</td>\n",
       "      <td>None</td>\n",
       "      <td>2</td>\n",
       "      <td>0.283439</td>\n",
       "    </tr>\n",
       "    <tr>\n",
       "      <th>25</th>\n",
       "      <td>L=7, K=3, H=64</td>\n",
       "      <td>0.000623</td>\n",
       "      <td>349176074.0</td>\n",
       "      <td>0.9871</td>\n",
       "      <td>L=1, K=7, H=16</td>\n",
       "      <td>None</td>\n",
       "      <td>2</td>\n",
       "      <td>0.283439</td>\n",
       "    </tr>\n",
       "    <tr>\n",
       "      <th>20</th>\n",
       "      <td>L=7, K=7, H=32</td>\n",
       "      <td>0.001266</td>\n",
       "      <td>475242634.0</td>\n",
       "      <td>0.9905</td>\n",
       "      <td>None</td>\n",
       "      <td>None</td>\n",
       "      <td>2</td>\n",
       "      <td>0.283439</td>\n",
       "    </tr>\n",
       "  </tbody>\n",
       "</table>\n",
       "</div>"
      ],
      "text/plain": [
       "             archid  ONNX Latency (ms)        FLOPs  \\\n",
       "22   L=1, K=5, H=16           0.000067     690250.0   \n",
       "5    L=1, K=7, H=16           0.000071    1292362.0   \n",
       "36   L=2, K=3, H=16           0.000091    3951690.0   \n",
       "2    L=1, K=7, H=64           0.000090    5169418.0   \n",
       "16   L=2, K=5, H=16           0.000094   10775626.0   \n",
       "13   L=4, K=3, H=16           0.000114   11277386.0   \n",
       "21   L=5, K=3, H=16           0.000272   14940234.0   \n",
       "1    L=6, K=3, H=16           0.000133   18603082.0   \n",
       "41   L=3, K=5, H=16           0.000117   20861002.0   \n",
       "34   L=8, K=3, H=16           0.000153   25928778.0   \n",
       "6    L=4, K=5, H=16           0.000129   30946378.0   \n",
       "14   L=3, K=7, H=16           0.000398   40730698.0   \n",
       "43   L=5, K=5, H=16           0.000170   41031754.0   \n",
       "0    L=4, K=7, H=16           0.000189   60449866.0   \n",
       "31   L=7, K=5, H=16           0.000200   61202506.0   \n",
       "48   L=9, K=5, H=16           0.000227   81373258.0   \n",
       "40  L=10, K=5, H=16           0.000244   91458634.0   \n",
       "18   L=9, K=7, H=16           0.000363  159045706.0   \n",
       "42   L=6, K=5, H=32           0.000372  202586250.0   \n",
       "28  L=10, K=7, H=16           0.001076  178764874.0   \n",
       "27   L=9, K=5, H=32           0.000537  323309706.0   \n",
       "25   L=7, K=3, H=64           0.000623  349176074.0   \n",
       "20   L=7, K=7, H=32           0.001266  475242634.0   \n",
       "\n",
       "    Partial training Validation Accuracy (1 epoch)           parent parents  \\\n",
       "22                                          0.2366   L=1, K=7, H=16    None   \n",
       "5                                           0.2929             None    None   \n",
       "36                                          0.3045   L=9, K=7, H=16    None   \n",
       "2                                           0.3303             None    None   \n",
       "16                                          0.4510   L=4, K=5, H=16    None   \n",
       "13                                          0.6514   L=4, K=7, H=16    None   \n",
       "21                                          0.7085   L=6, K=3, H=16    None   \n",
       "1                                           0.7211             None    None   \n",
       "41                                          0.7473             None    None   \n",
       "34                                          0.8375   L=4, K=3, H=16    None   \n",
       "6                                           0.8742             None    None   \n",
       "14                                          0.9233             None    None   \n",
       "43                                          0.9569   L=9, K=5, H=32    None   \n",
       "0                                           0.9570             None    None   \n",
       "31                                          0.9714   L=4, K=5, H=16    None   \n",
       "48                                          0.9751             None    None   \n",
       "40                                          0.9784  L=10, K=7, H=16    None   \n",
       "18                                          0.9810   L=1, K=7, H=16    None   \n",
       "42                                          0.9830   L=6, K=3, H=16    None   \n",
       "28                                          0.9831   L=4, K=7, H=16    None   \n",
       "27                                          0.9846             None    None   \n",
       "25                                          0.9871   L=1, K=7, H=16    None   \n",
       "20                                          0.9905             None    None   \n",
       "\n",
       "    iteration_num  search_walltime_hours  \n",
       "22              2               0.283439  \n",
       "5               0               0.060559  \n",
       "36              3               0.414055  \n",
       "2               0               0.060559  \n",
       "16              1               0.142594  \n",
       "13              1               0.142594  \n",
       "21              2               0.283439  \n",
       "1               0               0.060559  \n",
       "41              4               0.501170  \n",
       "34              3               0.414055  \n",
       "6               0               0.060559  \n",
       "14              1               0.142594  \n",
       "43              4               0.501170  \n",
       "0               0               0.060559  \n",
       "31              3               0.414055  \n",
       "48              4               0.501170  \n",
       "40              4               0.501170  \n",
       "18              1               0.142594  \n",
       "42              4               0.501170  \n",
       "28              2               0.283439  \n",
       "27              2               0.283439  \n",
       "25              2               0.283439  \n",
       "20              2               0.283439  "
      ]
     },
     "execution_count": 31,
     "metadata": {},
     "output_type": "execute_result"
    }
   ],
   "source": [
    "# NBVAL_SKIP\n",
    "results_df.query('is_pareto').drop(columns=['is_pareto']).sort_values('Partial training Validation Accuracy (1 epoch)')"
   ]
  },
  {
   "cell_type": "markdown",
   "id": "364fdfd0",
   "metadata": {},
   "source": [
    "Since our search space is also compatible with Bayesian Optimization algorithms, let's try more sophisticated algorithm like MO-BANANAS. \n",
    "\n",
    "MO-BANANAS will progressively train a surrogate model based on the data gathered during search. This surrogate model will be used to predict the result of expensive objective function evaluations and will try to determine what are the best possible architectures according to the surrogate model."
   ]
  },
  {
   "cell_type": "code",
   "execution_count": 32,
   "id": "6617b53c",
   "metadata": {},
   "outputs": [],
   "source": [
    "from archai.discrete_search.algos import MoBananasSearch"
   ]
  },
  {
   "cell_type": "code",
   "execution_count": 33,
   "id": "db035881",
   "metadata": {},
   "outputs": [],
   "source": [
    "algo2 = MoBananasSearch(\n",
    "    ss, objectives, \n",
    "    output_dir='./out_bananas', \n",
    "    num_iters=5, mutations_per_parent=5,\n",
    "    num_candidates=20,\n",
    "    seed=43\n",
    ")"
   ]
  },
  {
   "cell_type": "code",
   "execution_count": 34,
   "id": "d50b0279",
   "metadata": {
    "tags": []
   },
   "outputs": [
    {
     "name": "stdout",
     "output_type": "stream",
     "text": [
      "2023-03-29 19:46:12,111 - archai.discrete_search.algos.bananas — INFO —  Iteration 1/5\n",
      "2023-03-29 19:46:12,112 - archai.discrete_search.algos.bananas — INFO —  Evaluating objectives for 10 architectures ...\n",
      "2023-03-29 19:49:47,678 - archai.discrete_search.algos.bananas — INFO —  Updating surrogate model ...\n"
     ]
    },
    {
     "name": "stderr",
     "output_type": "stream",
     "text": [
      "Training DNN Ensemble...: 100%|██████████| 5/5 [00:33<00:00,  6.63s/it]"
     ]
    },
    {
     "name": "stdout",
     "output_type": "stream",
     "text": [
      "2023-03-29 19:50:20,852 - archai.discrete_search.algos.bananas — INFO —  Generating mutations for 10 parent architectures ...\n"
     ]
    },
    {
     "name": "stderr",
     "output_type": "stream",
     "text": [
      "\n"
     ]
    },
    {
     "name": "stdout",
     "output_type": "stream",
     "text": [
      "2023-03-29 19:50:21,262 - archai.discrete_search.algos.bananas — INFO —  Found 36 new architectures satisfying constraints.\n",
      "2023-03-29 19:50:21,263 - archai.discrete_search.algos.bananas — INFO —  Predicting ['Partial training Validation Accuracy (1 epoch)'] for new architectures using surrogate model ...\n",
      "2023-03-29 19:50:21,267 - archai.discrete_search.algos.bananas — INFO —  Calculating cheap objectives ['ONNX Latency (ms)', 'FLOPs'] for new architectures ...\n",
      "2023-03-29 19:50:22,452 - archai.discrete_search.algos.bananas — INFO —  Best 20 candidate architectures were selected for the next iteration.\n",
      "2023-03-29 19:50:22,811 - archai.discrete_search.algos.bananas — INFO —  Iteration 2/5\n",
      "2023-03-29 19:50:22,812 - archai.discrete_search.algos.bananas — INFO —  Evaluating objectives for 20 architectures ...\n",
      "2023-03-29 19:55:31,589 - archai.discrete_search.algos.bananas — INFO —  Updating surrogate model ...\n"
     ]
    },
    {
     "name": "stderr",
     "output_type": "stream",
     "text": [
      "Training DNN Ensemble...: 100%|██████████| 5/5 [00:34<00:00,  6.83s/it]"
     ]
    },
    {
     "name": "stdout",
     "output_type": "stream",
     "text": [
      "2023-03-29 19:56:05,762 - archai.discrete_search.algos.bananas — INFO —  Generating mutations for 10 parent architectures ...\n"
     ]
    },
    {
     "name": "stderr",
     "output_type": "stream",
     "text": [
      "\n"
     ]
    },
    {
     "name": "stdout",
     "output_type": "stream",
     "text": [
      "2023-03-29 19:56:06,143 - archai.discrete_search.algos.bananas — INFO —  Found 28 new architectures satisfying constraints.\n",
      "2023-03-29 19:56:06,143 - archai.discrete_search.algos.bananas — INFO —  Predicting ['Partial training Validation Accuracy (1 epoch)'] for new architectures using surrogate model ...\n",
      "2023-03-29 19:56:06,147 - archai.discrete_search.algos.bananas — INFO —  Calculating cheap objectives ['ONNX Latency (ms)', 'FLOPs'] for new architectures ...\n",
      "2023-03-29 19:56:06,770 - archai.discrete_search.algos.bananas — INFO —  Best 20 candidate architectures were selected for the next iteration.\n",
      "2023-03-29 19:56:07,170 - archai.discrete_search.algos.bananas — INFO —  Iteration 3/5\n",
      "2023-03-29 19:56:07,170 - archai.discrete_search.algos.bananas — INFO —  Evaluating objectives for 20 architectures ...\n",
      "2023-03-29 20:01:57,750 - archai.discrete_search.algos.bananas — INFO —  Updating surrogate model ...\n"
     ]
    },
    {
     "name": "stderr",
     "output_type": "stream",
     "text": [
      "Training DNN Ensemble...: 100%|██████████| 5/5 [00:31<00:00,  6.28s/it]"
     ]
    },
    {
     "name": "stdout",
     "output_type": "stream",
     "text": [
      "2023-03-29 20:02:29,188 - archai.discrete_search.algos.bananas — INFO —  Generating mutations for 10 parent architectures ...\n"
     ]
    },
    {
     "name": "stderr",
     "output_type": "stream",
     "text": [
      "\n"
     ]
    },
    {
     "name": "stdout",
     "output_type": "stream",
     "text": [
      "2023-03-29 20:02:29,521 - archai.discrete_search.algos.bananas — INFO —  Found 11 new architectures satisfying constraints.\n",
      "2023-03-29 20:02:29,521 - archai.discrete_search.algos.bananas — INFO —  Predicting ['Partial training Validation Accuracy (1 epoch)'] for new architectures using surrogate model ...\n",
      "2023-03-29 20:02:29,524 - archai.discrete_search.algos.bananas — INFO —  Calculating cheap objectives ['ONNX Latency (ms)', 'FLOPs'] for new architectures ...\n",
      "2023-03-29 20:02:29,646 - archai.discrete_search.algos.bananas — INFO —  Best 20 candidate architectures were selected for the next iteration.\n",
      "2023-03-29 20:02:30,084 - archai.discrete_search.algos.bananas — INFO —  Iteration 4/5\n",
      "2023-03-29 20:02:30,084 - archai.discrete_search.algos.bananas — INFO —  Evaluating objectives for 11 architectures ...\n",
      "2023-03-29 20:09:48,369 - archai.discrete_search.algos.bananas — INFO —  Updating surrogate model ...\n"
     ]
    },
    {
     "name": "stderr",
     "output_type": "stream",
     "text": [
      "Training DNN Ensemble...: 100%|██████████| 5/5 [00:31<00:00,  6.32s/it]"
     ]
    },
    {
     "name": "stdout",
     "output_type": "stream",
     "text": [
      "2023-03-29 20:10:19,986 - archai.discrete_search.algos.bananas — INFO —  Generating mutations for 10 parent architectures ...\n"
     ]
    },
    {
     "name": "stderr",
     "output_type": "stream",
     "text": [
      "\n"
     ]
    },
    {
     "name": "stdout",
     "output_type": "stream",
     "text": [
      "2023-03-29 20:10:20,246 - archai.discrete_search.algos.bananas — INFO —  Found 5 new architectures satisfying constraints.\n",
      "2023-03-29 20:10:20,247 - archai.discrete_search.algos.bananas — INFO —  Predicting ['Partial training Validation Accuracy (1 epoch)'] for new architectures using surrogate model ...\n",
      "2023-03-29 20:10:20,251 - archai.discrete_search.algos.bananas — INFO —  Calculating cheap objectives ['ONNX Latency (ms)', 'FLOPs'] for new architectures ...\n",
      "2023-03-29 20:10:20,252 - archai.discrete_search.algos.bananas — INFO —  Best 20 candidate architectures were selected for the next iteration.\n",
      "2023-03-29 20:10:20,720 - archai.discrete_search.algos.bananas — INFO —  Iteration 5/5\n",
      "2023-03-29 20:10:20,721 - archai.discrete_search.algos.bananas — INFO —  Evaluating objectives for 5 architectures ...\n",
      "2023-03-29 20:10:20,723 - archai.discrete_search.algos.bananas — INFO —  Updating surrogate model ...\n"
     ]
    },
    {
     "name": "stderr",
     "output_type": "stream",
     "text": [
      "Training DNN Ensemble...: 100%|██████████| 5/5 [00:33<00:00,  6.77s/it]"
     ]
    },
    {
     "name": "stdout",
     "output_type": "stream",
     "text": [
      "2023-03-29 20:10:54,613 - archai.discrete_search.algos.bananas — INFO —  Generating mutations for 10 parent architectures ...\n"
     ]
    },
    {
     "name": "stderr",
     "output_type": "stream",
     "text": [
      "\n"
     ]
    },
    {
     "name": "stdout",
     "output_type": "stream",
     "text": [
      "2023-03-29 20:10:54,880 - archai.discrete_search.algos.bananas — INFO —  Found 5 new architectures satisfying constraints.\n",
      "2023-03-29 20:10:54,881 - archai.discrete_search.algos.bananas — INFO —  Predicting ['Partial training Validation Accuracy (1 epoch)'] for new architectures using surrogate model ...\n",
      "2023-03-29 20:10:54,885 - archai.discrete_search.algos.bananas — INFO —  Calculating cheap objectives ['ONNX Latency (ms)', 'FLOPs'] for new architectures ...\n",
      "2023-03-29 20:10:54,945 - archai.discrete_search.algos.bananas — INFO —  Best 20 candidate architectures were selected for the next iteration.\n"
     ]
    }
   ],
   "source": [
    "# NBVAL_SKIP\n",
    "search_results2 = algo2.search()"
   ]
  },
  {
   "cell_type": "code",
   "execution_count": 35,
   "id": "b90c31a5",
   "metadata": {
    "tags": []
   },
   "outputs": [
    {
     "data": {
      "text/plain": [
       "['pareto_FLOPs_vs_Partial_training_Validation_Accuracy_1_epoch.png',\n",
       " 'pareto_ONNX_Latency_ms_vs_FLOPs.png',\n",
       " 'pareto_ONNX_Latency_ms_vs_Partial_training_Validation_Accuracy_1_epoch.png',\n",
       " 'search_state_0.csv',\n",
       " 'search_state_1.csv',\n",
       " 'search_state_2.csv',\n",
       " 'search_state_3.csv',\n",
       " 'search_state_4.csv']"
      ]
     },
     "execution_count": 35,
     "metadata": {},
     "output_type": "execute_result"
    }
   ],
   "source": [
    "# NBVAL_SKIP\n",
    "os.listdir('./out_bananas')"
   ]
  },
  {
   "cell_type": "code",
   "execution_count": 36,
   "id": "04d165b6",
   "metadata": {
    "tags": []
   },
   "outputs": [
    {
     "data": {
      "image/png": "[encoded data removed]",
      "text/plain": [
       "<Figure size 1000x500 with 2 Axes>"
      ]
     },
     "execution_count": 36,
     "metadata": {},
     "output_type": "execute_result"
    }
   ],
   "source": [
    "# NBVAL_SKIP\n",
    "search_results2.plot_2d_pareto_evolution(('ONNX Latency (ms)', 'Partial training Validation Accuracy (1 epoch)'))"
   ]
  },
  {
   "cell_type": "markdown",
   "id": "e2df08e8",
   "metadata": {},
   "source": [
    "MO-BANANAS will also save the predictive mean and variance of the expensive objectives during that iteration ."
   ]
  },
  {
   "cell_type": "code",
   "execution_count": 37,
   "id": "a9bbcc8d",
   "metadata": {
    "tags": []
   },
   "outputs": [
    {
     "data": {
      "text/html": [
       "<div>\n",
       "<style scoped>\n",
       "    .dataframe tbody tr th:only-of-type {\n",
       "        vertical-align: middle;\n",
       "    }\n",
       "\n",
       "    .dataframe tbody tr th {\n",
       "        vertical-align: top;\n",
       "    }\n",
       "\n",
       "    .dataframe thead th {\n",
       "        text-align: right;\n",
       "    }\n",
       "</style>\n",
       "<table border=\"1\" class=\"dataframe\">\n",
       "  <thead>\n",
       "    <tr style=\"text-align: right;\">\n",
       "      <th></th>\n",
       "      <th>archid</th>\n",
       "      <th>ONNX Latency (ms)</th>\n",
       "      <th>FLOPs</th>\n",
       "      <th>Partial training Validation Accuracy (1 epoch)</th>\n",
       "      <th>iteration_num</th>\n",
       "      <th>Predicted Partial training Validation Accuracy (1 epoch) mean</th>\n",
       "      <th>Predicted Partial training Validation Accuracy (1 epoch) var</th>\n",
       "      <th>search_walltime_hours</th>\n",
       "    </tr>\n",
       "  </thead>\n",
       "  <tbody>\n",
       "    <tr>\n",
       "      <th>14</th>\n",
       "      <td>L=1, K=3, H=16</td>\n",
       "      <td>0.000059</td>\n",
       "      <td>288842.0</td>\n",
       "      <td>0.2225</td>\n",
       "      <td>1</td>\n",
       "      <td>0.475666</td>\n",
       "      <td>0.002211</td>\n",
       "      <td>0.155478</td>\n",
       "    </tr>\n",
       "    <tr>\n",
       "      <th>42</th>\n",
       "      <td>L=1, K=5, H=16</td>\n",
       "      <td>0.000067</td>\n",
       "      <td>690250.0</td>\n",
       "      <td>0.2366</td>\n",
       "      <td>2</td>\n",
       "      <td>0.245449</td>\n",
       "      <td>0.000204</td>\n",
       "      <td>0.262745</td>\n",
       "    </tr>\n",
       "    <tr>\n",
       "      <th>32</th>\n",
       "      <td>L=1, K=3, H=32</td>\n",
       "      <td>0.000075</td>\n",
       "      <td>577674.0</td>\n",
       "      <td>0.2473</td>\n",
       "      <td>2</td>\n",
       "      <td>0.260814</td>\n",
       "      <td>0.000564</td>\n",
       "      <td>0.262745</td>\n",
       "    </tr>\n",
       "    <tr>\n",
       "      <th>34</th>\n",
       "      <td>L=1, K=3, H=64</td>\n",
       "      <td>0.000076</td>\n",
       "      <td>1155338.0</td>\n",
       "      <td>0.2483</td>\n",
       "      <td>2</td>\n",
       "      <td>0.535216</td>\n",
       "      <td>0.015243</td>\n",
       "      <td>0.262745</td>\n",
       "    </tr>\n",
       "    <tr>\n",
       "      <th>22</th>\n",
       "      <td>L=1, K=7, H=16</td>\n",
       "      <td>0.000071</td>\n",
       "      <td>1292362.0</td>\n",
       "      <td>0.2929</td>\n",
       "      <td>1</td>\n",
       "      <td>0.299682</td>\n",
       "      <td>0.002974</td>\n",
       "      <td>0.155478</td>\n",
       "    </tr>\n",
       "    <tr>\n",
       "      <th>46</th>\n",
       "      <td>L=2, K=3, H=16</td>\n",
       "      <td>0.000091</td>\n",
       "      <td>3951690.0</td>\n",
       "      <td>0.3045</td>\n",
       "      <td>2</td>\n",
       "      <td>0.312893</td>\n",
       "      <td>0.000101</td>\n",
       "      <td>0.262745</td>\n",
       "    </tr>\n",
       "    <tr>\n",
       "      <th>15</th>\n",
       "      <td>L=1, K=7, H=64</td>\n",
       "      <td>0.000090</td>\n",
       "      <td>5169418.0</td>\n",
       "      <td>0.3303</td>\n",
       "      <td>1</td>\n",
       "      <td>0.602266</td>\n",
       "      <td>0.005785</td>\n",
       "      <td>0.155478</td>\n",
       "    </tr>\n",
       "    <tr>\n",
       "      <th>20</th>\n",
       "      <td>L=3, K=3, H=16</td>\n",
       "      <td>0.000105</td>\n",
       "      <td>7614538.0</td>\n",
       "      <td>0.4167</td>\n",
       "      <td>1</td>\n",
       "      <td>0.587572</td>\n",
       "      <td>0.000149</td>\n",
       "      <td>0.155478</td>\n",
       "    </tr>\n",
       "    <tr>\n",
       "      <th>55</th>\n",
       "      <td>L=2, K=5, H=16</td>\n",
       "      <td>0.000094</td>\n",
       "      <td>10775626.0</td>\n",
       "      <td>0.4510</td>\n",
       "      <td>3</td>\n",
       "      <td>0.446544</td>\n",
       "      <td>0.000443</td>\n",
       "      <td>0.393473</td>\n",
       "    </tr>\n",
       "    <tr>\n",
       "      <th>5</th>\n",
       "      <td>L=4, K=3, H=16</td>\n",
       "      <td>0.000114</td>\n",
       "      <td>11277386.0</td>\n",
       "      <td>0.6514</td>\n",
       "      <td>0</td>\n",
       "      <td>NaN</td>\n",
       "      <td>NaN</td>\n",
       "      <td>0.059947</td>\n",
       "    </tr>\n",
       "    <tr>\n",
       "      <th>0</th>\n",
       "      <td>L=5, K=3, H=16</td>\n",
       "      <td>0.000272</td>\n",
       "      <td>14940234.0</td>\n",
       "      <td>0.7085</td>\n",
       "      <td>0</td>\n",
       "      <td>NaN</td>\n",
       "      <td>NaN</td>\n",
       "      <td>0.059947</td>\n",
       "    </tr>\n",
       "    <tr>\n",
       "      <th>24</th>\n",
       "      <td>L=6, K=3, H=16</td>\n",
       "      <td>0.000133</td>\n",
       "      <td>18603082.0</td>\n",
       "      <td>0.7211</td>\n",
       "      <td>1</td>\n",
       "      <td>0.799245</td>\n",
       "      <td>0.000174</td>\n",
       "      <td>0.155478</td>\n",
       "    </tr>\n",
       "    <tr>\n",
       "      <th>47</th>\n",
       "      <td>L=3, K=5, H=16</td>\n",
       "      <td>0.000117</td>\n",
       "      <td>20861002.0</td>\n",
       "      <td>0.7473</td>\n",
       "      <td>2</td>\n",
       "      <td>0.543294</td>\n",
       "      <td>0.001922</td>\n",
       "      <td>0.262745</td>\n",
       "    </tr>\n",
       "    <tr>\n",
       "      <th>23</th>\n",
       "      <td>L=7, K=3, H=16</td>\n",
       "      <td>0.000144</td>\n",
       "      <td>22265930.0</td>\n",
       "      <td>0.7538</td>\n",
       "      <td>1</td>\n",
       "      <td>0.886456</td>\n",
       "      <td>0.000576</td>\n",
       "      <td>0.155478</td>\n",
       "    </tr>\n",
       "    <tr>\n",
       "      <th>17</th>\n",
       "      <td>L=9, K=3, H=16</td>\n",
       "      <td>0.000147</td>\n",
       "      <td>29591626.0</td>\n",
       "      <td>0.7907</td>\n",
       "      <td>1</td>\n",
       "      <td>0.979098</td>\n",
       "      <td>0.000137</td>\n",
       "      <td>0.155478</td>\n",
       "    </tr>\n",
       "    <tr>\n",
       "      <th>31</th>\n",
       "      <td>L=8, K=3, H=16</td>\n",
       "      <td>0.000153</td>\n",
       "      <td>25928778.0</td>\n",
       "      <td>0.8375</td>\n",
       "      <td>2</td>\n",
       "      <td>0.773204</td>\n",
       "      <td>0.000014</td>\n",
       "      <td>0.262745</td>\n",
       "    </tr>\n",
       "    <tr>\n",
       "      <th>30</th>\n",
       "      <td>L=4, K=5, H=16</td>\n",
       "      <td>0.000129</td>\n",
       "      <td>30946378.0</td>\n",
       "      <td>0.8742</td>\n",
       "      <td>2</td>\n",
       "      <td>0.763225</td>\n",
       "      <td>0.000907</td>\n",
       "      <td>0.262745</td>\n",
       "    </tr>\n",
       "    <tr>\n",
       "      <th>45</th>\n",
       "      <td>L=3, K=7, H=16</td>\n",
       "      <td>0.000398</td>\n",
       "      <td>40730698.0</td>\n",
       "      <td>0.9233</td>\n",
       "      <td>2</td>\n",
       "      <td>0.725047</td>\n",
       "      <td>0.001580</td>\n",
       "      <td>0.262745</td>\n",
       "    </tr>\n",
       "    <tr>\n",
       "      <th>41</th>\n",
       "      <td>L=6, K=5, H=16</td>\n",
       "      <td>0.000167</td>\n",
       "      <td>51117130.0</td>\n",
       "      <td>0.9536</td>\n",
       "      <td>2</td>\n",
       "      <td>0.953731</td>\n",
       "      <td>0.000092</td>\n",
       "      <td>0.262745</td>\n",
       "    </tr>\n",
       "    <tr>\n",
       "      <th>38</th>\n",
       "      <td>L=5, K=5, H=16</td>\n",
       "      <td>0.000170</td>\n",
       "      <td>41031754.0</td>\n",
       "      <td>0.9569</td>\n",
       "      <td>2</td>\n",
       "      <td>0.906938</td>\n",
       "      <td>0.000563</td>\n",
       "      <td>0.262745</td>\n",
       "    </tr>\n",
       "    <tr>\n",
       "      <th>51</th>\n",
       "      <td>L=4, K=7, H=16</td>\n",
       "      <td>0.000189</td>\n",
       "      <td>60449866.0</td>\n",
       "      <td>0.9570</td>\n",
       "      <td>3</td>\n",
       "      <td>0.971134</td>\n",
       "      <td>0.000025</td>\n",
       "      <td>0.393473</td>\n",
       "    </tr>\n",
       "    <tr>\n",
       "      <th>28</th>\n",
       "      <td>L=7, K=3, H=32</td>\n",
       "      <td>0.000193</td>\n",
       "      <td>87883914.0</td>\n",
       "      <td>0.9673</td>\n",
       "      <td>1</td>\n",
       "      <td>0.972595</td>\n",
       "      <td>0.000003</td>\n",
       "      <td>0.155478</td>\n",
       "    </tr>\n",
       "    <tr>\n",
       "      <th>2</th>\n",
       "      <td>L=7, K=5, H=16</td>\n",
       "      <td>0.000200</td>\n",
       "      <td>61202506.0</td>\n",
       "      <td>0.9714</td>\n",
       "      <td>0</td>\n",
       "      <td>NaN</td>\n",
       "      <td>NaN</td>\n",
       "      <td>0.059947</td>\n",
       "    </tr>\n",
       "    <tr>\n",
       "      <th>57</th>\n",
       "      <td>L=9, K=5, H=16</td>\n",
       "      <td>0.000227</td>\n",
       "      <td>81373258.0</td>\n",
       "      <td>0.9751</td>\n",
       "      <td>3</td>\n",
       "      <td>0.967726</td>\n",
       "      <td>0.000004</td>\n",
       "      <td>0.393473</td>\n",
       "    </tr>\n",
       "    <tr>\n",
       "      <th>25</th>\n",
       "      <td>L=10, K=5, H=16</td>\n",
       "      <td>0.000244</td>\n",
       "      <td>91458634.0</td>\n",
       "      <td>0.9784</td>\n",
       "      <td>1</td>\n",
       "      <td>1.006564</td>\n",
       "      <td>0.000043</td>\n",
       "      <td>0.155478</td>\n",
       "    </tr>\n",
       "    <tr>\n",
       "      <th>53</th>\n",
       "      <td>L=10, K=3, H=32</td>\n",
       "      <td>0.000275</td>\n",
       "      <td>131537034.0</td>\n",
       "      <td>0.9792</td>\n",
       "      <td>3</td>\n",
       "      <td>0.977563</td>\n",
       "      <td>0.000043</td>\n",
       "      <td>0.393473</td>\n",
       "    </tr>\n",
       "    <tr>\n",
       "      <th>6</th>\n",
       "      <td>L=7, K=7, H=16</td>\n",
       "      <td>0.000287</td>\n",
       "      <td>119607370.0</td>\n",
       "      <td>0.9793</td>\n",
       "      <td>0</td>\n",
       "      <td>NaN</td>\n",
       "      <td>NaN</td>\n",
       "      <td>0.059947</td>\n",
       "    </tr>\n",
       "    <tr>\n",
       "      <th>65</th>\n",
       "      <td>L=9, K=7, H=16</td>\n",
       "      <td>0.000363</td>\n",
       "      <td>159045706.0</td>\n",
       "      <td>0.9810</td>\n",
       "      <td>4</td>\n",
       "      <td>0.941756</td>\n",
       "      <td>0.000016</td>\n",
       "      <td>0.402460</td>\n",
       "    </tr>\n",
       "    <tr>\n",
       "      <th>63</th>\n",
       "      <td>L=4, K=7, H=32</td>\n",
       "      <td>0.000436</td>\n",
       "      <td>238913674.0</td>\n",
       "      <td>0.9822</td>\n",
       "      <td>4</td>\n",
       "      <td>0.980534</td>\n",
       "      <td>0.000009</td>\n",
       "      <td>0.402460</td>\n",
       "    </tr>\n",
       "    <tr>\n",
       "      <th>54</th>\n",
       "      <td>L=8, K=5, H=32</td>\n",
       "      <td>0.000402</td>\n",
       "      <td>283068554.0</td>\n",
       "      <td>0.9863</td>\n",
       "      <td>3</td>\n",
       "      <td>0.966136</td>\n",
       "      <td>0.000119</td>\n",
       "      <td>0.393473</td>\n",
       "    </tr>\n",
       "    <tr>\n",
       "      <th>35</th>\n",
       "      <td>L=7, K=3, H=64</td>\n",
       "      <td>0.000623</td>\n",
       "      <td>349176074.0</td>\n",
       "      <td>0.9871</td>\n",
       "      <td>2</td>\n",
       "      <td>0.993294</td>\n",
       "      <td>0.000136</td>\n",
       "      <td>0.262745</td>\n",
       "    </tr>\n",
       "    <tr>\n",
       "      <th>36</th>\n",
       "      <td>L=9, K=3, H=64</td>\n",
       "      <td>0.000615</td>\n",
       "      <td>465182986.0</td>\n",
       "      <td>0.9879</td>\n",
       "      <td>2</td>\n",
       "      <td>1.016683</td>\n",
       "      <td>0.000396</td>\n",
       "      <td>0.262745</td>\n",
       "    </tr>\n",
       "    <tr>\n",
       "      <th>58</th>\n",
       "      <td>L=10, K=3, H=64</td>\n",
       "      <td>0.000810</td>\n",
       "      <td>523186442.0</td>\n",
       "      <td>0.9889</td>\n",
       "      <td>3</td>\n",
       "      <td>0.994421</td>\n",
       "      <td>0.000030</td>\n",
       "      <td>0.393473</td>\n",
       "    </tr>\n",
       "    <tr>\n",
       "      <th>7</th>\n",
       "      <td>L=10, K=7, H=32</td>\n",
       "      <td>0.001719</td>\n",
       "      <td>711571594.0</td>\n",
       "      <td>0.9896</td>\n",
       "      <td>0</td>\n",
       "      <td>NaN</td>\n",
       "      <td>NaN</td>\n",
       "      <td>0.059947</td>\n",
       "    </tr>\n",
       "    <tr>\n",
       "      <th>19</th>\n",
       "      <td>L=7, K=5, H=64</td>\n",
       "      <td>0.001365</td>\n",
       "      <td>967344394.0</td>\n",
       "      <td>0.9915</td>\n",
       "      <td>1</td>\n",
       "      <td>1.019391</td>\n",
       "      <td>0.000440</td>\n",
       "      <td>0.155478</td>\n",
       "    </tr>\n",
       "  </tbody>\n",
       "</table>\n",
       "</div>"
      ],
      "text/plain": [
       "             archid  ONNX Latency (ms)        FLOPs  \\\n",
       "14   L=1, K=3, H=16           0.000059     288842.0   \n",
       "42   L=1, K=5, H=16           0.000067     690250.0   \n",
       "32   L=1, K=3, H=32           0.000075     577674.0   \n",
       "34   L=1, K=3, H=64           0.000076    1155338.0   \n",
       "22   L=1, K=7, H=16           0.000071    1292362.0   \n",
       "46   L=2, K=3, H=16           0.000091    3951690.0   \n",
       "15   L=1, K=7, H=64           0.000090    5169418.0   \n",
       "20   L=3, K=3, H=16           0.000105    7614538.0   \n",
       "55   L=2, K=5, H=16           0.000094   10775626.0   \n",
       "5    L=4, K=3, H=16           0.000114   11277386.0   \n",
       "0    L=5, K=3, H=16           0.000272   14940234.0   \n",
       "24   L=6, K=3, H=16           0.000133   18603082.0   \n",
       "47   L=3, K=5, H=16           0.000117   20861002.0   \n",
       "23   L=7, K=3, H=16           0.000144   22265930.0   \n",
       "17   L=9, K=3, H=16           0.000147   29591626.0   \n",
       "31   L=8, K=3, H=16           0.000153   25928778.0   \n",
       "30   L=4, K=5, H=16           0.000129   30946378.0   \n",
       "45   L=3, K=7, H=16           0.000398   40730698.0   \n",
       "41   L=6, K=5, H=16           0.000167   51117130.0   \n",
       "38   L=5, K=5, H=16           0.000170   41031754.0   \n",
       "51   L=4, K=7, H=16           0.000189   60449866.0   \n",
       "28   L=7, K=3, H=32           0.000193   87883914.0   \n",
       "2    L=7, K=5, H=16           0.000200   61202506.0   \n",
       "57   L=9, K=5, H=16           0.000227   81373258.0   \n",
       "25  L=10, K=5, H=16           0.000244   91458634.0   \n",
       "53  L=10, K=3, H=32           0.000275  131537034.0   \n",
       "6    L=7, K=7, H=16           0.000287  119607370.0   \n",
       "65   L=9, K=7, H=16           0.000363  159045706.0   \n",
       "63   L=4, K=7, H=32           0.000436  238913674.0   \n",
       "54   L=8, K=5, H=32           0.000402  283068554.0   \n",
       "35   L=7, K=3, H=64           0.000623  349176074.0   \n",
       "36   L=9, K=3, H=64           0.000615  465182986.0   \n",
       "58  L=10, K=3, H=64           0.000810  523186442.0   \n",
       "7   L=10, K=7, H=32           0.001719  711571594.0   \n",
       "19   L=7, K=5, H=64           0.001365  967344394.0   \n",
       "\n",
       "    Partial training Validation Accuracy (1 epoch)  iteration_num  \\\n",
       "14                                          0.2225              1   \n",
       "42                                          0.2366              2   \n",
       "32                                          0.2473              2   \n",
       "34                                          0.2483              2   \n",
       "22                                          0.2929              1   \n",
       "46                                          0.3045              2   \n",
       "15                                          0.3303              1   \n",
       "20                                          0.4167              1   \n",
       "55                                          0.4510              3   \n",
       "5                                           0.6514              0   \n",
       "0                                           0.7085              0   \n",
       "24                                          0.7211              1   \n",
       "47                                          0.7473              2   \n",
       "23                                          0.7538              1   \n",
       "17                                          0.7907              1   \n",
       "31                                          0.8375              2   \n",
       "30                                          0.8742              2   \n",
       "45                                          0.9233              2   \n",
       "41                                          0.9536              2   \n",
       "38                                          0.9569              2   \n",
       "51                                          0.9570              3   \n",
       "28                                          0.9673              1   \n",
       "2                                           0.9714              0   \n",
       "57                                          0.9751              3   \n",
       "25                                          0.9784              1   \n",
       "53                                          0.9792              3   \n",
       "6                                           0.9793              0   \n",
       "65                                          0.9810              4   \n",
       "63                                          0.9822              4   \n",
       "54                                          0.9863              3   \n",
       "35                                          0.9871              2   \n",
       "36                                          0.9879              2   \n",
       "58                                          0.9889              3   \n",
       "7                                           0.9896              0   \n",
       "19                                          0.9915              1   \n",
       "\n",
       "    Predicted Partial training Validation Accuracy (1 epoch) mean  \\\n",
       "14                                           0.475666               \n",
       "42                                           0.245449               \n",
       "32                                           0.260814               \n",
       "34                                           0.535216               \n",
       "22                                           0.299682               \n",
       "46                                           0.312893               \n",
       "15                                           0.602266               \n",
       "20                                           0.587572               \n",
       "55                                           0.446544               \n",
       "5                                                 NaN               \n",
       "0                                                 NaN               \n",
       "24                                           0.799245               \n",
       "47                                           0.543294               \n",
       "23                                           0.886456               \n",
       "17                                           0.979098               \n",
       "31                                           0.773204               \n",
       "30                                           0.763225               \n",
       "45                                           0.725047               \n",
       "41                                           0.953731               \n",
       "38                                           0.906938               \n",
       "51                                           0.971134               \n",
       "28                                           0.972595               \n",
       "2                                                 NaN               \n",
       "57                                           0.967726               \n",
       "25                                           1.006564               \n",
       "53                                           0.977563               \n",
       "6                                                 NaN               \n",
       "65                                           0.941756               \n",
       "63                                           0.980534               \n",
       "54                                           0.966136               \n",
       "35                                           0.993294               \n",
       "36                                           1.016683               \n",
       "58                                           0.994421               \n",
       "7                                                 NaN               \n",
       "19                                           1.019391               \n",
       "\n",
       "    Predicted Partial training Validation Accuracy (1 epoch) var  \\\n",
       "14                                           0.002211              \n",
       "42                                           0.000204              \n",
       "32                                           0.000564              \n",
       "34                                           0.015243              \n",
       "22                                           0.002974              \n",
       "46                                           0.000101              \n",
       "15                                           0.005785              \n",
       "20                                           0.000149              \n",
       "55                                           0.000443              \n",
       "5                                                 NaN              \n",
       "0                                                 NaN              \n",
       "24                                           0.000174              \n",
       "47                                           0.001922              \n",
       "23                                           0.000576              \n",
       "17                                           0.000137              \n",
       "31                                           0.000014              \n",
       "30                                           0.000907              \n",
       "45                                           0.001580              \n",
       "41                                           0.000092              \n",
       "38                                           0.000563              \n",
       "51                                           0.000025              \n",
       "28                                           0.000003              \n",
       "2                                                 NaN              \n",
       "57                                           0.000004              \n",
       "25                                           0.000043              \n",
       "53                                           0.000043              \n",
       "6                                                 NaN              \n",
       "65                                           0.000016              \n",
       "63                                           0.000009              \n",
       "54                                           0.000119              \n",
       "35                                           0.000136              \n",
       "36                                           0.000396              \n",
       "58                                           0.000030              \n",
       "7                                                 NaN              \n",
       "19                                           0.000440              \n",
       "\n",
       "    search_walltime_hours  \n",
       "14               0.155478  \n",
       "42               0.262745  \n",
       "32               0.262745  \n",
       "34               0.262745  \n",
       "22               0.155478  \n",
       "46               0.262745  \n",
       "15               0.155478  \n",
       "20               0.155478  \n",
       "55               0.393473  \n",
       "5                0.059947  \n",
       "0                0.059947  \n",
       "24               0.155478  \n",
       "47               0.262745  \n",
       "23               0.155478  \n",
       "17               0.155478  \n",
       "31               0.262745  \n",
       "30               0.262745  \n",
       "45               0.262745  \n",
       "41               0.262745  \n",
       "38               0.262745  \n",
       "51               0.393473  \n",
       "28               0.155478  \n",
       "2                0.059947  \n",
       "57               0.393473  \n",
       "25               0.155478  \n",
       "53               0.393473  \n",
       "6                0.059947  \n",
       "65               0.402460  \n",
       "63               0.402460  \n",
       "54               0.393473  \n",
       "35               0.262745  \n",
       "36               0.262745  \n",
       "58               0.393473  \n",
       "7                0.059947  \n",
       "19               0.155478  "
      ]
     },
     "execution_count": 37,
     "metadata": {},
     "output_type": "execute_result"
    }
   ],
   "source": [
    "# NBVAL_SKIP\n",
    "results_df2 = search_results2.get_search_state_df()\n",
    "results_df2.query('is_pareto').sort_values('Partial training Validation Accuracy (1 epoch)').drop(columns=['is_pareto'])"
   ]
  },
  {
   "cell_type": "markdown",
   "id": "b6f69151",
   "metadata": {},
   "source": [
    "Let's use [plotly](https://plotly.com/) to compare the final pareto frontiers of both algorithms:"
   ]
  },
  {
   "cell_type": "code",
   "execution_count": 38,
   "id": "221c43a7",
   "metadata": {
    "tags": []
   },
   "outputs": [
    {
     "name": "stdout",
     "output_type": "stream",
     "text": [
      "Requirement already satisfied: plotly in d:\\anaconda3\\envs\\archai\\lib\\site-packages (5.13.0)\n",
      "Requirement already satisfied: tenacity>=6.2.0 in d:\\anaconda3\\envs\\archai\\lib\\site-packages (from plotly) (8.2.1)\n",
      "Note: you may need to restart the kernel to use updated packages.\n"
     ]
    },
    {
     "data": {
      "application/vnd.plotly.v1+json": {
       "config": {
        "plotlyServerURL": "https://plot.ly"
       },
       "data": [
        {
         "hovertemplate": "<b>%{hovertext}</b><br><br>algo=Evolution Pareto<br>ONNX Latency (ms)=%{x}<br>Partial training Validation Accuracy (1 epoch)=%{y}<extra></extra>",
         "hovertext": [
          "L=4, K=7, H=16",
          "L=6, K=3, H=16",
          "L=1, K=7, H=64",
          "L=1, K=7, H=16",
          "L=4, K=5, H=16",
          "L=4, K=3, H=16",
          "L=3, K=7, H=16",
          "L=2, K=5, H=16",
          "L=9, K=7, H=16",
          "L=7, K=7, H=32",
          "L=5, K=3, H=16",
          "L=1, K=5, H=16",
          "L=7, K=3, H=64",
          "L=9, K=5, H=32",
          "L=10, K=7, H=16",
          "L=7, K=5, H=16",
          "L=8, K=3, H=16",
          "L=2, K=3, H=16",
          "L=10, K=5, H=16",
          "L=3, K=5, H=16",
          "L=6, K=5, H=32",
          "L=5, K=5, H=16",
          "L=9, K=5, H=16"
         ],
         "legendgroup": "Evolution Pareto",
         "marker": {
          "color": "#636efa",
          "symbol": "circle"
         },
         "mode": "markers",
         "name": "Evolution Pareto",
         "orientation": "v",
         "showlegend": true,
         "type": "scatter",
         "x": [
          0.00018876666581491008,
          0.00013293333419521028,
          9.016666444949806e-05,
          7.083333184709772e-05,
          0.0001287333337434878,
          0.00011403333094979946,
          0.00039819999801693484,
          9.393333554423104e-05,
          0.0003625000050912301,
          0.0012664666670995455,
          0.00027226667104211327,
          6.666666740784422e-05,
          0.0006233666669383334,
          0.0005367333360482007,
          0.0010762333331513219,
          0.00019986666787493354,
          0.00015316666637469703,
          9.146666707238182e-05,
          0.00024359999709607413,
          0.00011656666659594823,
          0.0003720333309805331,
          0.00017023333445346603,
          0.00022666666336590424
         ],
         "xaxis": "x",
         "y": [
          0.957,
          0.7211,
          0.3303,
          0.2929,
          0.8742,
          0.6514,
          0.9233,
          0.451,
          0.981,
          0.9905,
          0.7085,
          0.2366,
          0.9871,
          0.9846,
          0.9831,
          0.9714,
          0.8375,
          0.3045,
          0.9784,
          0.7473,
          0.983,
          0.9569,
          0.9751
         ],
         "yaxis": "y"
        },
        {
         "hovertemplate": "<b>%{hovertext}</b><br><br>algo=Mo-BANANAS<br>ONNX Latency (ms)=%{x}<br>Partial training Validation Accuracy (1 epoch)=%{y}<extra></extra>",
         "hovertext": [
          "L=5, K=3, H=16",
          "L=7, K=5, H=16",
          "L=4, K=3, H=16",
          "L=7, K=7, H=16",
          "L=10, K=7, H=32",
          "L=1, K=3, H=16",
          "L=1, K=7, H=64",
          "L=9, K=3, H=16",
          "L=7, K=5, H=64",
          "L=3, K=3, H=16",
          "L=1, K=7, H=16",
          "L=7, K=3, H=16",
          "L=6, K=3, H=16",
          "L=10, K=5, H=16",
          "L=7, K=3, H=32",
          "L=4, K=5, H=16",
          "L=8, K=3, H=16",
          "L=1, K=3, H=32",
          "L=1, K=3, H=64",
          "L=7, K=3, H=64",
          "L=9, K=3, H=64",
          "L=5, K=5, H=16",
          "L=6, K=5, H=16",
          "L=1, K=5, H=16",
          "L=3, K=7, H=16",
          "L=2, K=3, H=16",
          "L=3, K=5, H=16",
          "L=4, K=7, H=16",
          "L=10, K=3, H=32",
          "L=8, K=5, H=32",
          "L=2, K=5, H=16",
          "L=9, K=5, H=16",
          "L=10, K=3, H=64",
          "L=4, K=7, H=32",
          "L=9, K=7, H=16"
         ],
         "legendgroup": "Mo-BANANAS",
         "marker": {
          "color": "#EF553B",
          "symbol": "circle"
         },
         "mode": "markers",
         "name": "Mo-BANANAS",
         "orientation": "v",
         "showlegend": true,
         "type": "scatter",
         "x": [
          0.00027226667104211327,
          0.00019986666787493354,
          0.00011403333094979946,
          0.0002865000011903855,
          0.0017190666670406547,
          5.876666788632671e-05,
          9.016666444949806e-05,
          0.0001474666642025113,
          0.0013653000011496867,
          0.00010546665968528639,
          7.083333184709772e-05,
          0.0001443666648507739,
          0.00013293333419521028,
          0.00024359999709607413,
          0.00019336666931242993,
          0.0001287333337434878,
          0.00015316666637469703,
          7.520000023456912e-05,
          7.576666636547695e-05,
          0.0006233666669383334,
          0.0006151666699831063,
          0.00017023333445346603,
          0.00016666666488163173,
          6.666666740784422e-05,
          0.00039819999801693484,
          9.146666707238182e-05,
          0.00011656666659594823,
          0.00018876666581491008,
          0.0002745666667275752,
          0.0004019666666863486,
          9.393333554423104e-05,
          0.00022666666336590424,
          0.0008099333305532733,
          0.00043573333095991984,
          0.0003625000050912301
         ],
         "xaxis": "x2",
         "y": [
          0.7085,
          0.9714,
          0.6514,
          0.9793,
          0.9896,
          0.2225,
          0.3303,
          0.7907,
          0.9915,
          0.4167,
          0.2929,
          0.7538,
          0.7211,
          0.9784,
          0.9673,
          0.8742,
          0.8375,
          0.2473,
          0.2483,
          0.9871,
          0.9879,
          0.9569,
          0.9536,
          0.2366,
          0.9233,
          0.3045,
          0.7473,
          0.957,
          0.9792,
          0.9863,
          0.451,
          0.9751,
          0.9889,
          0.9822,
          0.981
         ],
         "yaxis": "y2"
        }
       ],
       "layout": {
        "annotations": [
         {
          "showarrow": false,
          "text": "algo=Evolution Pareto",
          "x": 0.245,
          "xanchor": "center",
          "xref": "paper",
          "y": 1,
          "yanchor": "bottom",
          "yref": "paper"
         },
         {
          "showarrow": false,
          "text": "algo=Mo-BANANAS",
          "x": 0.755,
          "xanchor": "center",
          "xref": "paper",
          "y": 1,
          "yanchor": "bottom",
          "yref": "paper"
         }
        ],
        "legend": {
         "title": {
          "text": "algo"
         },
         "tracegroupgap": 0
        },
        "margin": {
         "t": 60
        },
        "showlegend": false,
        "template": {
         "data": {
          "bar": [
           {
            "error_x": {
             "color": "#2a3f5f"
            },
            "error_y": {
             "color": "#2a3f5f"
            },
            "marker": {
             "line": {
              "color": "#E5ECF6",
              "width": 0.5
             },
             "pattern": {
              "fillmode": "overlay",
              "size": 10,
              "solidity": 0.2
             }
            },
            "type": "bar"
           }
          ],
          "barpolar": [
           {
            "marker": {
             "line": {
              "color": "#E5ECF6",
              "width": 0.5
             },
             "pattern": {
              "fillmode": "overlay",
              "size": 10,
              "solidity": 0.2
             }
            },
            "type": "barpolar"
           }
          ],
          "carpet": [
           {
            "aaxis": {
             "endlinecolor": "#2a3f5f",
             "gridcolor": "white",
             "linecolor": "white",
             "minorgridcolor": "white",
             "startlinecolor": "#2a3f5f"
            },
            "baxis": {
             "endlinecolor": "#2a3f5f",
             "gridcolor": "white",
             "linecolor": "white",
             "minorgridcolor": "white",
             "startlinecolor": "#2a3f5f"
            },
            "type": "carpet"
           }
          ],
          "choropleth": [
           {
            "colorbar": {
             "outlinewidth": 0,
             "ticks": ""
            },
            "type": "choropleth"
           }
          ],
          "contour": [
           {
            "colorbar": {
             "outlinewidth": 0,
             "ticks": ""
            },
            "colorscale": [
             [
              0,
              "#0d0887"
             ],
             [
              0.1111111111111111,
              "#46039f"
             ],
             [
              0.2222222222222222,
              "#7201a8"
             ],
             [
              0.3333333333333333,
              "#9c179e"
             ],
             [
              0.4444444444444444,
              "#bd3786"
             ],
             [
              0.5555555555555556,
              "#d8576b"
             ],
             [
              0.6666666666666666,
              "#ed7953"
             ],
             [
              0.7777777777777778,
              "#fb9f3a"
             ],
             [
              0.8888888888888888,
              "#fdca26"
             ],
             [
              1,
              "#f0f921"
             ]
            ],
            "type": "contour"
           }
          ],
          "contourcarpet": [
           {
            "colorbar": {
             "outlinewidth": 0,
             "ticks": ""
            },
            "type": "contourcarpet"
           }
          ],
          "heatmap": [
           {
            "colorbar": {
             "outlinewidth": 0,
             "ticks": ""
            },
            "colorscale": [
             [
              0,
              "#0d0887"
             ],
             [
              0.1111111111111111,
              "#46039f"
             ],
             [
              0.2222222222222222,
              "#7201a8"
             ],
             [
              0.3333333333333333,
              "#9c179e"
             ],
             [
              0.4444444444444444,
              "#bd3786"
             ],
             [
              0.5555555555555556,
              "#d8576b"
             ],
             [
              0.6666666666666666,
              "#ed7953"
             ],
             [
              0.7777777777777778,
              "#fb9f3a"
             ],
             [
              0.8888888888888888,
              "#fdca26"
             ],
             [
              1,
              "#f0f921"
             ]
            ],
            "type": "heatmap"
           }
          ],
          "heatmapgl": [
           {
            "colorbar": {
             "outlinewidth": 0,
             "ticks": ""
            },
            "colorscale": [
             [
              0,
              "#0d0887"
             ],
             [
              0.1111111111111111,
              "#46039f"
             ],
             [
              0.2222222222222222,
              "#7201a8"
             ],
             [
              0.3333333333333333,
              "#9c179e"
             ],
             [
              0.4444444444444444,
              "#bd3786"
             ],
             [
              0.5555555555555556,
              "#d8576b"
             ],
             [
              0.6666666666666666,
              "#ed7953"
             ],
             [
              0.7777777777777778,
              "#fb9f3a"
             ],
             [
              0.8888888888888888,
              "#fdca26"
             ],
             [
              1,
              "#f0f921"
             ]
            ],
            "type": "heatmapgl"
           }
          ],
          "histogram": [
           {
            "marker": {
             "pattern": {
              "fillmode": "overlay",
              "size": 10,
              "solidity": 0.2
             }
            },
            "type": "histogram"
           }
          ],
          "histogram2d": [
           {
            "colorbar": {
             "outlinewidth": 0,
             "ticks": ""
            },
            "colorscale": [
             [
              0,
              "#0d0887"
             ],
             [
              0.1111111111111111,
              "#46039f"
             ],
             [
              0.2222222222222222,
              "#7201a8"
             ],
             [
              0.3333333333333333,
              "#9c179e"
             ],
             [
              0.4444444444444444,
              "#bd3786"
             ],
             [
              0.5555555555555556,
              "#d8576b"
             ],
             [
              0.6666666666666666,
              "#ed7953"
             ],
             [
              0.7777777777777778,
              "#fb9f3a"
             ],
             [
              0.8888888888888888,
              "#fdca26"
             ],
             [
              1,
              "#f0f921"
             ]
            ],
            "type": "histogram2d"
           }
          ],
          "histogram2dcontour": [
           {
            "colorbar": {
             "outlinewidth": 0,
             "ticks": ""
            },
            "colorscale": [
             [
              0,
              "#0d0887"
             ],
             [
              0.1111111111111111,
              "#46039f"
             ],
             [
              0.2222222222222222,
              "#7201a8"
             ],
             [
              0.3333333333333333,
              "#9c179e"
             ],
             [
              0.4444444444444444,
              "#bd3786"
             ],
             [
              0.5555555555555556,
              "#d8576b"
             ],
             [
              0.6666666666666666,
              "#ed7953"
             ],
             [
              0.7777777777777778,
              "#fb9f3a"
             ],
             [
              0.8888888888888888,
              "#fdca26"
             ],
             [
              1,
              "#f0f921"
             ]
            ],
            "type": "histogram2dcontour"
           }
          ],
          "mesh3d": [
           {
            "colorbar": {
             "outlinewidth": 0,
             "ticks": ""
            },
            "type": "mesh3d"
           }
          ],
          "parcoords": [
           {
            "line": {
             "colorbar": {
              "outlinewidth": 0,
              "ticks": ""
             }
            },
            "type": "parcoords"
           }
          ],
          "pie": [
           {
            "automargin": true,
            "type": "pie"
           }
          ],
          "scatter": [
           {
            "fillpattern": {
             "fillmode": "overlay",
             "size": 10,
             "solidity": 0.2
            },
            "type": "scatter"
           }
          ],
          "scatter3d": [
           {
            "line": {
             "colorbar": {
              "outlinewidth": 0,
              "ticks": ""
             }
            },
            "marker": {
             "colorbar": {
              "outlinewidth": 0,
              "ticks": ""
             }
            },
            "type": "scatter3d"
           }
          ],
          "scattercarpet": [
           {
            "marker": {
             "colorbar": {
              "outlinewidth": 0,
              "ticks": ""
             }
            },
            "type": "scattercarpet"
           }
          ],
          "scattergeo": [
           {
            "marker": {
             "colorbar": {
              "outlinewidth": 0,
              "ticks": ""
             }
            },
            "type": "scattergeo"
           }
          ],
          "scattergl": [
           {
            "marker": {
             "colorbar": {
              "outlinewidth": 0,
              "ticks": ""
             }
            },
            "type": "scattergl"
           }
          ],
          "scattermapbox": [
           {
            "marker": {
             "colorbar": {
              "outlinewidth": 0,
              "ticks": ""
             }
            },
            "type": "scattermapbox"
           }
          ],
          "scatterpolar": [
           {
            "marker": {
             "colorbar": {
              "outlinewidth": 0,
              "ticks": ""
             }
            },
            "type": "scatterpolar"
           }
          ],
          "scatterpolargl": [
           {
            "marker": {
             "colorbar": {
              "outlinewidth": 0,
              "ticks": ""
             }
            },
            "type": "scatterpolargl"
           }
          ],
          "scatterternary": [
           {
            "marker": {
             "colorbar": {
              "outlinewidth": 0,
              "ticks": ""
             }
            },
            "type": "scatterternary"
           }
          ],
          "surface": [
           {
            "colorbar": {
             "outlinewidth": 0,
             "ticks": ""
            },
            "colorscale": [
             [
              0,
              "#0d0887"
             ],
             [
              0.1111111111111111,
              "#46039f"
             ],
             [
              0.2222222222222222,
              "#7201a8"
             ],
             [
              0.3333333333333333,
              "#9c179e"
             ],
             [
              0.4444444444444444,
              "#bd3786"
             ],
             [
              0.5555555555555556,
              "#d8576b"
             ],
             [
              0.6666666666666666,
              "#ed7953"
             ],
             [
              0.7777777777777778,
              "#fb9f3a"
             ],
             [
              0.8888888888888888,
              "#fdca26"
             ],
             [
              1,
              "#f0f921"
             ]
            ],
            "type": "surface"
           }
          ],
          "table": [
           {
            "cells": {
             "fill": {
              "color": "#EBF0F8"
             },
             "line": {
              "color": "white"
             }
            },
            "header": {
             "fill": {
              "color": "#C8D4E3"
             },
             "line": {
              "color": "white"
             }
            },
            "type": "table"
           }
          ]
         },
         "layout": {
          "annotationdefaults": {
           "arrowcolor": "#2a3f5f",
           "arrowhead": 0,
           "arrowwidth": 1
          },
          "autotypenumbers": "strict",
          "coloraxis": {
           "colorbar": {
            "outlinewidth": 0,
            "ticks": ""
           }
          },
          "colorscale": {
           "diverging": [
            [
             0,
             "#8e0152"
            ],
            [
             0.1,
             "#c51b7d"
            ],
            [
             0.2,
             "#de77ae"
            ],
            [
             0.3,
             "#f1b6da"
            ],
            [
             0.4,
             "#fde0ef"
            ],
            [
             0.5,
             "#f7f7f7"
            ],
            [
             0.6,
             "#e6f5d0"
            ],
            [
             0.7,
             "#b8e186"
            ],
            [
             0.8,
             "#7fbc41"
            ],
            [
             0.9,
             "#4d9221"
            ],
            [
             1,
             "#276419"
            ]
           ],
           "sequential": [
            [
             0,
             "#0d0887"
            ],
            [
             0.1111111111111111,
             "#46039f"
            ],
            [
             0.2222222222222222,
             "#7201a8"
            ],
            [
             0.3333333333333333,
             "#9c179e"
            ],
            [
             0.4444444444444444,
             "#bd3786"
            ],
            [
             0.5555555555555556,
             "#d8576b"
            ],
            [
             0.6666666666666666,
             "#ed7953"
            ],
            [
             0.7777777777777778,
             "#fb9f3a"
            ],
            [
             0.8888888888888888,
             "#fdca26"
            ],
            [
             1,
             "#f0f921"
            ]
           ],
           "sequentialminus": [
            [
             0,
             "#0d0887"
            ],
            [
             0.1111111111111111,
             "#46039f"
            ],
            [
             0.2222222222222222,
             "#7201a8"
            ],
            [
             0.3333333333333333,
             "#9c179e"
            ],
            [
             0.4444444444444444,
             "#bd3786"
            ],
            [
             0.5555555555555556,
             "#d8576b"
            ],
            [
             0.6666666666666666,
             "#ed7953"
            ],
            [
             0.7777777777777778,
             "#fb9f3a"
            ],
            [
             0.8888888888888888,
             "#fdca26"
            ],
            [
             1,
             "#f0f921"
            ]
           ]
          },
          "colorway": [
           "#636efa",
           "#EF553B",
           "#00cc96",
           "#ab63fa",
           "#FFA15A",
           "#19d3f3",
           "#FF6692",
           "#B6E880",
           "#FF97FF",
           "#FECB52"
          ],
          "font": {
           "color": "#2a3f5f"
          },
          "geo": {
           "bgcolor": "white",
           "lakecolor": "white",
           "landcolor": "#E5ECF6",
           "showlakes": true,
           "showland": true,
           "subunitcolor": "white"
          },
          "hoverlabel": {
           "align": "left"
          },
          "hovermode": "closest",
          "mapbox": {
           "style": "light"
          },
          "paper_bgcolor": "white",
          "plot_bgcolor": "#E5ECF6",
          "polar": {
           "angularaxis": {
            "gridcolor": "white",
            "linecolor": "white",
            "ticks": ""
           },
           "bgcolor": "#E5ECF6",
           "radialaxis": {
            "gridcolor": "white",
            "linecolor": "white",
            "ticks": ""
           }
          },
          "scene": {
           "xaxis": {
            "backgroundcolor": "#E5ECF6",
            "gridcolor": "white",
            "gridwidth": 2,
            "linecolor": "white",
            "showbackground": true,
            "ticks": "",
            "zerolinecolor": "white"
           },
           "yaxis": {
            "backgroundcolor": "#E5ECF6",
            "gridcolor": "white",
            "gridwidth": 2,
            "linecolor": "white",
            "showbackground": true,
            "ticks": "",
            "zerolinecolor": "white"
           },
           "zaxis": {
            "backgroundcolor": "#E5ECF6",
            "gridcolor": "white",
            "gridwidth": 2,
            "linecolor": "white",
            "showbackground": true,
            "ticks": "",
            "zerolinecolor": "white"
           }
          },
          "shapedefaults": {
           "line": {
            "color": "#2a3f5f"
           }
          },
          "ternary": {
           "aaxis": {
            "gridcolor": "white",
            "linecolor": "white",
            "ticks": ""
           },
           "baxis": {
            "gridcolor": "white",
            "linecolor": "white",
            "ticks": ""
           },
           "bgcolor": "#E5ECF6",
           "caxis": {
            "gridcolor": "white",
            "linecolor": "white",
            "ticks": ""
           }
          },
          "title": {
           "x": 0.05
          },
          "xaxis": {
           "automargin": true,
           "gridcolor": "white",
           "linecolor": "white",
           "ticks": "",
           "title": {
            "standoff": 15
           },
           "zerolinecolor": "white",
           "zerolinewidth": 2
          },
          "yaxis": {
           "automargin": true,
           "gridcolor": "white",
           "linecolor": "white",
           "ticks": "",
           "title": {
            "standoff": 15
           },
           "zerolinecolor": "white",
           "zerolinewidth": 2
          }
         }
        },
        "xaxis": {
         "anchor": "y",
         "domain": [
          0,
          0.49
         ],
         "title": {
          "text": "ONNX Latency (ms)"
         }
        },
        "xaxis2": {
         "anchor": "y2",
         "domain": [
          0.51,
          1
         ],
         "matches": "x",
         "title": {
          "text": "ONNX Latency (ms)"
         }
        },
        "yaxis": {
         "anchor": "x",
         "domain": [
          0,
          1
         ],
         "title": {
          "text": "Partial training Validation Accuracy (1 epoch)"
         }
        },
        "yaxis2": {
         "anchor": "x2",
         "domain": [
          0,
          1
         ],
         "matches": "y",
         "showticklabels": false
        }
       }
      }
     },
     "metadata": {},
     "output_type": "display_data"
    }
   ],
   "source": [
    "# NBVAL_SKIP\n",
    "%pip install plotly\n",
    "\n",
    "import pandas as pd\n",
    "import plotly.express as px\n",
    "\n",
    "merged_results_df = pd.concat([\n",
    "    results_df.assign(algo='Evolution Pareto'),\n",
    "    results_df2.assign(algo='Mo-BANANAS')\n",
    "], axis=0)\n",
    "\n",
    "fig = px.scatter(\n",
    "    merged_results_df.query('is_pareto'), \n",
    "    'ONNX Latency (ms)', \n",
    "    'Partial training Validation Accuracy (1 epoch)',\n",
    "    hover_name='archid',\n",
    "    color='algo',\n",
    "    facet_col='algo'\n",
    ")\n",
    "\n",
    "fig.layout = fig.layout.update(showlegend=False)\n",
    "fig"
   ]
  },
  {
   "cell_type": "markdown",
   "id": "de74ef13",
   "metadata": {},
   "source": [
    "You can get much faster search times using Azure ML with partial training happening in parallel across a GPU cluster.  See the [Advanced Guide, Cloud-Based, Azure, Multi node search](https://microsoft.github.io/archai/advanced_guide/cloud/azure/notebooks/multi_node_search/multi_node_search.html) example for details."
   ]
  },
  {
   "cell_type": "markdown",
   "id": "18782dac",
   "metadata": {},
   "source": [
    "### Troubleshooting\n",
    "\n",
    "**OMP: Error #15: Initializing libiomp5md.dll, but found libiomp5md.dll already initialized.**\n",
    "\n",
    "This error might happen on Windows if your python environment has multiple version of this `libiomp5md.dll` in different locations, for example, one in `~\\Library\\bin` and another in `Lib\\site-packages\\torch\\lib`.  To resolve this copy the newest one over the older one so that the same dll is found in both places."
   ]
  }
 ],
 "metadata": {
  "kernelspec": {
   "display_name": "Python 3 (ipykernel)",
   "language": "python",
   "name": "python3"
  },
  "language_info": {
   "codemirror_mode": {
    "name": "ipython",
    "version": 3
   },
   "file_extension": ".py",
   "mimetype": "text/x-python",
   "name": "python",
   "nbconvert_exporter": "python",
   "pygments_lexer": "ipython3",
   "version": "3.9.13"
  },
  "vscode": {
   "interpreter": {
    "hash": "b2be478cf8a2d9a6a1293b022e8589530f7ec0d0340a3a36da6068ef3d344086"
   }
  }
 },
 "nbformat": 4,
 "nbformat_minor": 5
}
