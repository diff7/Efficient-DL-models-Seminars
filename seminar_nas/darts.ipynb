{
 "cells": [
  {
   "cell_type": "code",
   "execution_count": null,
   "metadata": {
    "id": "X2TaygPglkqp"
   },
   "outputs": [],
   "source": [
    "%matplotlib inline"
   ]
  },
  {
   "cell_type": "code",
   "execution_count": null,
   "metadata": {
    "colab": {
     "base_uri": "https://localhost:8080/"
    },
    "id": "43EtL7utl0Ki",
    "outputId": "d6ff134a-6f73-4200-d393-4e9fbc7cf724"
   },
   "outputs": [],
   "source": [
    "#!pip install nni\n",
    "#!pip install pytorch-lightning"
   ]
  },
  {
   "cell_type": "markdown",
   "metadata": {
    "id": "GhdATJmwlkqr"
   },
   "source": [
    "\n",
    "# Searching in DARTS search space\n",
    "\n",
    "In this tutorial, we demonstrate how to search in the famous model space proposed in `DARTS`.\n",
    "\n",
    "Through this process, you will learn:\n",
    "\n",
    "* How to use the built-in model spaces from NNI's model space hub.\n",
    "* How to use one-shot exploration strategies to explore a model space.\n",
    "* How to customize evaluators to achieve the best performance.\n",
    "\n",
    "In the end, we get a strong-performing model on CIFAR-10 dataset, which achieves up to 97.28% accuracy.\n",
    "\n",
    ".. attention::\n",
    "\n",
    "   Running this tutorial requires a GPU.\n",
    "   If you don't have one, you can set ``gpus`` in :class:`~nni.nas.evaluator.pytorch.Classification` to be 0,\n",
    "   but do note that it will be much slower.\n",
    "\n",
    "\n",
    "## Use a pre-searched DARTS model\n",
    "\n",
    "Similar to [the beginner tutorial of PyTorch](https://pytorch.org/tutorials/beginner/blitz/cifar10_tutorial.html)_,\n",
    "we begin with CIFAR-10 dataset, which is a image classification dataset of 10 categories.\n",
    "The images in CIFAR-10 are of size 3x32x32, i.e., RGB-colored images of 32x32 pixels in size.\n",
    "\n",
    "We first load the CIFAR-10 dataset with torchvision.\n"
   ]
  },
  {
   "cell_type": "code",
   "execution_count": null,
   "metadata": {
    "colab": {
     "base_uri": "https://localhost:8080/"
    },
    "id": "ij5cHpdglkqt",
    "outputId": "ae4fb23e-a665-4483-921e-fe1ef3395c36"
   },
   "outputs": [],
   "source": [
    "import nni\n",
    "import torch\n",
    "from torchvision import transforms\n",
    "from torchvision.datasets import CIFAR10\n",
    "from nni.nas.evaluator.pytorch import DataLoader\n",
    "\n",
    "CIFAR_MEAN = [0.49139968, 0.48215827, 0.44653124]\n",
    "CIFAR_STD = [0.24703233, 0.24348505, 0.26158768]\n",
    "\n",
    "transform_valid = transforms.Compose([\n",
    "    transforms.ToTensor(),\n",
    "    transforms.Normalize(CIFAR_MEAN, CIFAR_STD),\n",
    "])\n",
    "valid_data = nni.trace(CIFAR10)(root='./data', train=False, download=True, transform=transform_valid)\n",
    "valid_loader = DataLoader(valid_data, batch_size=256, num_workers=6)"
   ]
  },
  {
   "cell_type": "markdown",
   "metadata": {
    "id": "PH0BTYXWlkqt"
   },
   "source": [
    "<div class=\"alert alert-info\"><h4>Note</h4><p>If you are to use multi-trial strategies, wrapping CIFAR10 with :func:`nni.trace` and\n",
    "   use DataLoader from ``nni.nas.evaluator.pytorch`` (instead of ``torch.utils.data``) are mandatory.\n",
    "   Otherwise, it's optional.</p></div>\n",
    "\n",
    "NNI presents many built-in model spaces, along with many *pre-searched models* in :doc:`model space hub </nas/space_hub>`,\n",
    "which are produced by most popular NAS literatures.\n",
    "A pre-trained model is a saved network that was previously trained on a large dataset like CIFAR-10 or ImageNet.\n",
    "You can easily load these models as a starting point, validate their performances, and finetune them if you need.\n",
    "\n",
    "In this tutorial, we choose one from `DARTS`_ search space, which is natively trained on our target dataset, CIFAR-10,\n",
    "so as to save the tedious steps of finetuning.\n",
    "\n",
    ".. tip::\n",
    "\n",
    "   Finetuning a pre-searched model on other datasets is no different from finetuning *any model*.\n",
    "   We recommend reading\n",
    "   [this tutorial of object detection finetuning](https://pytorch.org/tutorials/intermediate/torchvision_tutorial.html)_\n",
    "   if you want to know how finetuning is generally done in PyTorch.\n",
    "\n"
   ]
  },
  {
   "cell_type": "markdown",
   "metadata": {
    "id": "JMnvOtRZlkqu"
   },
   "source": [
    "## Use the DARTS model space\n",
    "\n",
    "The model space provided in `DARTS`_ originated from [NASNet](https://arxiv.org/abs/1707.07012)_,\n",
    "where the full model is constructed by repeatedly stacking a single computational unit (called a **cell**).\n",
    "There are two types of cells within a network. The first type is called *normal cell*, and the second type is called *reduction cell*.\n",
    "The key difference between normal and reduction cell is that the reduction cell will downsample the input feature map,\n",
    "and decrease its resolution. Normal and reduction cells are stacked alternately, as shown in the following figure.\n",
    "\n",
    "<img src=\"https://nni.readthedocs.io/en/stable/_images/nasnet_cell_stack.png\">\n",
    "\n",
    "A cell takes outputs from two previous cells as inputs and contains a collection of *nodes*.\n",
    "Each node takes two previous nodes within the same cell (or the two cell inputs),\n",
    "and applies an *operator* (e.g., convolution, or max-pooling) to each input,\n",
    "and sums the outputs of operators as the output of the node.\n",
    "The output of cell is the concatenation of all the nodes that are never used as inputs of another node.\n",
    "Users could read [NDS](https://arxiv.org/pdf/1905.13214.pdf)_ or [ENAS](https://arxiv.org/abs/1802.03268)_ for more details.\n",
    "\n",
    "We illustrate an example of cells in the following figure.\n",
    "\n",
    "<img src=\"https://nni.readthedocs.io/en/stable/_images/nasnet_cell.png\">\n",
    "\n",
    "The search space proposed in `DARTS`_ paper introduced two modifications to the original space\n",
    "in [NASNet](https://arxiv.org/abs/1707.07012)_.\n",
    "\n",
    "Firstly, the operator candidates have been narrowed down to seven:\n",
    "\n",
    "- Max pooling 3x3\n",
    "- Average pooling 3x3\n",
    "- Skip connect (Identity)\n",
    "- Separable convolution 3x3\n",
    "- Separable convolution 5x5\n",
    "- Dilated convolution 3x3\n",
    "- Dilated convolution 5x5\n",
    "\n",
    "Secondly, the output of cell is the concatenate of **all the nodes within the cell**.\n",
    "\n",
    "As the search space is based on cell, once the normal and reduction cell has been fixed, we can stack them for indefinite times.\n",
    "To save the search cost, the common practice is to reduce the number of filters (i.e., channels) and number of stacked cells\n",
    "during the search phase, and increase them back when training the final searched architecture.\n",
    "\n",
    "<div class=\"alert alert-info\"><h4>Note</h4><p>`DARTS`_ is one of those papers that innovate both in search space and search strategy.\n",
    "   In this tutorial, we will search on **model space** provided by DARTS with **search strategy** proposed by DARTS.\n",
    "   We refer to them as *DARTS model space* (``DartsSpace``) and *DARTS strategy* (``DartsStrategy``), respectively.\n",
    "   We did NOT imply that the :class:`~nni.nas.hub.pytorch.DARTS` space and\n",
    "   :class:`~nni.nas.strategy.DARTS` strategy has to used together.\n",
    "   You can always explore the DARTS space with another search strategy, or use your own strategy to search a different model space.</p></div>\n",
    "\n",
    "In the following example, we initialize a :class:`~nni.nas.hub.pytorch.DARTS`\n",
    "model space, with 16 initial filters and 8 stacked cells.\n",
    "The network is specialized for CIFAR-10 dataset with 32x32 input resolution.\n",
    "\n",
    "The :class:`~nni.nas.hub.pytorch.DARTS` model space here is provided by :doc:`model space hub </nas/space_hub>`,\n",
    "where we have supported multiple popular model spaces for plug-and-play.\n",
    "\n",
    ".. tip::\n",
    "\n",
    "   The model space here can be replaced with any space provided in the hub,\n",
    "   or even customized spaces built from scratch.\n",
    "\n"
   ]
  },
  {
   "cell_type": "code",
   "execution_count": null,
   "metadata": {
    "id": "wW8f5jAqlkqu"
   },
   "outputs": [],
   "source": [
    "from nni.nas.hub.pytorch import DARTS as DartsSpace\n",
    "\n",
    "model_space = DartsSpace(\n",
    "    width=16,           # the initial filters (channel number) for the model\n",
    "    num_cells=8,        # the number of stacked cells in total\n",
    "    dataset='cifar'     # to give a hint about input resolution, here is 32x32\n",
    ")"
   ]
  },
  {
   "cell_type": "markdown",
   "metadata": {
    "id": "CP9e-lL1lkqu"
   },
   "source": [
    "## Search on the model space\n",
    "\n",
    "<div class=\"alert alert-danger\"><h4>Warning</h4><p>Please set ``fast_dev_run`` to False to reproduce the our claimed results.\n",
    "   Otherwise, only a few mini-batches will be run.</p></div>\n",
    "\n"
   ]
  },
  {
   "cell_type": "code",
   "execution_count": null,
   "metadata": {
    "id": "7LHiXKmflkqv"
   },
   "outputs": [],
   "source": [
    "fast_dev_run = True"
   ]
  },
  {
   "cell_type": "markdown",
   "metadata": {
    "id": "8wGZtjtrlkqv"
   },
   "source": [
    "### Evaluator\n",
    "\n",
    "To begin exploring the model space, one firstly need to have an evaluator to provide the criterion of a \"good model\".\n",
    "As we are searching on CIFAR-10 dataset, one can easily use the :class:`~nni.nas.evaluator.pytorch.Classification`\n",
    "as a starting point.\n",
    "\n",
    "Note that for a typical setup of NAS, the model search should be on validation set, and the evaluation of the final searched model\n",
    "should be on test set. However, as CIFAR-10 dataset doesn't have a test dataset (only 50k train + 10k valid),\n",
    "we have to split the original training set into a training set and a validation set.\n",
    "The recommended train/val split by `DARTS`_ strategy is 1:1.\n",
    "\n"
   ]
  },
  {
   "cell_type": "code",
   "execution_count": null,
   "metadata": {
    "colab": {
     "base_uri": "https://localhost:8080/"
    },
    "id": "ixkQ66Selkqv",
    "outputId": "8c285678-e024-4249-ed6e-2cb2a2902c2f"
   },
   "outputs": [],
   "source": [
    "import numpy as np\n",
    "from nni.nas.evaluator.pytorch import Classification\n",
    "from torch.utils.data import SubsetRandomSampler\n",
    "\n",
    "transform = transforms.Compose([\n",
    "    transforms.RandomCrop(32, padding=4),\n",
    "    transforms.RandomHorizontalFlip(),\n",
    "    transforms.ToTensor(),\n",
    "    transforms.Normalize(CIFAR_MEAN, CIFAR_STD),\n",
    "])\n",
    "\n",
    "train_data = nni.trace(CIFAR10)(root='./data', train=True, download=True, transform=transform)\n",
    "\n",
    "num_samples = len(train_data)\n",
    "indices = np.random.permutation(num_samples)\n",
    "split = num_samples // 2\n",
    "\n",
    "search_train_loader = DataLoader(\n",
    "    train_data, batch_size=64, num_workers=6,\n",
    "    sampler=SubsetRandomSampler(indices[:split]),\n",
    ")\n",
    "\n",
    "search_valid_loader = DataLoader(\n",
    "    train_data, batch_size=64, num_workers=6,\n",
    "    sampler=SubsetRandomSampler(indices[split:]),\n",
    ")\n",
    "\n",
    "evaluator = Classification(\n",
    "    learning_rate=1e-3,\n",
    "    weight_decay=1e-4,\n",
    "    train_dataloaders=search_train_loader,\n",
    "    val_dataloaders=search_valid_loader,\n",
    "    max_epochs=10,\n",
    "    accelerator='auto',\n",
    "    fast_dev_run=fast_dev_run,\n",
    "    num_classes = 10\n",
    ")"
   ]
  },
  {
   "cell_type": "markdown",
   "metadata": {
    "id": "wjGxxNkwlkqv"
   },
   "source": [
    "### Strategy\n",
    "\n",
    "We will use `DARTS`_ (Differentiable ARchiTecture Search) as the search strategy to explore the model space.\n",
    ":class:`~nni.nas.strategy.DARTS` strategy belongs to the category of `one-shot strategy <one-shot-nas>`.\n",
    "The fundamental differences between One-shot strategies and `multi-trial strategies <multi-trial-nas>` is that,\n",
    "one-shot strategy combines search with model training into a single run.\n",
    "Compared to multi-trial strategies, one-shot NAS doesn't need to iteratively spawn new trials (i.e., models),\n",
    "and thus saves the excessive cost of model training.\n",
    "\n",
    "<div class=\"alert alert-info\"><h4>Note</h4><p>It's worth mentioning that one-shot NAS also suffers from multiple drawbacks despite its computational efficiency.\n",
    "   We recommend\n",
    "   [Weight-Sharing Neural Architecture Search: A Battle to Shrink the Optimization Gap](https://arxiv.org/abs/2008.01475)_\n",
    "   and\n",
    "   [How Does Supernet Help in Neural Architecture Search?](https://arxiv.org/abs/2010.08219)_ for interested readers.</p></div>\n",
    "\n",
    ":class:`~nni.nas.strategy.DARTS` strategy is provided as one of NNI's :doc:`built-in search strategies </nas/exploration_strategy>`.\n",
    "Using it can be as simple as one line of code.\n",
    "\n"
   ]
  },
  {
   "cell_type": "code",
   "execution_count": null,
   "metadata": {
    "id": "FKV9Nserlkqv"
   },
   "outputs": [],
   "source": [
    "from nni.nas.strategy import DARTS as DartsStrategy\n",
    "\n",
    "strategy = DartsStrategy()"
   ]
  },
  {
   "cell_type": "markdown",
   "metadata": {
    "id": "SM_6jwUplkqw"
   },
   "source": [
    ".. tip:: The ``DartsStrategy`` here can be replaced by any search strategies, even multi-trial strategies.\n",
    "\n",
    "If you want to know how DARTS strategy works, here is a brief version.\n",
    "Under the hood, DARTS converts the cell into a densely connected graph, and put operators on edges (see the following figure).\n",
    "Since the operators are not decided yet, every edge is a weighted mixture of multiple operators (multiple color in the figure).\n",
    "DARTS then learns to assign the optimal \"color\" for each edge during the network training.\n",
    "It finally selects one \"color\" for each edge, and drops redundant edges.\n",
    "The weights on the edges are called *architecture weights*.\n",
    "\n",
    "<img src=\"https://nni.readthedocs.io/en/stable/_images/darts_illustration.png\">\n",
    "\n",
    ".. tip:: It's NOT reflected in the figure that, for DARTS model space, exactly two inputs are kept for every node.\n",
    "\n",
    "### Launch experiment\n",
    "\n",
    "We then come to the step of launching the experiment.\n",
    "This step is similar to what we have done in the :doc:`beginner tutorial <hello_nas>`.\n",
    "\n"
   ]
  },
  {
   "cell_type": "code",
   "execution_count": null,
   "metadata": {
    "colab": {
     "base_uri": "https://localhost:8080/",
     "height": 1000,
     "referenced_widgets": [
      "3637c0f1b47545c5b895cfa3041b772a",
      "37059338cc874865abb9e99fc9ffc3ab",
      "a83406782cb543c982c452082a222107",
      "d23a96d2652543eb936012036ac3ae3c",
      "ea142fd85d0d44e0ad8dd9381990c88d",
      "ed2c227050b14596b1803c96c25b795e",
      "4c853a6a4d754b51b131faf91a8c3543",
      "2b11cc3c9d3545328eb0d946a48bdc68",
      "1ea2cf561785498b826ba791b97119dc",
      "661956e0dafa4eb1917a1d1ff503d1a6",
      "2d392928774643f39c6ca522250299e8"
     ]
    },
    "id": "iT4dVQX6lkqw",
    "outputId": "10e4fb3f-a44d-4b41-eb1a-89e339f4fa80"
   },
   "outputs": [],
   "source": [
    "from nni.nas.experiment import NasExperiment\n",
    "\n",
    "experiment = NasExperiment(model_space, evaluator, strategy)\n",
    "experiment.run()"
   ]
  },
  {
   "cell_type": "markdown",
   "metadata": {
    "id": "rKNIwnwflkqw"
   },
   "source": [
    ".. tip::\n",
    "\n",
    "   The search process can be visualized with tensorboard. For example::\n",
    "\n",
    "       tensorboard --logdir=./lightning_logs\n",
    "\n",
    "   Then, open the browser and go to http://localhost:6006/ to monitor the search process.\n",
    "\n",
    "   .. image:: ../../img/darts_search_process.png\n",
    "\n",
    "We can then retrieve the best model found by the strategy with ``export_top_models``.\n",
    "Here, the retrieved model is a dict (called *architecture dict*) describing the selected normal cell and reduction cell.\n",
    "\n"
   ]
  },
  {
   "cell_type": "code",
   "execution_count": null,
   "metadata": {
    "colab": {
     "base_uri": "https://localhost:8080/"
    },
    "id": "I9xfS-folkqw",
    "outputId": "74e2f6d8-7d36-44d4-ebec-06d9b0525de0"
   },
   "outputs": [],
   "source": [
    "exported_arch = experiment.export_top_models(formatter='dict')[0]\n",
    "\n",
    "exported_arch"
   ]
  },
  {
   "cell_type": "markdown",
   "metadata": {
    "id": "hV0JgIaYlkqw"
   },
   "source": [
    "The cell can be visualized with the following code snippet\n",
    "(copied and modified from [DARTS visualization](https://github.com/quark0/darts/blob/master/cnn/visualize.py)_).\n",
    "\n"
   ]
  },
  {
   "cell_type": "markdown",
   "metadata": {
    "id": "R1BNzDU5lkqw"
   },
   "source": [
    "<div class=\"alert alert-danger\"><h4>Warning</h4><p>The cell above is obtained via ``fast_dev_run`` (i.e., running only 1 mini-batch).</p></div>\n",
    "\n",
    "When ``fast_dev_run`` is turned off, we get a model with the following architecture,\n",
    "where you might notice an interesting fact that around half the operations have selected ``sep_conv_3x3``.\n",
    "\n"
   ]
  },
  {
   "cell_type": "code",
   "execution_count": null,
   "metadata": {},
   "outputs": [],
   "source": [
    "!apt-get install graphviz -y"
   ]
  },
  {
   "cell_type": "code",
   "execution_count": null,
   "metadata": {
    "colab": {
     "base_uri": "https://localhost:8080/",
     "height": 906
    },
    "id": "Qk01VvIulkqw",
    "outputId": "a72a0547-684a-4af9-c820-b5c288beae9e"
   },
   "outputs": [],
   "source": [
    "import io\n",
    "import graphviz\n",
    "import matplotlib.pyplot as plt\n",
    "from PIL import Image\n",
    "\n",
    "def plot_single_cell(arch_dict, cell_name):\n",
    "    g = graphviz.Digraph(\n",
    "        node_attr=dict(style='filled', shape='rect', align='center'),\n",
    "        format='png'\n",
    "    )\n",
    "    g.body.extend(['rankdir=LR'])\n",
    "\n",
    "    g.node('c_{k-2}', fillcolor='darkseagreen2')\n",
    "    g.node('c_{k-1}', fillcolor='darkseagreen2')\n",
    "    assert len(arch_dict) % 2 == 0\n",
    "\n",
    "    for i in range(2, 6):\n",
    "        g.node(str(i), fillcolor='lightblue')\n",
    "\n",
    "    for i in range(2, 6):\n",
    "        for j in range(2):\n",
    "            op = arch_dict[f'{cell_name}/op_{i}_{j}']\n",
    "            from_ = arch_dict[f'{cell_name}/input_{i}_{j}']\n",
    "            if from_ == 0:\n",
    "                u = 'c_{k-2}'\n",
    "            elif from_ == 1:\n",
    "                u = 'c_{k-1}'\n",
    "            else:\n",
    "                u = str(from_)\n",
    "            v = str(i)\n",
    "            g.edge(u, v, label=op, fillcolor='gray')\n",
    "\n",
    "    g.node('c_{k}', fillcolor='palegoldenrod')\n",
    "    for i in range(2, 6):\n",
    "        g.edge(str(i), 'c_{k}', fillcolor='gray')\n",
    "\n",
    "    g.attr(label=f'{cell_name.capitalize()} cell')\n",
    "\n",
    "    image = Image.open(io.BytesIO(g.pipe()))\n",
    "    return image\n",
    "\n",
    "def plot_double_cells(arch_dict):\n",
    "    image1 = plot_single_cell(arch_dict, 'normal')\n",
    "    image2 = plot_single_cell(arch_dict, 'reduce')\n",
    "    height_ratio = max(image1.size[1] / image1.size[0], image2.size[1] / image2.size[0])\n",
    "    _, axs = plt.subplots(1, 2, figsize=(20, 10 * height_ratio))\n",
    "    axs[0].imshow(image1)\n",
    "    axs[1].imshow(image2)\n",
    "    axs[0].axis('off')\n",
    "    axs[1].axis('off')\n",
    "    plt.show()\n",
    "\n",
    "plot_double_cells(exported_arch)"
   ]
  },
  {
   "cell_type": "code",
   "execution_count": null,
   "metadata": {
    "colab": {
     "base_uri": "https://localhost:8080/",
     "height": 361
    },
    "id": "8dIoj6-5lkqx",
    "outputId": "73669185-9dd9-4976-84b6-85e6387f7853"
   },
   "outputs": [],
   "source": [
    "plot_double_cells({\n",
    "    'normal/op_2_0': 'sep_conv_3x3',\n",
    "    'normal/input_2_0': 1,\n",
    "    'normal/op_2_1': 'sep_conv_3x3',\n",
    "    'normal/input_2_1': 0,\n",
    "    'normal/op_3_0': 'sep_conv_3x3',\n",
    "    'normal/input_3_0': 1,\n",
    "    'normal/op_3_1': 'sep_conv_3x3',\n",
    "    'normal/input_3_1': 2,\n",
    "    'normal/op_4_0': 'sep_conv_3x3',\n",
    "    'normal/input_4_0': 1,\n",
    "    'normal/op_4_1': 'sep_conv_3x3',\n",
    "    'normal/input_4_1': 0,\n",
    "    'normal/op_5_0': 'sep_conv_3x3',\n",
    "    'normal/input_5_0': 1,\n",
    "    'normal/op_5_1': 'max_pool_3x3',\n",
    "    'normal/input_5_1': 0,\n",
    "    'reduce/op_2_0': 'sep_conv_3x3',\n",
    "    'reduce/input_2_0': 0,\n",
    "    'reduce/op_2_1': 'sep_conv_3x3',\n",
    "    'reduce/input_2_1': 1,\n",
    "    'reduce/op_3_0': 'dil_conv_5x5',\n",
    "    'reduce/input_3_0': 2,\n",
    "    'reduce/op_3_1': 'sep_conv_3x3',\n",
    "    'reduce/input_3_1': 0,\n",
    "    'reduce/op_4_0': 'dil_conv_5x5',\n",
    "    'reduce/input_4_0': 2,\n",
    "    'reduce/op_4_1': 'sep_conv_5x5',\n",
    "    'reduce/input_4_1': 1,\n",
    "    'reduce/op_5_0': 'sep_conv_5x5',\n",
    "    'reduce/input_5_0': 4,\n",
    "    'reduce/op_5_1': 'dil_conv_5x5',\n",
    "    'reduce/input_5_1': 2\n",
    "})"
   ]
  },
  {
   "cell_type": "markdown",
   "metadata": {
    "id": "W-r6MpJqlkqx"
   },
   "source": [
    "## Retrain the searched model\n",
    "\n",
    "What we have got in the last step, is only a cell structure.\n",
    "To get a final usable model with trained weights, we need to construct a real model based on this structure,\n",
    "and then fully train it.\n",
    "\n",
    "To construct a fixed model based on the architecture dict exported from the experiment,\n",
    "we can use :func:`nni.nas.space.model_context`. Under the with-context, we will creating a fixed model based on ``exported_arch``,\n",
    "instead of creating a space.\n",
    "\n"
   ]
  },
  {
   "cell_type": "code",
   "execution_count": null,
   "metadata": {
    "id": "CPdKxooVlkqx"
   },
   "outputs": [],
   "source": [
    "from nni.nas.space import model_context\n",
    "\n",
    "with model_context(exported_arch):\n",
    "    final_model = DartsSpace(width=16, num_cells=8, dataset='cifar')"
   ]
  },
  {
   "cell_type": "markdown",
   "metadata": {
    "id": "UMGGcfqWlkqx"
   },
   "source": [
    "We then train the model on full CIFAR-10 training dataset, and evaluate it on the original CIFAR-10 validation dataset.\n",
    "\n"
   ]
  },
  {
   "cell_type": "code",
   "execution_count": null,
   "metadata": {
    "colab": {
     "base_uri": "https://localhost:8080/"
    },
    "id": "LKxpvjE9lkqx",
    "outputId": "e7228d98-92c8-4763-e44d-5545cc61db1a"
   },
   "outputs": [],
   "source": [
    "train_loader = DataLoader(train_data, batch_size=96, num_workers=6)  # Use the original training data"
   ]
  },
  {
   "cell_type": "markdown",
   "metadata": {
    "id": "ZchCobvUlkqx"
   },
   "source": [
    "The validation data loader can be reused.\n",
    "\n"
   ]
  },
  {
   "cell_type": "code",
   "execution_count": null,
   "metadata": {
    "colab": {
     "base_uri": "https://localhost:8080/"
    },
    "id": "H02ejmoTlkqx",
    "outputId": "f163b472-04f3-4eab-bc05-07d2a7a25aeb"
   },
   "outputs": [],
   "source": [
    "valid_loader"
   ]
  },
  {
   "cell_type": "markdown",
   "metadata": {
    "id": "1AwuYVHclkqx"
   },
   "source": [
    "We must create a new evaluator here because a different data split is used.\n",
    "Also, we should avoid the underlying pytorch-lightning implementation of :class:`~nni.nas.evaluator.pytorch.Classification`\n",
    "evaluator from loading the wrong checkpoint.\n",
    "\n"
   ]
  },
  {
   "cell_type": "code",
   "execution_count": null,
   "metadata": {
    "colab": {
     "base_uri": "https://localhost:8080/",
     "height": 580,
     "referenced_widgets": [
      "8bf1f58a120e422cbd193ab5c6309ef9",
      "0d5d90abad1f4aeaab48e81e703a2cb3",
      "207d9414b1f749e38cb938672fee8c76",
      "61c7429f681548bd9e345dee2deda98d",
      "e685f71e328f4b03ae1e38b9a39f6abd",
      "e71fa0e285d3494fa1c319fdacc83ebb",
      "a9dc6e9bae6a4538a32065f861bd0c91",
      "e05e119a89e44491b4f14969857773ae",
      "3e0ec94444c6437db0ebc704b3140784",
      "f54d91a9d1fc439a993573358a41ecda",
      "a87890bb800940509177d1a25a9c4e82",
      "b857952a13d641139574985ae736600a",
      "adeb33f193a6400b98ce41cb0af90a6e",
      "4f30944d484943a9abbd914a1f612a35",
      "6a3078491f27442c9d9570d2b207c822",
      "1d6333ebf3a44e02b00d45e80787bf1a",
      "e865e3272d5e494e82eeb6408ebb3fe2",
      "0fcbe0455e3045cabb7557e1feaade99",
      "b188b74b31a040ba801c0a161497c0cc",
      "a9ae38426c914505bccfba3ff8056386",
      "0e3fd82e60d7421a915cca1fc204db2e",
      "3991e316d4a2486897870553fc6be84c"
     ]
    },
    "id": "Blib4gyplkqx",
    "outputId": "4f9f3992-4abd-41be-a6e1-5cb19b4f96de"
   },
   "outputs": [],
   "source": [
    "max_epochs = 100\n",
    "\n",
    "evaluator = Classification(\n",
    "    learning_rate=1e-3,\n",
    "    weight_decay=1e-4,\n",
    "    train_dataloaders=train_loader,\n",
    "    val_dataloaders=valid_loader,\n",
    "    max_epochs=max_epochs,\n",
    "    accelerator='auto',\n",
    "    export_onnx=False,          # Disable ONNX export for this experiment\n",
    "    fast_dev_run=fast_dev_run,   # Should be false for fully training\n",
    "    num_classes = 10\n",
    ")\n",
    "\n",
    "evaluator.fit(final_model)"
   ]
  },
  {
   "cell_type": "markdown",
   "metadata": {
    "id": "3lrZp6Mclkqx"
   },
   "source": [
    "<div class=\"alert alert-info\"><h4>Note</h4><p>When ``fast_dev_run`` is turned off, we achieve a validation accuracy of 89.69% after training for 100 epochs.</p></div>\n",
    "\n",
    "## Reproduce results in DARTS paper\n",
    "\n",
    "After a brief walkthrough of search + retrain process with one-shot strategy,\n",
    "we then fill the gap between our results (89.69%) and the results in the `DARTS` paper.\n",
    "This is because we didn't introduce some extra training tricks, including [DropPath](https://arxiv.org/pdf/1605.07648v4.pdf)_,\n",
    "Auxiliary loss, gradient clipping and augmentations like [Cutout](https://arxiv.org/pdf/1708.04552v2.pdf)_.\n",
    "They also train the deeper (20 cells) and wider (36 filters) networks for longer time (600 epochs).\n",
    "Here we reproduce these tricks to get comparable results with DARTS paper.\n",
    "\n",
    "\n",
    "### Evaluator\n",
    "\n",
    "To implement these tricks, we first need to rewrite a few parts of evaluator.\n",
    "\n",
    "Working with one-shot strategies, evaluators need to be implemented in the style of `PyTorch-Lightning <lightning-evaluator>`,\n",
    "The full tutorial can be found in :doc:`/nas/evaluator`.\n",
    "Putting it briefly, the core part of writing a new evaluator is to write a new LightningModule.\n",
    "[LightingModule](https://pytorch-lightning.readthedocs.io/en/stable/common/lightning_module.html)_ is a concept in\n",
    "PyTorch-Lightning, which organizes the model training process into a list of functions, such as,\n",
    "``training_step``, ``validation_step``, ``configure_optimizers``, etc.\n",
    "Since we are merely adding a few ingredients to :class:`~nni.nas.evaluator.pytorch.Classification`,\n",
    "we can simply inherit :class:`~nni.nas.evaluator.pytorch.ClassificationModule`, which is the underlying LightningModule\n",
    "behind :class:`~nni.nas.evaluator.pytorch.Classification`.\n",
    "This could look intimidating at first, but most of them are just plug-and-play tricks which you don't need to know details about.\n",
    "\n"
   ]
  },
  {
   "cell_type": "code",
   "execution_count": null,
   "metadata": {
    "id": "272goWCElkqx"
   },
   "outputs": [],
   "source": [
    "import torch\n",
    "from nni.nas.evaluator.pytorch import ClassificationModule\n",
    "\n",
    "class DartsClassificationModule(ClassificationModule):\n",
    "    def __init__(\n",
    "        self,\n",
    "        learning_rate: float = 0.001,\n",
    "        weight_decay: float = 0.,\n",
    "        auxiliary_loss_weight: float = 0.4,\n",
    "        max_epochs: int = 600,\n",
    "        num_classes: int = 10\n",
    "    ):\n",
    "        self.auxiliary_loss_weight = auxiliary_loss_weight\n",
    "        # Training length will be used in LR scheduler\n",
    "        self.max_epochs = max_epochs\n",
    "        super().__init__(learning_rate=learning_rate, weight_decay=weight_decay, export_onnx=False, num_classes = 10)\n",
    "\n",
    "    def configure_optimizers(self):\n",
    "        \"\"\"Customized optimizer with momentum, as well as a scheduler.\"\"\"\n",
    "        optimizer = torch.optim.SGD(\n",
    "            self.parameters(),\n",
    "            momentum=0.9,\n",
    "            lr=self.hparams.learning_rate,\n",
    "            weight_decay=self.hparams.weight_decay\n",
    "        )\n",
    "        return {\n",
    "            'optimizer': optimizer,\n",
    "            'lr_scheduler': torch.optim.lr_scheduler.CosineAnnealingLR(optimizer, self.max_epochs, eta_min=1e-3)\n",
    "        }\n",
    "\n",
    "    def training_step(self, batch, batch_idx):\n",
    "        \"\"\"Training step, customized with auxiliary loss.\"\"\"\n",
    "        x, y = batch\n",
    "        if self.auxiliary_loss_weight:\n",
    "            y_hat, y_aux = self(x)\n",
    "            loss_main = self.criterion(y_hat, y)\n",
    "            loss_aux = self.criterion(y_aux, y)\n",
    "            self.log('train_loss_main', loss_main)\n",
    "            self.log('train_loss_aux', loss_aux)\n",
    "            loss = loss_main + self.auxiliary_loss_weight * loss_aux\n",
    "        else:\n",
    "            y_hat = self(x)\n",
    "            loss = self.criterion(y_hat, y)\n",
    "        self.log('train_loss', loss, prog_bar=True)\n",
    "        for name, metric in self.metrics.items():\n",
    "            self.log('train_' + name, metric(y_hat, y), prog_bar=True)\n",
    "        return loss\n",
    "\n",
    "    def on_train_epoch_start(self):\n",
    "        # Set drop path probability before every epoch. This has no effect if drop path is not enabled in model.\n",
    "        self.model.set_drop_path_prob(self.model.drop_path_prob * self.current_epoch / self.max_epochs)\n",
    "\n",
    "        # Logging learning rate at the beginning of every epoch\n",
    "        self.log('lr', self.trainer.optimizers[0].param_groups[0]['lr'])"
   ]
  },
  {
   "cell_type": "markdown",
   "metadata": {
    "id": "uowtYFNylkqx"
   },
   "source": [
    "The full evaluator is written as follows,\n",
    "which simply wraps everything (except model space and search strategy of course), in a single object.\n",
    ":class:`~nni.nas.evaluator.pytorch.Lightning` here is a special type of evaluator.\n",
    "Don't forget to use the train/val data split specialized for search (1:1) here.\n",
    "\n"
   ]
  },
  {
   "cell_type": "code",
   "execution_count": null,
   "metadata": {
    "id": "sy9AkIlzlkqx"
   },
   "outputs": [],
   "source": [
    "from nni.nas.evaluator.pytorch import Lightning, Trainer\n",
    "\n",
    "max_epochs = 50\n",
    "\n",
    "evaluator = Lightning(\n",
    "    DartsClassificationModule(0.025, 3e-4, 0., max_epochs, num_classes = 10),\n",
    "    Trainer(\n",
    "        accelerator=\"auto\",\n",
    "        max_epochs=max_epochs,\n",
    "        fast_dev_run=fast_dev_run\n",
    "    ),\n",
    "    train_dataloaders=search_train_loader,\n",
    "    val_dataloaders=search_valid_loader\n",
    ")"
   ]
  },
  {
   "cell_type": "markdown",
   "metadata": {
    "id": "sYuZuaq1lkqy"
   },
   "source": [
    "### Strategy\n",
    "\n",
    ":class:`~nni.nas.strategy.DARTS` strategy is created with gradient clip turned on.\n",
    "If you are familiar with PyTorch-Lightning, you might aware that gradient clipping can be enabled in Lightning trainer.\n",
    "However, enabling gradient clip in the trainer above won't work, because the underlying\n",
    "implementation of :class:`~nni.nas.strategy.DARTS` strategy is based on\n",
    "[manual optimization](https://pytorch-lightning.readthedocs.io/en/stable/common/optimization.html)_.\n",
    "\n"
   ]
  },
  {
   "cell_type": "code",
   "execution_count": null,
   "metadata": {
    "id": "34IDw541lkqy"
   },
   "outputs": [],
   "source": [
    "strategy = DartsStrategy(gradient_clip_val=5.)"
   ]
  },
  {
   "cell_type": "markdown",
   "metadata": {
    "id": "rME4Y2vMlkqy"
   },
   "source": [
    "### Launch experiment\n",
    "\n",
    "Then we use the newly created evaluator and strategy to launch the experiment again.\n",
    "\n",
    "<div class=\"alert alert-danger\"><h4>Warning</h4><p>``model_space`` has to be re-instantiated because a known limitation,\n",
    "   i.e., one model space instance can't be reused across multiple experiments.</p></div>\n",
    "\n"
   ]
  },
  {
   "cell_type": "code",
   "execution_count": null,
   "metadata": {
    "colab": {
     "base_uri": "https://localhost:8080/",
     "height": 1000
    },
    "id": "bY6Ce_7slkqy",
    "outputId": "369bd562-f52a-4176-a67a-222f70209d9b"
   },
   "outputs": [],
   "source": [
    "model_space = DartsSpace(width=16, num_cells=8, dataset='cifar')\n",
    "\n",
    "experiment = NasExperiment(model_space, evaluator, strategy)\n",
    "experiment.run()\n",
    "\n",
    "exported_arch = experiment.export_top_models(formatter='dict')[0]\n",
    "\n",
    "exported_arch"
   ]
  },
  {
   "cell_type": "markdown",
   "metadata": {
    "id": "4pjO_1mXlkqy"
   },
   "source": [
    "We get the following architecture when ``fast_dev_run`` is set to False. It takes around 8 hours on a P100 GPU.\n",
    "\n"
   ]
  },
  {
   "cell_type": "code",
   "execution_count": null,
   "metadata": {
    "colab": {
     "base_uri": "https://localhost:8080/",
     "height": 642
    },
    "id": "G81a2xBYlkqy",
    "outputId": "4870d09b-ee9b-4381-fd2b-a46cc9cb6687"
   },
   "outputs": [],
   "source": [
    "plot_double_cells({\n",
    "    'normal/op_2_0': 'sep_conv_3x3',\n",
    "    'normal/input_2_0': 0,\n",
    "    'normal/op_2_1': 'sep_conv_3x3',\n",
    "    'normal/input_2_1': 1,\n",
    "    'normal/op_3_0': 'sep_conv_3x3',\n",
    "    'normal/input_3_0': 1,\n",
    "    'normal/op_3_1': 'skip_connect',\n",
    "    'normal/input_3_1': 0,\n",
    "    'normal/op_4_0': 'sep_conv_3x3',\n",
    "    'normal/input_4_0': 0,\n",
    "    'normal/op_4_1': 'max_pool_3x3',\n",
    "    'normal/input_4_1': 1,\n",
    "    'normal/op_5_0': 'sep_conv_3x3',\n",
    "    'normal/input_5_0': 0,\n",
    "    'normal/op_5_1': 'sep_conv_3x3',\n",
    "    'normal/input_5_1': 1,\n",
    "    'reduce/op_2_0': 'max_pool_3x3',\n",
    "    'reduce/input_2_0': 0,\n",
    "    'reduce/op_2_1': 'sep_conv_5x5',\n",
    "    'reduce/input_2_1': 1,\n",
    "    'reduce/op_3_0': 'dil_conv_5x5',\n",
    "    'reduce/input_3_0': 2,\n",
    "    'reduce/op_3_1': 'max_pool_3x3',\n",
    "    'reduce/input_3_1': 0,\n",
    "    'reduce/op_4_0': 'max_pool_3x3',\n",
    "    'reduce/input_4_0': 0,\n",
    "    'reduce/op_4_1': 'sep_conv_3x3',\n",
    "    'reduce/input_4_1': 2,\n",
    "    'reduce/op_5_0': 'max_pool_3x3',\n",
    "    'reduce/input_5_0': 0,\n",
    "    'reduce/op_5_1': 'skip_connect',\n",
    "    'reduce/input_5_1': 2\n",
    "})"
   ]
  },
  {
   "cell_type": "markdown",
   "metadata": {
    "id": "CHoitebhlkq2"
   },
   "source": [
    "### Retrain\n",
    "\n",
    "When retraining,\n",
    "we extend the original dataloader to introduce another trick called [Cutout](https://arxiv.org/pdf/1708.04552v2.pdf)_.\n",
    "Cutout is a data augmentation technique that randomly masks out rectangular regions in images.\n",
    "In CIFAR-10, the typical masked size is 16x16 (the image sizes are 32x32 in the dataset).\n",
    "\n"
   ]
  },
  {
   "cell_type": "code",
   "execution_count": null,
   "metadata": {
    "id": "tAVY3d-Llkq2"
   },
   "outputs": [],
   "source": [
    "def cutout_transform(img, length: int = 16):\n",
    "    h, w = img.size(1), img.size(2)\n",
    "    mask = np.ones((h, w), np.float32)\n",
    "    y = np.random.randint(h)\n",
    "    x = np.random.randint(w)\n",
    "\n",
    "    y1 = np.clip(y - length // 2, 0, h)\n",
    "    y2 = np.clip(y + length // 2, 0, h)\n",
    "    x1 = np.clip(x - length // 2, 0, w)\n",
    "    x2 = np.clip(x + length // 2, 0, w)\n",
    "\n",
    "    mask[y1: y2, x1: x2] = 0.\n",
    "    mask = torch.from_numpy(mask)\n",
    "    mask = mask.expand_as(img)\n",
    "    img *= mask\n",
    "    return img\n",
    "\n",
    "transform_with_cutout = transforms.Compose([\n",
    "    transforms.RandomCrop(32, padding=4),\n",
    "    transforms.RandomHorizontalFlip(),\n",
    "    transforms.ToTensor(),\n",
    "    transforms.Normalize(CIFAR_MEAN, CIFAR_STD),\n",
    "    cutout_transform,\n",
    "])"
   ]
  },
  {
   "cell_type": "markdown",
   "metadata": {
    "id": "4mCzKibclkq2"
   },
   "source": [
    "The train dataloader needs to be reinstantiated with the new transform.\n",
    "The validation dataloader is not affected, and thus can be reused.\n",
    "\n"
   ]
  },
  {
   "cell_type": "code",
   "execution_count": null,
   "metadata": {
    "colab": {
     "base_uri": "https://localhost:8080/"
    },
    "id": "yXsd_a1Alkq2",
    "outputId": "ec9be331-59be-480e-bd3a-8b3da0b368fd"
   },
   "outputs": [],
   "source": [
    "train_data_cutout = nni.trace(CIFAR10)(root='./data', train=True, download=True, transform=transform_with_cutout)\n",
    "train_loader_cutout = DataLoader(train_data_cutout, batch_size=96)"
   ]
  },
  {
   "cell_type": "markdown",
   "metadata": {
    "id": "OH3jJTnTlkq2"
   },
   "source": [
    "We then create the final model based on the new exported architecture.\n",
    "This time, auxiliary loss and drop path probability is enabled.\n",
    "\n",
    "Following the same procedure as paper, we also increase the number of filters to 36, and number of cells to 20,\n",
    "so as to reasonably increase the model size and boost the performance.\n",
    "\n"
   ]
  },
  {
   "cell_type": "code",
   "execution_count": null,
   "metadata": {
    "id": "2BnkCn1nlkq2"
   },
   "outputs": [],
   "source": [
    "with model_context(exported_arch):\n",
    "    final_model = DartsSpace(width=36, num_cells=20, dataset='cifar', auxiliary_loss=True, drop_path_prob=0.2)"
   ]
  },
  {
   "cell_type": "markdown",
   "metadata": {
    "id": "SPJKBjJYlkq2"
   },
   "source": [
    "We create a new evaluator for the retraining process, where the gradient clipping is put into the keyword arguments of trainer.\n",
    "\n"
   ]
  },
  {
   "cell_type": "code",
   "execution_count": null,
   "metadata": {
    "colab": {
     "base_uri": "https://localhost:8080/",
     "height": 219
    },
    "id": "6vKO0yKblkq3",
    "outputId": "41bb9ca7-3b3f-499e-c087-b6a13015033f"
   },
   "outputs": [],
   "source": [
    "max_epochs = 600\n",
    "\n",
    "evaluator = Lightning(\n",
    "    DartsClassificationModule(0.025, 3e-4, 0.4, max_epochs),\n",
    "    trainer=Trainer(\n",
    "        accelerator=\"auto\",\n",
    "        gradient_clip_val=5.,\n",
    "        max_epochs=max_epochs,\n",
    "        fast_dev_run=fast_dev_run\n",
    "    ),\n",
    "    train_dataloaders=train_loader_cutout,\n",
    "    val_dataloaders=valid_loader,\n",
    ")\n",
    "\n",
    "evaluator.fit(final_model)"
   ]
  },
  {
   "cell_type": "markdown",
   "metadata": {
    "id": "5gQku_sClkq3"
   },
   "source": [
    "When ``fast_dev_run`` is turned off, after retraining, the architecture yields a top-1 accuracy of 97.12%.\n",
    "If we take the best snapshot throughout the retrain process,\n",
    "there is a chance that the top-1 accuracy will be 97.28%.\n",
    "\n",
    "<img src=\"https://nni.readthedocs.io/en/stable/_images/darts_val_acc.png\">\n",
    "\n",
    "In the figure, the orange line is the validation accuracy curve after training for 600 epochs,\n",
    "while the red line corresponding the previous version in this tutorial before adding all the training tricks and\n",
    "only trains for 100 epochs.\n",
    "\n",
    "The results outperforms \"DARTS (first order) + cutout\" in `DARTS`_ paper, which is only 97.00±0.14%.\n",
    "It's even comparable with \"DARTS (second order) + cutout\" in the paper (97.24±0.09%),\n",
    "though we didn't implement the second order version.\n",
    "The implementation of second order DARTS is in our future plan, and we also welcome your contribution.\n",
    "\n"
   ]
  },
  {
   "cell_type": "code",
   "execution_count": null,
   "metadata": {},
   "outputs": [],
   "source": []
  }
 ],
 "metadata": {
  "accelerator": "GPU",
  "colab": {
   "gpuType": "T4",
   "provenance": []
  },
  "kernelspec": {
   "display_name": "Python 3 (ipykernel)",
   "language": "python",
   "name": "python3"
  },
  "language_info": {
   "codemirror_mode": {
    "name": "ipython",
    "version": 3
   },
   "file_extension": ".py",
   "mimetype": "text/x-python",
   "name": "python",
   "nbconvert_exporter": "python",
   "pygments_lexer": "ipython3",
   "version": "3.9.13"
  },
  "widgets": {
   "application/vnd.jupyter.widget-state+json": {
    "0d5d90abad1f4aeaab48e81e703a2cb3": {
     "model_module": "@jupyter-widgets/controls",
     "model_module_version": "1.5.0",
     "model_name": "HTMLModel",
     "state": {
      "_dom_classes": [],
      "_model_module": "@jupyter-widgets/controls",
      "_model_module_version": "1.5.0",
      "_model_name": "HTMLModel",
      "_view_count": null,
      "_view_module": "@jupyter-widgets/controls",
      "_view_module_version": "1.5.0",
      "_view_name": "HTMLView",
      "description": "",
      "description_tooltip": null,
      "layout": "IPY_MODEL_e71fa0e285d3494fa1c319fdacc83ebb",
      "placeholder": "​",
      "style": "IPY_MODEL_a9dc6e9bae6a4538a32065f861bd0c91",
      "value": "Epoch 0: 100%"
     }
    },
    "0e3fd82e60d7421a915cca1fc204db2e": {
     "model_module": "@jupyter-widgets/base",
     "model_module_version": "1.2.0",
     "model_name": "LayoutModel",
     "state": {
      "_model_module": "@jupyter-widgets/base",
      "_model_module_version": "1.2.0",
      "_model_name": "LayoutModel",
      "_view_count": null,
      "_view_module": "@jupyter-widgets/base",
      "_view_module_version": "1.2.0",
      "_view_name": "LayoutView",
      "align_content": null,
      "align_items": null,
      "align_self": null,
      "border": null,
      "bottom": null,
      "display": null,
      "flex": null,
      "flex_flow": null,
      "grid_area": null,
      "grid_auto_columns": null,
      "grid_auto_flow": null,
      "grid_auto_rows": null,
      "grid_column": null,
      "grid_gap": null,
      "grid_row": null,
      "grid_template_areas": null,
      "grid_template_columns": null,
      "grid_template_rows": null,
      "height": null,
      "justify_content": null,
      "justify_items": null,
      "left": null,
      "margin": null,
      "max_height": null,
      "max_width": null,
      "min_height": null,
      "min_width": null,
      "object_fit": null,
      "object_position": null,
      "order": null,
      "overflow": null,
      "overflow_x": null,
      "overflow_y": null,
      "padding": null,
      "right": null,
      "top": null,
      "visibility": null,
      "width": null
     }
    },
    "0fcbe0455e3045cabb7557e1feaade99": {
     "model_module": "@jupyter-widgets/controls",
     "model_module_version": "1.5.0",
     "model_name": "DescriptionStyleModel",
     "state": {
      "_model_module": "@jupyter-widgets/controls",
      "_model_module_version": "1.5.0",
      "_model_name": "DescriptionStyleModel",
      "_view_count": null,
      "_view_module": "@jupyter-widgets/base",
      "_view_module_version": "1.2.0",
      "_view_name": "StyleView",
      "description_width": ""
     }
    },
    "1d6333ebf3a44e02b00d45e80787bf1a": {
     "model_module": "@jupyter-widgets/base",
     "model_module_version": "1.2.0",
     "model_name": "LayoutModel",
     "state": {
      "_model_module": "@jupyter-widgets/base",
      "_model_module_version": "1.2.0",
      "_model_name": "LayoutModel",
      "_view_count": null,
      "_view_module": "@jupyter-widgets/base",
      "_view_module_version": "1.2.0",
      "_view_name": "LayoutView",
      "align_content": null,
      "align_items": null,
      "align_self": null,
      "border": null,
      "bottom": null,
      "display": "inline-flex",
      "flex": null,
      "flex_flow": "row wrap",
      "grid_area": null,
      "grid_auto_columns": null,
      "grid_auto_flow": null,
      "grid_auto_rows": null,
      "grid_column": null,
      "grid_gap": null,
      "grid_row": null,
      "grid_template_areas": null,
      "grid_template_columns": null,
      "grid_template_rows": null,
      "height": null,
      "justify_content": null,
      "justify_items": null,
      "left": null,
      "margin": null,
      "max_height": null,
      "max_width": null,
      "min_height": null,
      "min_width": null,
      "object_fit": null,
      "object_position": null,
      "order": null,
      "overflow": null,
      "overflow_x": null,
      "overflow_y": null,
      "padding": null,
      "right": null,
      "top": null,
      "visibility": "hidden",
      "width": "100%"
     }
    },
    "1ea2cf561785498b826ba791b97119dc": {
     "model_module": "@jupyter-widgets/controls",
     "model_module_version": "1.5.0",
     "model_name": "ProgressStyleModel",
     "state": {
      "_model_module": "@jupyter-widgets/controls",
      "_model_module_version": "1.5.0",
      "_model_name": "ProgressStyleModel",
      "_view_count": null,
      "_view_module": "@jupyter-widgets/base",
      "_view_module_version": "1.2.0",
      "_view_name": "StyleView",
      "bar_color": null,
      "description_width": ""
     }
    },
    "207d9414b1f749e38cb938672fee8c76": {
     "model_module": "@jupyter-widgets/controls",
     "model_module_version": "1.5.0",
     "model_name": "FloatProgressModel",
     "state": {
      "_dom_classes": [],
      "_model_module": "@jupyter-widgets/controls",
      "_model_module_version": "1.5.0",
      "_model_name": "FloatProgressModel",
      "_view_count": null,
      "_view_module": "@jupyter-widgets/controls",
      "_view_module_version": "1.5.0",
      "_view_name": "ProgressView",
      "bar_style": "success",
      "description": "",
      "description_tooltip": null,
      "layout": "IPY_MODEL_e05e119a89e44491b4f14969857773ae",
      "max": 1,
      "min": 0,
      "orientation": "horizontal",
      "style": "IPY_MODEL_3e0ec94444c6437db0ebc704b3140784",
      "value": 1
     }
    },
    "2b11cc3c9d3545328eb0d946a48bdc68": {
     "model_module": "@jupyter-widgets/base",
     "model_module_version": "1.2.0",
     "model_name": "LayoutModel",
     "state": {
      "_model_module": "@jupyter-widgets/base",
      "_model_module_version": "1.2.0",
      "_model_name": "LayoutModel",
      "_view_count": null,
      "_view_module": "@jupyter-widgets/base",
      "_view_module_version": "1.2.0",
      "_view_name": "LayoutView",
      "align_content": null,
      "align_items": null,
      "align_self": null,
      "border": null,
      "bottom": null,
      "display": null,
      "flex": "2",
      "flex_flow": null,
      "grid_area": null,
      "grid_auto_columns": null,
      "grid_auto_flow": null,
      "grid_auto_rows": null,
      "grid_column": null,
      "grid_gap": null,
      "grid_row": null,
      "grid_template_areas": null,
      "grid_template_columns": null,
      "grid_template_rows": null,
      "height": null,
      "justify_content": null,
      "justify_items": null,
      "left": null,
      "margin": null,
      "max_height": null,
      "max_width": null,
      "min_height": null,
      "min_width": null,
      "object_fit": null,
      "object_position": null,
      "order": null,
      "overflow": null,
      "overflow_x": null,
      "overflow_y": null,
      "padding": null,
      "right": null,
      "top": null,
      "visibility": null,
      "width": null
     }
    },
    "2d392928774643f39c6ca522250299e8": {
     "model_module": "@jupyter-widgets/controls",
     "model_module_version": "1.5.0",
     "model_name": "DescriptionStyleModel",
     "state": {
      "_model_module": "@jupyter-widgets/controls",
      "_model_module_version": "1.5.0",
      "_model_name": "DescriptionStyleModel",
      "_view_count": null,
      "_view_module": "@jupyter-widgets/base",
      "_view_module_version": "1.2.0",
      "_view_name": "StyleView",
      "description_width": ""
     }
    },
    "3637c0f1b47545c5b895cfa3041b772a": {
     "model_module": "@jupyter-widgets/controls",
     "model_module_version": "1.5.0",
     "model_name": "HBoxModel",
     "state": {
      "_dom_classes": [],
      "_model_module": "@jupyter-widgets/controls",
      "_model_module_version": "1.5.0",
      "_model_name": "HBoxModel",
      "_view_count": null,
      "_view_module": "@jupyter-widgets/controls",
      "_view_module_version": "1.5.0",
      "_view_name": "HBoxView",
      "box_style": "",
      "children": [
       "IPY_MODEL_37059338cc874865abb9e99fc9ffc3ab",
       "IPY_MODEL_a83406782cb543c982c452082a222107",
       "IPY_MODEL_d23a96d2652543eb936012036ac3ae3c"
      ],
      "layout": "IPY_MODEL_ea142fd85d0d44e0ad8dd9381990c88d"
     }
    },
    "37059338cc874865abb9e99fc9ffc3ab": {
     "model_module": "@jupyter-widgets/controls",
     "model_module_version": "1.5.0",
     "model_name": "HTMLModel",
     "state": {
      "_dom_classes": [],
      "_model_module": "@jupyter-widgets/controls",
      "_model_module_version": "1.5.0",
      "_model_name": "HTMLModel",
      "_view_count": null,
      "_view_module": "@jupyter-widgets/controls",
      "_view_module_version": "1.5.0",
      "_view_name": "HTMLView",
      "description": "",
      "description_tooltip": null,
      "layout": "IPY_MODEL_ed2c227050b14596b1803c96c25b795e",
      "placeholder": "​",
      "style": "IPY_MODEL_4c853a6a4d754b51b131faf91a8c3543",
      "value": "Epoch 0: 100%"
     }
    },
    "3991e316d4a2486897870553fc6be84c": {
     "model_module": "@jupyter-widgets/controls",
     "model_module_version": "1.5.0",
     "model_name": "DescriptionStyleModel",
     "state": {
      "_model_module": "@jupyter-widgets/controls",
      "_model_module_version": "1.5.0",
      "_model_name": "DescriptionStyleModel",
      "_view_count": null,
      "_view_module": "@jupyter-widgets/base",
      "_view_module_version": "1.2.0",
      "_view_name": "StyleView",
      "description_width": ""
     }
    },
    "3e0ec94444c6437db0ebc704b3140784": {
     "model_module": "@jupyter-widgets/controls",
     "model_module_version": "1.5.0",
     "model_name": "ProgressStyleModel",
     "state": {
      "_model_module": "@jupyter-widgets/controls",
      "_model_module_version": "1.5.0",
      "_model_name": "ProgressStyleModel",
      "_view_count": null,
      "_view_module": "@jupyter-widgets/base",
      "_view_module_version": "1.2.0",
      "_view_name": "StyleView",
      "bar_color": null,
      "description_width": ""
     }
    },
    "4c853a6a4d754b51b131faf91a8c3543": {
     "model_module": "@jupyter-widgets/controls",
     "model_module_version": "1.5.0",
     "model_name": "DescriptionStyleModel",
     "state": {
      "_model_module": "@jupyter-widgets/controls",
      "_model_module_version": "1.5.0",
      "_model_name": "DescriptionStyleModel",
      "_view_count": null,
      "_view_module": "@jupyter-widgets/base",
      "_view_module_version": "1.2.0",
      "_view_name": "StyleView",
      "description_width": ""
     }
    },
    "4f30944d484943a9abbd914a1f612a35": {
     "model_module": "@jupyter-widgets/controls",
     "model_module_version": "1.5.0",
     "model_name": "FloatProgressModel",
     "state": {
      "_dom_classes": [],
      "_model_module": "@jupyter-widgets/controls",
      "_model_module_version": "1.5.0",
      "_model_name": "FloatProgressModel",
      "_view_count": null,
      "_view_module": "@jupyter-widgets/controls",
      "_view_module_version": "1.5.0",
      "_view_name": "ProgressView",
      "bar_style": "",
      "description": "",
      "description_tooltip": null,
      "layout": "IPY_MODEL_b188b74b31a040ba801c0a161497c0cc",
      "max": 1,
      "min": 0,
      "orientation": "horizontal",
      "style": "IPY_MODEL_a9ae38426c914505bccfba3ff8056386",
      "value": 1
     }
    },
    "61c7429f681548bd9e345dee2deda98d": {
     "model_module": "@jupyter-widgets/controls",
     "model_module_version": "1.5.0",
     "model_name": "HTMLModel",
     "state": {
      "_dom_classes": [],
      "_model_module": "@jupyter-widgets/controls",
      "_model_module_version": "1.5.0",
      "_model_name": "HTMLModel",
      "_view_count": null,
      "_view_module": "@jupyter-widgets/controls",
      "_view_module_version": "1.5.0",
      "_view_name": "HTMLView",
      "description": "",
      "description_tooltip": null,
      "layout": "IPY_MODEL_f54d91a9d1fc439a993573358a41ecda",
      "placeholder": "​",
      "style": "IPY_MODEL_a87890bb800940509177d1a25a9c4e82",
      "value": " 1/1 [00:02&lt;00:00,  0.48it/s, train_loss=2.510, train_acc=0.125, val_loss=2.300, val_acc=0.0781]"
     }
    },
    "661956e0dafa4eb1917a1d1ff503d1a6": {
     "model_module": "@jupyter-widgets/base",
     "model_module_version": "1.2.0",
     "model_name": "LayoutModel",
     "state": {
      "_model_module": "@jupyter-widgets/base",
      "_model_module_version": "1.2.0",
      "_model_name": "LayoutModel",
      "_view_count": null,
      "_view_module": "@jupyter-widgets/base",
      "_view_module_version": "1.2.0",
      "_view_name": "LayoutView",
      "align_content": null,
      "align_items": null,
      "align_self": null,
      "border": null,
      "bottom": null,
      "display": null,
      "flex": null,
      "flex_flow": null,
      "grid_area": null,
      "grid_auto_columns": null,
      "grid_auto_flow": null,
      "grid_auto_rows": null,
      "grid_column": null,
      "grid_gap": null,
      "grid_row": null,
      "grid_template_areas": null,
      "grid_template_columns": null,
      "grid_template_rows": null,
      "height": null,
      "justify_content": null,
      "justify_items": null,
      "left": null,
      "margin": null,
      "max_height": null,
      "max_width": null,
      "min_height": null,
      "min_width": null,
      "object_fit": null,
      "object_position": null,
      "order": null,
      "overflow": null,
      "overflow_x": null,
      "overflow_y": null,
      "padding": null,
      "right": null,
      "top": null,
      "visibility": null,
      "width": null
     }
    },
    "6a3078491f27442c9d9570d2b207c822": {
     "model_module": "@jupyter-widgets/controls",
     "model_module_version": "1.5.0",
     "model_name": "HTMLModel",
     "state": {
      "_dom_classes": [],
      "_model_module": "@jupyter-widgets/controls",
      "_model_module_version": "1.5.0",
      "_model_name": "HTMLModel",
      "_view_count": null,
      "_view_module": "@jupyter-widgets/controls",
      "_view_module_version": "1.5.0",
      "_view_name": "HTMLView",
      "description": "",
      "description_tooltip": null,
      "layout": "IPY_MODEL_0e3fd82e60d7421a915cca1fc204db2e",
      "placeholder": "​",
      "style": "IPY_MODEL_3991e316d4a2486897870553fc6be84c",
      "value": " 1/1 [00:00&lt;00:00,  2.35it/s]"
     }
    },
    "8bf1f58a120e422cbd193ab5c6309ef9": {
     "model_module": "@jupyter-widgets/controls",
     "model_module_version": "1.5.0",
     "model_name": "HBoxModel",
     "state": {
      "_dom_classes": [],
      "_model_module": "@jupyter-widgets/controls",
      "_model_module_version": "1.5.0",
      "_model_name": "HBoxModel",
      "_view_count": null,
      "_view_module": "@jupyter-widgets/controls",
      "_view_module_version": "1.5.0",
      "_view_name": "HBoxView",
      "box_style": "",
      "children": [
       "IPY_MODEL_0d5d90abad1f4aeaab48e81e703a2cb3",
       "IPY_MODEL_207d9414b1f749e38cb938672fee8c76",
       "IPY_MODEL_61c7429f681548bd9e345dee2deda98d"
      ],
      "layout": "IPY_MODEL_e685f71e328f4b03ae1e38b9a39f6abd"
     }
    },
    "a83406782cb543c982c452082a222107": {
     "model_module": "@jupyter-widgets/controls",
     "model_module_version": "1.5.0",
     "model_name": "FloatProgressModel",
     "state": {
      "_dom_classes": [],
      "_model_module": "@jupyter-widgets/controls",
      "_model_module_version": "1.5.0",
      "_model_name": "FloatProgressModel",
      "_view_count": null,
      "_view_module": "@jupyter-widgets/controls",
      "_view_module_version": "1.5.0",
      "_view_name": "ProgressView",
      "bar_style": "success",
      "description": "",
      "description_tooltip": null,
      "layout": "IPY_MODEL_2b11cc3c9d3545328eb0d946a48bdc68",
      "max": 1,
      "min": 0,
      "orientation": "horizontal",
      "style": "IPY_MODEL_1ea2cf561785498b826ba791b97119dc",
      "value": 1
     }
    },
    "a87890bb800940509177d1a25a9c4e82": {
     "model_module": "@jupyter-widgets/controls",
     "model_module_version": "1.5.0",
     "model_name": "DescriptionStyleModel",
     "state": {
      "_model_module": "@jupyter-widgets/controls",
      "_model_module_version": "1.5.0",
      "_model_name": "DescriptionStyleModel",
      "_view_count": null,
      "_view_module": "@jupyter-widgets/base",
      "_view_module_version": "1.2.0",
      "_view_name": "StyleView",
      "description_width": ""
     }
    },
    "a9ae38426c914505bccfba3ff8056386": {
     "model_module": "@jupyter-widgets/controls",
     "model_module_version": "1.5.0",
     "model_name": "ProgressStyleModel",
     "state": {
      "_model_module": "@jupyter-widgets/controls",
      "_model_module_version": "1.5.0",
      "_model_name": "ProgressStyleModel",
      "_view_count": null,
      "_view_module": "@jupyter-widgets/base",
      "_view_module_version": "1.2.0",
      "_view_name": "StyleView",
      "bar_color": null,
      "description_width": ""
     }
    },
    "a9dc6e9bae6a4538a32065f861bd0c91": {
     "model_module": "@jupyter-widgets/controls",
     "model_module_version": "1.5.0",
     "model_name": "DescriptionStyleModel",
     "state": {
      "_model_module": "@jupyter-widgets/controls",
      "_model_module_version": "1.5.0",
      "_model_name": "DescriptionStyleModel",
      "_view_count": null,
      "_view_module": "@jupyter-widgets/base",
      "_view_module_version": "1.2.0",
      "_view_name": "StyleView",
      "description_width": ""
     }
    },
    "adeb33f193a6400b98ce41cb0af90a6e": {
     "model_module": "@jupyter-widgets/controls",
     "model_module_version": "1.5.0",
     "model_name": "HTMLModel",
     "state": {
      "_dom_classes": [],
      "_model_module": "@jupyter-widgets/controls",
      "_model_module_version": "1.5.0",
      "_model_name": "HTMLModel",
      "_view_count": null,
      "_view_module": "@jupyter-widgets/controls",
      "_view_module_version": "1.5.0",
      "_view_name": "HTMLView",
      "description": "",
      "description_tooltip": null,
      "layout": "IPY_MODEL_e865e3272d5e494e82eeb6408ebb3fe2",
      "placeholder": "​",
      "style": "IPY_MODEL_0fcbe0455e3045cabb7557e1feaade99",
      "value": "Validation DataLoader 0: 100%"
     }
    },
    "b188b74b31a040ba801c0a161497c0cc": {
     "model_module": "@jupyter-widgets/base",
     "model_module_version": "1.2.0",
     "model_name": "LayoutModel",
     "state": {
      "_model_module": "@jupyter-widgets/base",
      "_model_module_version": "1.2.0",
      "_model_name": "LayoutModel",
      "_view_count": null,
      "_view_module": "@jupyter-widgets/base",
      "_view_module_version": "1.2.0",
      "_view_name": "LayoutView",
      "align_content": null,
      "align_items": null,
      "align_self": null,
      "border": null,
      "bottom": null,
      "display": null,
      "flex": "2",
      "flex_flow": null,
      "grid_area": null,
      "grid_auto_columns": null,
      "grid_auto_flow": null,
      "grid_auto_rows": null,
      "grid_column": null,
      "grid_gap": null,
      "grid_row": null,
      "grid_template_areas": null,
      "grid_template_columns": null,
      "grid_template_rows": null,
      "height": null,
      "justify_content": null,
      "justify_items": null,
      "left": null,
      "margin": null,
      "max_height": null,
      "max_width": null,
      "min_height": null,
      "min_width": null,
      "object_fit": null,
      "object_position": null,
      "order": null,
      "overflow": null,
      "overflow_x": null,
      "overflow_y": null,
      "padding": null,
      "right": null,
      "top": null,
      "visibility": null,
      "width": null
     }
    },
    "b857952a13d641139574985ae736600a": {
     "model_module": "@jupyter-widgets/controls",
     "model_module_version": "1.5.0",
     "model_name": "HBoxModel",
     "state": {
      "_dom_classes": [],
      "_model_module": "@jupyter-widgets/controls",
      "_model_module_version": "1.5.0",
      "_model_name": "HBoxModel",
      "_view_count": null,
      "_view_module": "@jupyter-widgets/controls",
      "_view_module_version": "1.5.0",
      "_view_name": "HBoxView",
      "box_style": "",
      "children": [
       "IPY_MODEL_adeb33f193a6400b98ce41cb0af90a6e",
       "IPY_MODEL_4f30944d484943a9abbd914a1f612a35",
       "IPY_MODEL_6a3078491f27442c9d9570d2b207c822"
      ],
      "layout": "IPY_MODEL_1d6333ebf3a44e02b00d45e80787bf1a"
     }
    },
    "d23a96d2652543eb936012036ac3ae3c": {
     "model_module": "@jupyter-widgets/controls",
     "model_module_version": "1.5.0",
     "model_name": "HTMLModel",
     "state": {
      "_dom_classes": [],
      "_model_module": "@jupyter-widgets/controls",
      "_model_module_version": "1.5.0",
      "_model_name": "HTMLModel",
      "_view_count": null,
      "_view_module": "@jupyter-widgets/controls",
      "_view_module_version": "1.5.0",
      "_view_name": "HTMLView",
      "description": "",
      "description_tooltip": null,
      "layout": "IPY_MODEL_661956e0dafa4eb1917a1d1ff503d1a6",
      "placeholder": "​",
      "style": "IPY_MODEL_2d392928774643f39c6ca522250299e8",
      "value": " 1/1 [00:03&lt;00:00,  0.26it/s, train_loss=2.350, train_acc=0.156]"
     }
    },
    "e05e119a89e44491b4f14969857773ae": {
     "model_module": "@jupyter-widgets/base",
     "model_module_version": "1.2.0",
     "model_name": "LayoutModel",
     "state": {
      "_model_module": "@jupyter-widgets/base",
      "_model_module_version": "1.2.0",
      "_model_name": "LayoutModel",
      "_view_count": null,
      "_view_module": "@jupyter-widgets/base",
      "_view_module_version": "1.2.0",
      "_view_name": "LayoutView",
      "align_content": null,
      "align_items": null,
      "align_self": null,
      "border": null,
      "bottom": null,
      "display": null,
      "flex": "2",
      "flex_flow": null,
      "grid_area": null,
      "grid_auto_columns": null,
      "grid_auto_flow": null,
      "grid_auto_rows": null,
      "grid_column": null,
      "grid_gap": null,
      "grid_row": null,
      "grid_template_areas": null,
      "grid_template_columns": null,
      "grid_template_rows": null,
      "height": null,
      "justify_content": null,
      "justify_items": null,
      "left": null,
      "margin": null,
      "max_height": null,
      "max_width": null,
      "min_height": null,
      "min_width": null,
      "object_fit": null,
      "object_position": null,
      "order": null,
      "overflow": null,
      "overflow_x": null,
      "overflow_y": null,
      "padding": null,
      "right": null,
      "top": null,
      "visibility": null,
      "width": null
     }
    },
    "e685f71e328f4b03ae1e38b9a39f6abd": {
     "model_module": "@jupyter-widgets/base",
     "model_module_version": "1.2.0",
     "model_name": "LayoutModel",
     "state": {
      "_model_module": "@jupyter-widgets/base",
      "_model_module_version": "1.2.0",
      "_model_name": "LayoutModel",
      "_view_count": null,
      "_view_module": "@jupyter-widgets/base",
      "_view_module_version": "1.2.0",
      "_view_name": "LayoutView",
      "align_content": null,
      "align_items": null,
      "align_self": null,
      "border": null,
      "bottom": null,
      "display": "inline-flex",
      "flex": null,
      "flex_flow": "row wrap",
      "grid_area": null,
      "grid_auto_columns": null,
      "grid_auto_flow": null,
      "grid_auto_rows": null,
      "grid_column": null,
      "grid_gap": null,
      "grid_row": null,
      "grid_template_areas": null,
      "grid_template_columns": null,
      "grid_template_rows": null,
      "height": null,
      "justify_content": null,
      "justify_items": null,
      "left": null,
      "margin": null,
      "max_height": null,
      "max_width": null,
      "min_height": null,
      "min_width": null,
      "object_fit": null,
      "object_position": null,
      "order": null,
      "overflow": null,
      "overflow_x": null,
      "overflow_y": null,
      "padding": null,
      "right": null,
      "top": null,
      "visibility": null,
      "width": "100%"
     }
    },
    "e71fa0e285d3494fa1c319fdacc83ebb": {
     "model_module": "@jupyter-widgets/base",
     "model_module_version": "1.2.0",
     "model_name": "LayoutModel",
     "state": {
      "_model_module": "@jupyter-widgets/base",
      "_model_module_version": "1.2.0",
      "_model_name": "LayoutModel",
      "_view_count": null,
      "_view_module": "@jupyter-widgets/base",
      "_view_module_version": "1.2.0",
      "_view_name": "LayoutView",
      "align_content": null,
      "align_items": null,
      "align_self": null,
      "border": null,
      "bottom": null,
      "display": null,
      "flex": null,
      "flex_flow": null,
      "grid_area": null,
      "grid_auto_columns": null,
      "grid_auto_flow": null,
      "grid_auto_rows": null,
      "grid_column": null,
      "grid_gap": null,
      "grid_row": null,
      "grid_template_areas": null,
      "grid_template_columns": null,
      "grid_template_rows": null,
      "height": null,
      "justify_content": null,
      "justify_items": null,
      "left": null,
      "margin": null,
      "max_height": null,
      "max_width": null,
      "min_height": null,
      "min_width": null,
      "object_fit": null,
      "object_position": null,
      "order": null,
      "overflow": null,
      "overflow_x": null,
      "overflow_y": null,
      "padding": null,
      "right": null,
      "top": null,
      "visibility": null,
      "width": null
     }
    },
    "e865e3272d5e494e82eeb6408ebb3fe2": {
     "model_module": "@jupyter-widgets/base",
     "model_module_version": "1.2.0",
     "model_name": "LayoutModel",
     "state": {
      "_model_module": "@jupyter-widgets/base",
      "_model_module_version": "1.2.0",
      "_model_name": "LayoutModel",
      "_view_count": null,
      "_view_module": "@jupyter-widgets/base",
      "_view_module_version": "1.2.0",
      "_view_name": "LayoutView",
      "align_content": null,
      "align_items": null,
      "align_self": null,
      "border": null,
      "bottom": null,
      "display": null,
      "flex": null,
      "flex_flow": null,
      "grid_area": null,
      "grid_auto_columns": null,
      "grid_auto_flow": null,
      "grid_auto_rows": null,
      "grid_column": null,
      "grid_gap": null,
      "grid_row": null,
      "grid_template_areas": null,
      "grid_template_columns": null,
      "grid_template_rows": null,
      "height": null,
      "justify_content": null,
      "justify_items": null,
      "left": null,
      "margin": null,
      "max_height": null,
      "max_width": null,
      "min_height": null,
      "min_width": null,
      "object_fit": null,
      "object_position": null,
      "order": null,
      "overflow": null,
      "overflow_x": null,
      "overflow_y": null,
      "padding": null,
      "right": null,
      "top": null,
      "visibility": null,
      "width": null
     }
    },
    "ea142fd85d0d44e0ad8dd9381990c88d": {
     "model_module": "@jupyter-widgets/base",
     "model_module_version": "1.2.0",
     "model_name": "LayoutModel",
     "state": {
      "_model_module": "@jupyter-widgets/base",
      "_model_module_version": "1.2.0",
      "_model_name": "LayoutModel",
      "_view_count": null,
      "_view_module": "@jupyter-widgets/base",
      "_view_module_version": "1.2.0",
      "_view_name": "LayoutView",
      "align_content": null,
      "align_items": null,
      "align_self": null,
      "border": null,
      "bottom": null,
      "display": "inline-flex",
      "flex": null,
      "flex_flow": "row wrap",
      "grid_area": null,
      "grid_auto_columns": null,
      "grid_auto_flow": null,
      "grid_auto_rows": null,
      "grid_column": null,
      "grid_gap": null,
      "grid_row": null,
      "grid_template_areas": null,
      "grid_template_columns": null,
      "grid_template_rows": null,
      "height": null,
      "justify_content": null,
      "justify_items": null,
      "left": null,
      "margin": null,
      "max_height": null,
      "max_width": null,
      "min_height": null,
      "min_width": null,
      "object_fit": null,
      "object_position": null,
      "order": null,
      "overflow": null,
      "overflow_x": null,
      "overflow_y": null,
      "padding": null,
      "right": null,
      "top": null,
      "visibility": null,
      "width": "100%"
     }
    },
    "ed2c227050b14596b1803c96c25b795e": {
     "model_module": "@jupyter-widgets/base",
     "model_module_version": "1.2.0",
     "model_name": "LayoutModel",
     "state": {
      "_model_module": "@jupyter-widgets/base",
      "_model_module_version": "1.2.0",
      "_model_name": "LayoutModel",
      "_view_count": null,
      "_view_module": "@jupyter-widgets/base",
      "_view_module_version": "1.2.0",
      "_view_name": "LayoutView",
      "align_content": null,
      "align_items": null,
      "align_self": null,
      "border": null,
      "bottom": null,
      "display": null,
      "flex": null,
      "flex_flow": null,
      "grid_area": null,
      "grid_auto_columns": null,
      "grid_auto_flow": null,
      "grid_auto_rows": null,
      "grid_column": null,
      "grid_gap": null,
      "grid_row": null,
      "grid_template_areas": null,
      "grid_template_columns": null,
      "grid_template_rows": null,
      "height": null,
      "justify_content": null,
      "justify_items": null,
      "left": null,
      "margin": null,
      "max_height": null,
      "max_width": null,
      "min_height": null,
      "min_width": null,
      "object_fit": null,
      "object_position": null,
      "order": null,
      "overflow": null,
      "overflow_x": null,
      "overflow_y": null,
      "padding": null,
      "right": null,
      "top": null,
      "visibility": null,
      "width": null
     }
    },
    "f54d91a9d1fc439a993573358a41ecda": {
     "model_module": "@jupyter-widgets/base",
     "model_module_version": "1.2.0",
     "model_name": "LayoutModel",
     "state": {
      "_model_module": "@jupyter-widgets/base",
      "_model_module_version": "1.2.0",
      "_model_name": "LayoutModel",
      "_view_count": null,
      "_view_module": "@jupyter-widgets/base",
      "_view_module_version": "1.2.0",
      "_view_name": "LayoutView",
      "align_content": null,
      "align_items": null,
      "align_self": null,
      "border": null,
      "bottom": null,
      "display": null,
      "flex": null,
      "flex_flow": null,
      "grid_area": null,
      "grid_auto_columns": null,
      "grid_auto_flow": null,
      "grid_auto_rows": null,
      "grid_column": null,
      "grid_gap": null,
      "grid_row": null,
      "grid_template_areas": null,
      "grid_template_columns": null,
      "grid_template_rows": null,
      "height": null,
      "justify_content": null,
      "justify_items": null,
      "left": null,
      "margin": null,
      "max_height": null,
      "max_width": null,
      "min_height": null,
      "min_width": null,
      "object_fit": null,
      "object_position": null,
      "order": null,
      "overflow": null,
      "overflow_x": null,
      "overflow_y": null,
      "padding": null,
      "right": null,
      "top": null,
      "visibility": null,
      "width": null
     }
    }
   }
  }
 },
 "nbformat": 4,
 "nbformat_minor": 1
}
