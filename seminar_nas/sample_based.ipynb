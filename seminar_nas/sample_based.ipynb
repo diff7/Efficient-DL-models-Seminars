{
 "cells": [
  {
   "cell_type": "code",
   "execution_count": null,
   "metadata": {
    "colab": {
     "base_uri": "https://localhost:8080/"
    },
    "id": "2ACgb_eVqsLT",
    "outputId": "3591dc3f-f0b1-4950-9943-18b8c863942e",
    "scrolled": true
   },
   "outputs": [],
   "source": [
    "!pip install nni"
   ]
  },
  {
   "cell_type": "code",
   "execution_count": null,
   "metadata": {
    "scrolled": true
   },
   "outputs": [],
   "source": [
    "!pip install torchvision"
   ]
  },
  {
   "cell_type": "code",
   "execution_count": null,
   "metadata": {
    "colab": {
     "base_uri": "https://localhost:8080/"
    },
    "id": "e7eDYLiAyea4",
    "outputId": "db1b52a3-9a07-49c4-cd1f-2bd81b3a217a",
    "scrolled": true
   },
   "outputs": [],
   "source": [
    "!pip install pytorch-lightning"
   ]
  },
  {
   "cell_type": "markdown",
   "metadata": {
    "id": "7rVFaQUw4S1-"
   },
   "source": [
    "# Neural Architecture Search"
   ]
  },
  {
   "cell_type": "markdown",
   "metadata": {
    "id": "b31FVMVJ4Kiz"
   },
   "source": [
    "![blabla](https://nni.readthedocs.io/en/stable/_images/nas_abstract_illustration.png)"
   ]
  },
  {
   "cell_type": "markdown",
   "metadata": {},
   "source": [
    "The process is similar to Hyperparameter Optimization, except that the target is the best architecture rather than hyperparameter. Concretely, an exploration strategy selects an architecture from a predefined search space. The architecture is passed to a performance evaluation to get a score, which represents how well this architecture performs on a particular task. This process is repeated until the search process is able to find the best architecture."
   ]
  },
  {
   "cell_type": "markdown",
   "metadata": {
    "id": "6CgSdoDxyofO"
   },
   "source": [
    "#### Example of a NN model\n"
   ]
  },
  {
   "cell_type": "code",
   "execution_count": null,
   "metadata": {
    "id": "ij7fg7fyyvWT"
   },
   "outputs": [],
   "source": [
    "import torch\n",
    "import torch.nn as nn\n",
    "import torch.nn.functional as F\n",
    "import nni\n",
    "from nni.nas.nn.pytorch import LayerChoice, ModelSpace, MutableDropout, MutableLinear"
   ]
  },
  {
   "cell_type": "code",
   "execution_count": null,
   "metadata": {
    "id": "jCdgAhCHvFKp"
   },
   "outputs": [],
   "source": [
    "class Net(ModelSpace):  # should inherit ModelSpace rather than nn.Module\n",
    "    def __init__(self):\n",
    "        super().__init__()\n",
    "        self.conv1 = nn.Conv2d(1, 32, 3, 1)\n",
    "        self.conv2 = nn.Conv2d(32, 64, 3, 1)\n",
    "        self.dropout1 = nn.Dropout(0.25)\n",
    "        self.dropout2 = nn.Dropout(0.5)\n",
    "        self.fc1 = nn.Linear(9216, 128)\n",
    "        self.fc2 = nn.Linear(128, 10)\n",
    "\n",
    "    def forward(self, x):\n",
    "        x = F.relu(self.conv1(x))\n",
    "        x = F.max_pool2d(self.conv2(x), 2)\n",
    "        x = torch.flatten(self.dropout1(x), 1)\n",
    "        x = self.fc2(self.dropout2(F.relu(self.fc1(x))))\n",
    "        output = F.log_softmax(x, dim=1)\n",
    "        return output"
   ]
  },
  {
   "cell_type": "markdown",
   "metadata": {
    "id": "eG8jyeFSzS77"
   },
   "source": [
    "### Model variations"
   ]
  },
  {
   "cell_type": "code",
   "execution_count": null,
   "metadata": {
    "id": "YfjVUukAvf5Q"
   },
   "outputs": [],
   "source": [
    "class DepthwiseSeparableConv(nn.Module):\n",
    "    def __init__(self, in_ch, out_ch):\n",
    "        super().__init__()\n",
    "        self.depthwise = nn.Conv2d(in_ch, in_ch, kernel_size=3, groups=in_ch)\n",
    "        self.pointwise = nn.Conv2d(in_ch, out_ch, kernel_size=1)\n",
    "\n",
    "    def forward(self, x):\n",
    "        return self.pointwise(self.depthwise(x))\n",
    "\n",
    "class MyModelSpace(ModelSpace):\n",
    "    def __init__(self):\n",
    "        super().__init__()\n",
    "        self.conv1 = nn.Conv2d(1, 32, 3, 1)\n",
    "\n",
    "        # LayerChoice is used to select a layer between Conv2d and DwConv.\n",
    "\n",
    "        self.conv2 = LayerChoice([\n",
    "            nn.Conv2d(32, 64, 3, 1),\n",
    "            DepthwiseSeparableConv(32, 64)\n",
    "        ], label='conv2')\n",
    "\n",
    "        # nni.choice is used to select a dropout rate.\n",
    "        # The result can be used as parameters of `MutableXXX`.\n",
    "\n",
    "        self.dropout1 = MutableDropout(nni.choice('dropout', [0.25, 0.5, 0.75]))  # choose dropout rate from 0.25, 0.5 and 0.75\n",
    "        self.dropout2 = nn.Dropout(0.5)\n",
    "        feature = nni.choice('feature', [64, 128, 256])\n",
    "        self.fc1 = MutableLinear(9216, feature)\n",
    "        self.fc2 = MutableLinear(feature, 10)\n",
    "\n",
    "    def forward(self, x):\n",
    "        x = F.relu(self.conv1(x))\n",
    "        x = F.max_pool2d(self.conv2(x), 2)\n",
    "        x = torch.flatten(self.dropout1(x), 1)\n",
    "        x = self.fc2(self.dropout2(F.relu(self.fc1(x))))\n",
    "        output = F.log_softmax(x, dim=1)\n",
    "        return output\n",
    "\n"
   ]
  },
  {
   "cell_type": "code",
   "execution_count": null,
   "metadata": {
    "colab": {
     "base_uri": "https://localhost:8080/"
    },
    "id": "CzMyPQJAyXWT",
    "outputId": "5a12d91b-9879-454a-dbda-daa1c9e56a4a"
   },
   "outputs": [],
   "source": [
    "model_space = MyModelSpace()\n",
    "model_space"
   ]
  },
  {
   "cell_type": "markdown",
   "metadata": {
    "id": "cNwfovN0z34Z"
   },
   "source": [
    "Details on model space: https://nni.readthedocs.io/en/stable/nas/construct_space.html"
   ]
  },
  {
   "cell_type": "markdown",
   "metadata": {
    "id": "nTdY7HBQ0Yuz"
   },
   "source": [
    "There are basically two exploration approaches:\n",
    "(1) search by evaluating each sampled model independently, which is the search approach in multi-trial NAS\n",
    "(2) one-shot weight-sharing based search, which is used in one-shot NAS.\n",
    "We demonstrate the first approach in this tutorial."
   ]
  },
  {
   "cell_type": "code",
   "execution_count": null,
   "metadata": {
    "id": "c4Uh9oxI2y0_"
   },
   "outputs": [],
   "source": [
    "from torchvision import transforms\n",
    "from torchvision.datasets import MNIST\n",
    "from torch.utils.data import DataLoader\n",
    "\n",
    "def train_epoch(model, device, train_loader, optimizer, epoch):\n",
    "    loss_fn = torch.nn.CrossEntropyLoss()\n",
    "    model.train()\n",
    "\n",
    "    for batch_idx, (data, target) in enumerate(train_loader):\n",
    "        data, target = data.to(device), target.to(device)\n",
    "        optimizer.zero_grad()\n",
    "        output = model(data)\n",
    "        loss = loss_fn(output, target)\n",
    "        loss.backward()\n",
    "        optimizer.step()\n",
    "        if batch_idx % 10 == 0:\n",
    "            print('Train Epoch: {} [{}/{} ({:.0f}%)]\\tLoss: {:.6f}'.format(\n",
    "                epoch, batch_idx * len(data), len(train_loader.dataset),\n",
    "                100. * batch_idx / len(train_loader), loss.item()))\n",
    "\n",
    "\n",
    "def test_epoch(model, device, test_loader):\n",
    "    model.eval()\n",
    "    test_loss = 0\n",
    "    correct = 0\n",
    "    with torch.no_grad():\n",
    "        for data, target in test_loader:\n",
    "            data, target = data.to(device), target.to(device)\n",
    "            output = model(data)\n",
    "            pred = output.argmax(dim=1, keepdim=True)\n",
    "            correct += pred.eq(target.view_as(pred)).sum().item()\n",
    "\n",
    "    test_loss /= len(test_loader.dataset)\n",
    "    accuracy = 100. * correct / len(test_loader.dataset)\n",
    "\n",
    "    print('\\nTest set: Accuracy: {}/{} ({:.0f}%)\\n'.format(\n",
    "          correct, len(test_loader.dataset), accuracy))\n",
    "\n",
    "    return accuracy"
   ]
  },
  {
   "cell_type": "markdown",
   "metadata": {
    "id": "Qdmw0va-2YbU"
   },
   "source": [
    "### Pick or customize a model evaluator"
   ]
  },
  {
   "cell_type": "markdown",
   "metadata": {
    "id": "jF2HK7Fj2Urj"
   },
   "source": [
    "In the exploration process, the exploration strategy repeatedly generates new models. A model evaluator is for training and validating each generated model to obtain the model’s performance. The performance is sent to the exploration strategy for the strategy to generate better models.\n",
    "\n",
    "NNI NAS has provided built-in model evaluators, but to start with, it is recommended to use FunctionalEvaluator, that is, to wrap your own training and evaluation code with one single function. This function should receive one single model class and uses nni.report_final_result() to report the final score of this model.\n",
    "\n"
   ]
  },
  {
   "cell_type": "code",
   "execution_count": null,
   "metadata": {
    "id": "Dz9sHzNG4v7T"
   },
   "outputs": [],
   "source": [
    "def evaluate_model(model):\n",
    "    # By v3.0, the model will be instantiated by default.\n",
    "    device = torch.device('cuda') if torch.cuda.is_available() else torch.device('cpu')\n",
    "    model.to(device)\n",
    "\n",
    "    optimizer = torch.optim.Adam(model.parameters(), lr=1e-3)\n",
    "    transf = transforms.Compose([transforms.ToTensor(), transforms.Normalize((0.1307,), (0.3081,))])\n",
    "    train_loader = DataLoader(MNIST('data/mnist', download=True, transform=transf), batch_size=64, shuffle=True)\n",
    "    test_loader = DataLoader(MNIST('data/mnist', download=True, train=False, transform=transf), batch_size=64)\n",
    "\n",
    "    for epoch in range(3):\n",
    "        # train the model for one epoch\n",
    "        train_epoch(model, device, train_loader, optimizer, epoch)\n",
    "        # test the model for one epoch\n",
    "        accuracy = test_epoch(model, device, test_loader)\n",
    "        # call report intermediate result. Result can be float or dict\n",
    "        nni.report_intermediate_result(accuracy)\n",
    "\n",
    "    # report final test result\n",
    "    nni.report_final_result(accuracy)"
   ]
  },
  {
   "cell_type": "markdown",
   "metadata": {
    "id": "uXvb15Tn0hsd"
   },
   "source": [
    "### Pick an exploration strategy"
   ]
  },
  {
   "cell_type": "markdown",
   "metadata": {
    "id": "qQycMFkn0nYd"
   },
   "source": [
    "See all exploration strategies: https://nni.readthedocs.io/en/stable/nas/exploration_strategy.html"
   ]
  },
  {
   "cell_type": "markdown",
   "metadata": {
    "id": "dNcCz_rj2xKd"
   },
   "source": [
    "Model evaluators: https://nni.readthedocs.io/en/stable/nas/evaluator.html"
   ]
  },
  {
   "cell_type": "code",
   "execution_count": null,
   "metadata": {
    "id": "3Fc4JspK0rwp"
   },
   "outputs": [],
   "source": [
    "import nni.nas.strategy as strategy\n",
    "#search_strategy = strategy.Random()\n",
    "search_strategy = strategy.TPE()"
   ]
  },
  {
   "cell_type": "markdown",
   "metadata": {
    "id": "m42GtjBE5cfp"
   },
   "source": [
    "### Create the evaluator"
   ]
  },
  {
   "cell_type": "code",
   "execution_count": null,
   "metadata": {
    "id": "SjTJ-Sd04lvR"
   },
   "outputs": [],
   "source": [
    "from nni.nas.evaluator import FunctionalEvaluator\n",
    "evaluator = FunctionalEvaluator(evaluate_model)"
   ]
  },
  {
   "cell_type": "markdown",
   "metadata": {
    "id": "ikzl6UwG6ixm"
   },
   "source": [
    "### Launch an experiment"
   ]
  },
  {
   "cell_type": "code",
   "execution_count": null,
   "metadata": {
    "colab": {
     "base_uri": "https://localhost:8080/"
    },
    "id": "1M9Sw0fR0qWJ",
    "outputId": "f9938f68-3f0c-490d-b65a-9bd684b7486e"
   },
   "outputs": [],
   "source": [
    "from nni.nas.experiment import NasExperiment\n",
    "exp = NasExperiment(model_space, evaluator, search_strategy)"
   ]
  },
  {
   "cell_type": "code",
   "execution_count": null,
   "metadata": {
    "id": "Wn6usoTo0ifO"
   },
   "outputs": [],
   "source": [
    "# optional\n",
    "\n",
    "exp.config.max_trial_number = 3   # spawn 3 trials at most\n",
    "exp.config.trial_concurrency = 1  # will run 1 trial concurrently\n",
    "#exp.config.trial_gpu_number = 0   # will not use GPU\n",
    "\n",
    "# uncomment to use GPU\n",
    "exp.config.trial_gpu_number = 1\n",
    "exp.config.training_service.use_active_gpu = True"
   ]
  },
  {
   "cell_type": "code",
   "execution_count": null,
   "metadata": {},
   "outputs": [],
   "source": [
    "!nnictl stop"
   ]
  },
  {
   "cell_type": "code",
   "execution_count": null,
   "metadata": {
    "colab": {
     "base_uri": "https://localhost:8080/",
     "height": 900
    },
    "id": "Bv5T5Cyl685A",
    "outputId": "42c306c0-1c1e-4625-f7ec-804bea50067c"
   },
   "outputs": [],
   "source": [
    "exp.run(port = 8896, debug = True)"
   ]
  },
  {
   "cell_type": "markdown",
   "metadata": {
    "id": "oSKUMgWv_MbR"
   },
   "source": [
    "### Export top models"
   ]
  },
  {
   "cell_type": "code",
   "execution_count": null,
   "metadata": {
    "colab": {
     "base_uri": "https://localhost:8080/",
     "height": 645
    },
    "id": "QwqN0FwI7APK",
    "outputId": "ebe80eb1-f2cd-4815-ed43-c850ac0e9769"
   },
   "outputs": [],
   "source": [
    "for model_dict in exp.export_top_models(formatter='dict'):\n",
    "    print(model_dict)"
   ]
  }
 ],
 "metadata": {
  "accelerator": "GPU",
  "colab": {
   "gpuType": "T4",
   "provenance": []
  },
  "kernelspec": {
   "display_name": "Python 3 (ipykernel)",
   "language": "python",
   "name": "python3"
  },
  "language_info": {
   "codemirror_mode": {
    "name": "ipython",
    "version": 3
   },
   "file_extension": ".py",
   "mimetype": "text/x-python",
   "name": "python",
   "nbconvert_exporter": "python",
   "pygments_lexer": "ipython3",
   "version": "3.9.13"
  }
 },
 "nbformat": 4,
 "nbformat_minor": 1
}
