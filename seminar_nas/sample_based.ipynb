{
 "cells": [
  {
   "cell_type": "code",
   "execution_count": 1,
   "metadata": {
    "colab": {
     "base_uri": "https://localhost:8080/"
    },
    "id": "2ACgb_eVqsLT",
    "outputId": "3591dc3f-f0b1-4950-9943-18b8c863942e"
   },
   "outputs": [
    {
     "name": "stdout",
     "output_type": "stream",
     "text": [
      "Requirement already satisfied: nni in /home/anaconda/lib/python3.9/site-packages (3.0)\n",
      "Requirement already satisfied: scikit-learn>=0.24.1 in /home/anaconda/lib/python3.9/site-packages (from nni) (1.0.2)\n",
      "Requirement already satisfied: scipy in /home/anaconda/lib/python3.9/site-packages (from nni) (1.9.1)\n",
      "Requirement already satisfied: astor in /home/anaconda/lib/python3.9/site-packages (from nni) (0.8.1)\n",
      "Requirement already satisfied: filelock<3.12 in /home/anaconda/lib/python3.9/site-packages (from nni) (3.6.0)\n",
      "Requirement already satisfied: schema in /home/anaconda/lib/python3.9/site-packages (from nni) (0.7.5)\n",
      "Requirement already satisfied: websockets>=10.1 in /home/anaconda/lib/python3.9/site-packages (from nni) (12.0)\n",
      "Requirement already satisfied: cloudpickle in /home/anaconda/lib/python3.9/site-packages (from nni) (2.0.0)\n",
      "Requirement already satisfied: tqdm in /home/anaconda/lib/python3.9/site-packages (from nni) (4.64.1)\n",
      "Requirement already satisfied: typeguard<4.1.3,>=3.0.0 in /home/anaconda/lib/python3.9/site-packages (from nni) (4.1.2)\n",
      "Requirement already satisfied: pyyaml>=5.4 in /home/anaconda/lib/python3.9/site-packages (from nni) (6.0)\n",
      "Requirement already satisfied: packaging in /home/anaconda/lib/python3.9/site-packages (from nni) (21.3)\n",
      "Requirement already satisfied: pandas in /home/anaconda/lib/python3.9/site-packages (from nni) (1.4.4)\n",
      "Requirement already satisfied: psutil in /home/anaconda/lib/python3.9/site-packages (from nni) (5.9.0)\n",
      "Requirement already satisfied: nvidia-ml-py in /home/anaconda/lib/python3.9/site-packages (from nni) (12.535.133)\n",
      "Requirement already satisfied: typing-extensions>=4.7.0 in /home/anaconda/lib/python3.9/site-packages (from nni) (4.11.0)\n",
      "Requirement already satisfied: PythonWebHDFS in /home/anaconda/lib/python3.9/site-packages (from nni) (0.2.3)\n",
      "Requirement already satisfied: responses in /home/anaconda/lib/python3.9/site-packages (from nni) (0.25.0)\n",
      "Requirement already satisfied: numpy in /home/anaconda/lib/python3.9/site-packages (from nni) (1.21.5)\n",
      "Requirement already satisfied: colorama in /home/anaconda/lib/python3.9/site-packages (from nni) (0.4.5)\n",
      "Requirement already satisfied: requests in /home/anaconda/lib/python3.9/site-packages (from nni) (2.31.0)\n",
      "Requirement already satisfied: prettytable in /home/anaconda/lib/python3.9/site-packages (from nni) (3.10.0)\n",
      "Requirement already satisfied: json-tricks>=3.15.5 in /home/anaconda/lib/python3.9/site-packages (from nni) (3.17.3)\n",
      "Requirement already satisfied: joblib>=0.11 in /home/anaconda/lib/python3.9/site-packages (from scikit-learn>=0.24.1->nni) (1.1.0)\n",
      "Requirement already satisfied: threadpoolctl>=2.0.0 in /home/anaconda/lib/python3.9/site-packages (from scikit-learn>=0.24.1->nni) (2.2.0)\n",
      "Requirement already satisfied: importlib-metadata>=3.6 in /home/anaconda/lib/python3.9/site-packages (from typeguard<4.1.3,>=3.0.0->nni) (4.11.3)\n",
      "Requirement already satisfied: pyparsing!=3.0.5,>=2.0.2 in /home/anaconda/lib/python3.9/site-packages (from packaging->nni) (3.0.9)\n",
      "Requirement already satisfied: python-dateutil>=2.8.1 in /home/anaconda/lib/python3.9/site-packages (from pandas->nni) (2.8.2)\n",
      "Requirement already satisfied: pytz>=2020.1 in /home/anaconda/lib/python3.9/site-packages (from pandas->nni) (2022.1)\n",
      "Requirement already satisfied: wcwidth in /home/anaconda/lib/python3.9/site-packages (from prettytable->nni) (0.2.5)\n",
      "Requirement already satisfied: simplejson in /home/anaconda/lib/python3.9/site-packages (from PythonWebHDFS->nni) (3.19.2)\n",
      "Requirement already satisfied: charset-normalizer<4,>=2 in /home/anaconda/lib/python3.9/site-packages (from requests->nni) (2.0.4)\n",
      "Requirement already satisfied: urllib3<3,>=1.21.1 in /home/anaconda/lib/python3.9/site-packages (from requests->nni) (1.26.11)\n",
      "Requirement already satisfied: certifi>=2017.4.17 in /home/anaconda/lib/python3.9/site-packages (from requests->nni) (2022.9.14)\n",
      "Requirement already satisfied: idna<4,>=2.5 in /home/anaconda/lib/python3.9/site-packages (from requests->nni) (3.3)\n",
      "Requirement already satisfied: contextlib2>=0.5.5 in /home/anaconda/lib/python3.9/site-packages (from schema->nni) (21.6.0)\n",
      "Requirement already satisfied: zipp>=0.5 in /home/anaconda/lib/python3.9/site-packages (from importlib-metadata>=3.6->typeguard<4.1.3,>=3.0.0->nni) (3.8.0)\n",
      "Requirement already satisfied: six>=1.5 in /home/anaconda/lib/python3.9/site-packages (from python-dateutil>=2.8.1->pandas->nni) (1.16.0)\n",
      "\u001b[33mWARNING: Running pip as the 'root' user can result in broken permissions and conflicting behaviour with the system package manager. It is recommended to use a virtual environment instead: https://pip.pypa.io/warnings/venv\u001b[0m\u001b[33m\n",
      "\u001b[0m"
     ]
    }
   ],
   "source": [
    "!pip install nni"
   ]
  },
  {
   "cell_type": "code",
   "execution_count": 2,
   "metadata": {
    "colab": {
     "base_uri": "https://localhost:8080/"
    },
    "id": "e7eDYLiAyea4",
    "outputId": "db1b52a3-9a07-49c4-cd1f-2bd81b3a217a"
   },
   "outputs": [
    {
     "name": "stdout",
     "output_type": "stream",
     "text": [
      "Requirement already satisfied: pytorch-lightning in /home/anaconda/lib/python3.9/site-packages (2.2.2)\n",
      "Requirement already satisfied: torchmetrics>=0.7.0 in /home/anaconda/lib/python3.9/site-packages (from pytorch-lightning) (1.3.2)\n",
      "Requirement already satisfied: typing-extensions>=4.4.0 in /home/anaconda/lib/python3.9/site-packages (from pytorch-lightning) (4.11.0)\n",
      "Requirement already satisfied: torch>=1.13.0 in /home/anaconda/lib/python3.9/site-packages (from pytorch-lightning) (2.2.2)\n",
      "Requirement already satisfied: tqdm>=4.57.0 in /home/anaconda/lib/python3.9/site-packages (from pytorch-lightning) (4.64.1)\n",
      "Requirement already satisfied: lightning-utilities>=0.8.0 in /home/anaconda/lib/python3.9/site-packages (from pytorch-lightning) (0.11.2)\n",
      "Requirement already satisfied: fsspec[http]>=2022.5.0 in /home/anaconda/lib/python3.9/site-packages (from pytorch-lightning) (2022.7.1)\n",
      "Requirement already satisfied: PyYAML>=5.4 in /home/anaconda/lib/python3.9/site-packages (from pytorch-lightning) (6.0)\n",
      "Requirement already satisfied: numpy>=1.17.2 in /home/anaconda/lib/python3.9/site-packages (from pytorch-lightning) (1.21.5)\n",
      "Requirement already satisfied: packaging>=20.0 in /home/anaconda/lib/python3.9/site-packages (from pytorch-lightning) (21.3)\n",
      "Requirement already satisfied: requests in /home/anaconda/lib/python3.9/site-packages (from fsspec[http]>=2022.5.0->pytorch-lightning) (2.31.0)\n",
      "Requirement already satisfied: aiohttp in /home/anaconda/lib/python3.9/site-packages (from fsspec[http]>=2022.5.0->pytorch-lightning) (3.9.5)\n",
      "Requirement already satisfied: setuptools in /home/anaconda/lib/python3.9/site-packages (from lightning-utilities>=0.8.0->pytorch-lightning) (63.4.1)\n",
      "Requirement already satisfied: pyparsing!=3.0.5,>=2.0.2 in /home/anaconda/lib/python3.9/site-packages (from packaging>=20.0->pytorch-lightning) (3.0.9)\n",
      "Requirement already satisfied: jinja2 in /home/anaconda/lib/python3.9/site-packages (from torch>=1.13.0->pytorch-lightning) (2.11.3)\n",
      "Requirement already satisfied: nvidia-cublas-cu12==12.1.3.1 in /home/anaconda/lib/python3.9/site-packages (from torch>=1.13.0->pytorch-lightning) (12.1.3.1)\n",
      "Requirement already satisfied: nvidia-cuda-cupti-cu12==12.1.105 in /home/anaconda/lib/python3.9/site-packages (from torch>=1.13.0->pytorch-lightning) (12.1.105)\n",
      "Requirement already satisfied: nvidia-cusolver-cu12==11.4.5.107 in /home/anaconda/lib/python3.9/site-packages (from torch>=1.13.0->pytorch-lightning) (11.4.5.107)\n",
      "Requirement already satisfied: nvidia-nvtx-cu12==12.1.105 in /home/anaconda/lib/python3.9/site-packages (from torch>=1.13.0->pytorch-lightning) (12.1.105)\n",
      "Requirement already satisfied: networkx in /home/anaconda/lib/python3.9/site-packages (from torch>=1.13.0->pytorch-lightning) (2.8.4)\n",
      "Requirement already satisfied: nvidia-cufft-cu12==11.0.2.54 in /home/anaconda/lib/python3.9/site-packages (from torch>=1.13.0->pytorch-lightning) (11.0.2.54)\n",
      "Requirement already satisfied: nvidia-nccl-cu12==2.19.3 in /home/anaconda/lib/python3.9/site-packages (from torch>=1.13.0->pytorch-lightning) (2.19.3)\n",
      "Requirement already satisfied: triton==2.2.0 in /home/anaconda/lib/python3.9/site-packages (from torch>=1.13.0->pytorch-lightning) (2.2.0)\n",
      "Requirement already satisfied: filelock in /home/anaconda/lib/python3.9/site-packages (from torch>=1.13.0->pytorch-lightning) (3.6.0)\n",
      "Requirement already satisfied: nvidia-cudnn-cu12==8.9.2.26 in /home/anaconda/lib/python3.9/site-packages (from torch>=1.13.0->pytorch-lightning) (8.9.2.26)\n",
      "Requirement already satisfied: nvidia-curand-cu12==10.3.2.106 in /home/anaconda/lib/python3.9/site-packages (from torch>=1.13.0->pytorch-lightning) (10.3.2.106)\n",
      "Requirement already satisfied: sympy in /home/anaconda/lib/python3.9/site-packages (from torch>=1.13.0->pytorch-lightning) (1.10.1)\n",
      "Requirement already satisfied: nvidia-cuda-nvrtc-cu12==12.1.105 in /home/anaconda/lib/python3.9/site-packages (from torch>=1.13.0->pytorch-lightning) (12.1.105)\n",
      "Requirement already satisfied: nvidia-cuda-runtime-cu12==12.1.105 in /home/anaconda/lib/python3.9/site-packages (from torch>=1.13.0->pytorch-lightning) (12.1.105)\n",
      "Requirement already satisfied: nvidia-cusparse-cu12==12.1.0.106 in /home/anaconda/lib/python3.9/site-packages (from torch>=1.13.0->pytorch-lightning) (12.1.0.106)\n",
      "Requirement already satisfied: nvidia-nvjitlink-cu12 in /home/anaconda/lib/python3.9/site-packages (from nvidia-cusolver-cu12==11.4.5.107->torch>=1.13.0->pytorch-lightning) (12.3.101)\n",
      "Requirement already satisfied: frozenlist>=1.1.1 in /home/anaconda/lib/python3.9/site-packages (from aiohttp->fsspec[http]>=2022.5.0->pytorch-lightning) (1.4.1)\n",
      "Requirement already satisfied: async-timeout<5.0,>=4.0 in /home/anaconda/lib/python3.9/site-packages (from aiohttp->fsspec[http]>=2022.5.0->pytorch-lightning) (4.0.3)\n",
      "Requirement already satisfied: attrs>=17.3.0 in /home/anaconda/lib/python3.9/site-packages (from aiohttp->fsspec[http]>=2022.5.0->pytorch-lightning) (21.4.0)\n",
      "Requirement already satisfied: yarl<2.0,>=1.0 in /home/anaconda/lib/python3.9/site-packages (from aiohttp->fsspec[http]>=2022.5.0->pytorch-lightning) (1.9.4)\n",
      "Requirement already satisfied: aiosignal>=1.1.2 in /home/anaconda/lib/python3.9/site-packages (from aiohttp->fsspec[http]>=2022.5.0->pytorch-lightning) (1.3.1)\n",
      "Requirement already satisfied: multidict<7.0,>=4.5 in /home/anaconda/lib/python3.9/site-packages (from aiohttp->fsspec[http]>=2022.5.0->pytorch-lightning) (6.0.5)\n",
      "Requirement already satisfied: MarkupSafe>=0.23 in /home/anaconda/lib/python3.9/site-packages (from jinja2->torch>=1.13.0->pytorch-lightning) (2.0.1)\n",
      "Requirement already satisfied: charset-normalizer<4,>=2 in /home/anaconda/lib/python3.9/site-packages (from requests->fsspec[http]>=2022.5.0->pytorch-lightning) (2.0.4)\n",
      "Requirement already satisfied: urllib3<3,>=1.21.1 in /home/anaconda/lib/python3.9/site-packages (from requests->fsspec[http]>=2022.5.0->pytorch-lightning) (1.26.11)\n",
      "Requirement already satisfied: idna<4,>=2.5 in /home/anaconda/lib/python3.9/site-packages (from requests->fsspec[http]>=2022.5.0->pytorch-lightning) (3.3)\n",
      "Requirement already satisfied: certifi>=2017.4.17 in /home/anaconda/lib/python3.9/site-packages (from requests->fsspec[http]>=2022.5.0->pytorch-lightning) (2022.9.14)\n",
      "Requirement already satisfied: mpmath>=0.19 in /home/anaconda/lib/python3.9/site-packages (from sympy->torch>=1.13.0->pytorch-lightning) (1.2.1)\n",
      "\u001b[33mWARNING: Running pip as the 'root' user can result in broken permissions and conflicting behaviour with the system package manager. It is recommended to use a virtual environment instead: https://pip.pypa.io/warnings/venv\u001b[0m\u001b[33m\n",
      "\u001b[0m"
     ]
    }
   ],
   "source": [
    "!pip install pytorch-lightning"
   ]
  },
  {
   "cell_type": "code",
   "execution_count": 3,
   "metadata": {},
   "outputs": [
    {
     "name": "stdout",
     "output_type": "stream",
     "text": [
      "Requirement already satisfied: torchvision in /home/anaconda/lib/python3.9/site-packages (0.17.2)\n",
      "Requirement already satisfied: numpy in /home/anaconda/lib/python3.9/site-packages (from torchvision) (1.21.5)\n",
      "Requirement already satisfied: pillow!=8.3.*,>=5.3.0 in /home/anaconda/lib/python3.9/site-packages (from torchvision) (9.2.0)\n",
      "Requirement already satisfied: torch==2.2.2 in /home/anaconda/lib/python3.9/site-packages (from torchvision) (2.2.2)\n",
      "Requirement already satisfied: nvidia-curand-cu12==10.3.2.106 in /home/anaconda/lib/python3.9/site-packages (from torch==2.2.2->torchvision) (10.3.2.106)\n",
      "Requirement already satisfied: nvidia-cusparse-cu12==12.1.0.106 in /home/anaconda/lib/python3.9/site-packages (from torch==2.2.2->torchvision) (12.1.0.106)\n",
      "Requirement already satisfied: filelock in /home/anaconda/lib/python3.9/site-packages (from torch==2.2.2->torchvision) (3.6.0)\n",
      "Requirement already satisfied: nvidia-cuda-runtime-cu12==12.1.105 in /home/anaconda/lib/python3.9/site-packages (from torch==2.2.2->torchvision) (12.1.105)\n",
      "Requirement already satisfied: nvidia-cufft-cu12==11.0.2.54 in /home/anaconda/lib/python3.9/site-packages (from torch==2.2.2->torchvision) (11.0.2.54)\n",
      "Requirement already satisfied: triton==2.2.0 in /home/anaconda/lib/python3.9/site-packages (from torch==2.2.2->torchvision) (2.2.0)\n",
      "Requirement already satisfied: fsspec in /home/anaconda/lib/python3.9/site-packages (from torch==2.2.2->torchvision) (2022.7.1)\n",
      "Requirement already satisfied: nvidia-nccl-cu12==2.19.3 in /home/anaconda/lib/python3.9/site-packages (from torch==2.2.2->torchvision) (2.19.3)\n",
      "Requirement already satisfied: sympy in /home/anaconda/lib/python3.9/site-packages (from torch==2.2.2->torchvision) (1.10.1)\n",
      "Requirement already satisfied: nvidia-cuda-nvrtc-cu12==12.1.105 in /home/anaconda/lib/python3.9/site-packages (from torch==2.2.2->torchvision) (12.1.105)\n",
      "Requirement already satisfied: nvidia-nvtx-cu12==12.1.105 in /home/anaconda/lib/python3.9/site-packages (from torch==2.2.2->torchvision) (12.1.105)\n",
      "Requirement already satisfied: typing-extensions>=4.8.0 in /home/anaconda/lib/python3.9/site-packages (from torch==2.2.2->torchvision) (4.11.0)\n",
      "Requirement already satisfied: nvidia-cusolver-cu12==11.4.5.107 in /home/anaconda/lib/python3.9/site-packages (from torch==2.2.2->torchvision) (11.4.5.107)\n",
      "Requirement already satisfied: nvidia-cudnn-cu12==8.9.2.26 in /home/anaconda/lib/python3.9/site-packages (from torch==2.2.2->torchvision) (8.9.2.26)\n",
      "Requirement already satisfied: nvidia-cublas-cu12==12.1.3.1 in /home/anaconda/lib/python3.9/site-packages (from torch==2.2.2->torchvision) (12.1.3.1)\n",
      "Requirement already satisfied: jinja2 in /home/anaconda/lib/python3.9/site-packages (from torch==2.2.2->torchvision) (2.11.3)\n",
      "Requirement already satisfied: nvidia-cuda-cupti-cu12==12.1.105 in /home/anaconda/lib/python3.9/site-packages (from torch==2.2.2->torchvision) (12.1.105)\n",
      "Requirement already satisfied: networkx in /home/anaconda/lib/python3.9/site-packages (from torch==2.2.2->torchvision) (2.8.4)\n",
      "Requirement already satisfied: nvidia-nvjitlink-cu12 in /home/anaconda/lib/python3.9/site-packages (from nvidia-cusolver-cu12==11.4.5.107->torch==2.2.2->torchvision) (12.3.101)\n",
      "Requirement already satisfied: MarkupSafe>=0.23 in /home/anaconda/lib/python3.9/site-packages (from jinja2->torch==2.2.2->torchvision) (2.0.1)\n",
      "Requirement already satisfied: mpmath>=0.19 in /home/anaconda/lib/python3.9/site-packages (from sympy->torch==2.2.2->torchvision) (1.2.1)\n",
      "\u001b[33mWARNING: Running pip as the 'root' user can result in broken permissions and conflicting behaviour with the system package manager. It is recommended to use a virtual environment instead: https://pip.pypa.io/warnings/venv\u001b[0m\u001b[33m\n",
      "\u001b[0m"
     ]
    }
   ],
   "source": [
    "!pip install torchvision"
   ]
  },
  {
   "cell_type": "markdown",
   "metadata": {
    "id": "7rVFaQUw4S1-"
   },
   "source": [
    "# Neural Architecture Search"
   ]
  },
  {
   "cell_type": "markdown",
   "metadata": {
    "id": "b31FVMVJ4Kiz"
   },
   "source": [
    "![blabla](https://nni.readthedocs.io/en/stable/_images/nas_abstract_illustration.png)"
   ]
  },
  {
   "cell_type": "markdown",
   "metadata": {},
   "source": [
    "The process is similar to Hyperparameter Optimization, except that the target is the best architecture rather than hyperparameter. Concretely, an exploration strategy selects an architecture from a predefined search space. The architecture is passed to a performance evaluation to get a score, which represents how well this architecture performs on a particular task. This process is repeated until the search process is able to find the best architecture."
   ]
  },
  {
   "cell_type": "markdown",
   "metadata": {
    "id": "6CgSdoDxyofO"
   },
   "source": [
    "#### Example of a NN model\n"
   ]
  },
  {
   "cell_type": "code",
   "execution_count": 4,
   "metadata": {
    "id": "ij7fg7fyyvWT"
   },
   "outputs": [],
   "source": [
    "import torch\n",
    "import torch.nn as nn\n",
    "import torch.nn.functional as F\n",
    "import nni\n",
    "from nni.nas.nn.pytorch import LayerChoice, ModelSpace, MutableDropout, MutableLinear"
   ]
  },
  {
   "cell_type": "code",
   "execution_count": 5,
   "metadata": {
    "id": "jCdgAhCHvFKp"
   },
   "outputs": [],
   "source": [
    "class Net(ModelSpace):  # should inherit ModelSpace rather than nn.Module\n",
    "    def __init__(self):\n",
    "        super().__init__()\n",
    "        self.conv1 = nn.Conv2d(1, 32, 3, 1)\n",
    "        self.conv2 = nn.Conv2d(32, 64, 3, 1)\n",
    "        self.dropout1 = nn.Dropout(0.25)\n",
    "        self.dropout2 = nn.Dropout(0.5)\n",
    "        self.fc1 = nn.Linear(9216, 128)\n",
    "        self.fc2 = nn.Linear(128, 10)\n",
    "\n",
    "    def forward(self, x):\n",
    "        x = F.relu(self.conv1(x))\n",
    "        x = F.max_pool2d(self.conv2(x), 2)\n",
    "        x = torch.flatten(self.dropout1(x), 1)\n",
    "        x = self.fc2(self.dropout2(F.relu(self.fc1(x))))\n",
    "        output = F.log_softmax(x, dim=1)\n",
    "        return output"
   ]
  },
  {
   "cell_type": "markdown",
   "metadata": {
    "id": "eG8jyeFSzS77"
   },
   "source": [
    "### Model variations"
   ]
  },
  {
   "cell_type": "code",
   "execution_count": 6,
   "metadata": {
    "id": "YfjVUukAvf5Q"
   },
   "outputs": [],
   "source": [
    "class DepthwiseSeparableConv(nn.Module):\n",
    "    def __init__(self, in_ch, out_ch):\n",
    "        super().__init__()\n",
    "        self.depthwise = nn.Conv2d(in_ch, in_ch, kernel_size=3, groups=in_ch)\n",
    "        self.pointwise = nn.Conv2d(in_ch, out_ch, kernel_size=1)\n",
    "\n",
    "    def forward(self, x):\n",
    "        return self.pointwise(self.depthwise(x))\n",
    "\n",
    "class MyModelSpace(ModelSpace):\n",
    "    def __init__(self):\n",
    "        super().__init__()\n",
    "        self.conv1 = nn.Conv2d(1, 32, 3, 1)\n",
    "\n",
    "        # LayerChoice is used to select a layer between Conv2d and DwConv.\n",
    "\n",
    "        self.conv2 = LayerChoice([\n",
    "            nn.Conv2d(32, 64, 3, 1),\n",
    "            DepthwiseSeparableConv(32, 64)\n",
    "        ], label='conv2')\n",
    "\n",
    "        # nni.choice is used to select a dropout rate.\n",
    "        # The result can be used as parameters of `MutableXXX`.\n",
    "\n",
    "        self.dropout1 = MutableDropout(nni.choice('dropout', [0.25, 0.5, 0.75]))  # choose dropout rate from 0.25, 0.5 and 0.75\n",
    "        self.dropout2 = nn.Dropout(0.5)\n",
    "        feature = nni.choice('feature', [64, 128, 256])\n",
    "        self.fc1 = MutableLinear(9216, feature)\n",
    "        self.fc2 = MutableLinear(feature, 10)\n",
    "\n",
    "    def forward(self, x):\n",
    "        x = F.relu(self.conv1(x))\n",
    "        x = F.max_pool2d(self.conv2(x), 2)\n",
    "        x = torch.flatten(self.dropout1(x), 1)\n",
    "        x = self.fc2(self.dropout2(F.relu(self.fc1(x))))\n",
    "        output = F.log_softmax(x, dim=1)\n",
    "        return output\n",
    "\n"
   ]
  },
  {
   "cell_type": "code",
   "execution_count": 7,
   "metadata": {
    "colab": {
     "base_uri": "https://localhost:8080/"
    },
    "id": "CzMyPQJAyXWT",
    "outputId": "5a12d91b-9879-454a-dbda-daa1c9e56a4a"
   },
   "outputs": [
    {
     "data": {
      "text/plain": [
       "MyModelSpace(\n",
       "  (conv1): Conv2d(1, 32, kernel_size=(3, 3), stride=(1, 1))\n",
       "  (conv2): LayerChoice(\n",
       "    label='conv2'\n",
       "    (0): Conv2d(32, 64, kernel_size=(3, 3), stride=(1, 1))\n",
       "    (1): DepthwiseSeparableConv(\n",
       "      (depthwise): Conv2d(32, 32, kernel_size=(3, 3), stride=(1, 1), groups=32)\n",
       "      (pointwise): Conv2d(32, 64, kernel_size=(1, 1), stride=(1, 1))\n",
       "    )\n",
       "  )\n",
       "  (dropout1): MutableDropout(p=Categorical([0.25, 0.5, 0.75], label='dropout'))\n",
       "  (dropout2): Dropout(p=0.5, inplace=False)\n",
       "  (fc1): MutableLinear(in_features=9216, out_features=Categorical([64, 128, 256], label='feature'))\n",
       "  (fc2): MutableLinear(in_features=Categorical([64, 128, 256], label='feature'), out_features=10)\n",
       ")"
      ]
     },
     "execution_count": 7,
     "metadata": {},
     "output_type": "execute_result"
    }
   ],
   "source": [
    "model_space = MyModelSpace()\n",
    "model_space"
   ]
  },
  {
   "cell_type": "markdown",
   "metadata": {
    "id": "cNwfovN0z34Z"
   },
   "source": [
    "Details on model space: https://nni.readthedocs.io/en/stable/nas/construct_space.html"
   ]
  },
  {
   "cell_type": "markdown",
   "metadata": {
    "id": "nTdY7HBQ0Yuz"
   },
   "source": [
    "There are basically two exploration approaches:\n",
    "(1) search by evaluating each sampled model independently, which is the search approach in multi-trial NAS\n",
    "(2) one-shot weight-sharing based search, which is used in one-shot NAS.\n",
    "We demonstrate the first approach in this tutorial."
   ]
  },
  {
   "cell_type": "markdown",
   "metadata": {
    "id": "uXvb15Tn0hsd"
   },
   "source": [
    "### Pick an exploration strategy"
   ]
  },
  {
   "cell_type": "markdown",
   "metadata": {
    "id": "qQycMFkn0nYd"
   },
   "source": [
    "See all exploration strategies: https://nni.readthedocs.io/en/stable/nas/exploration_strategy.html"
   ]
  },
  {
   "cell_type": "code",
   "execution_count": 8,
   "metadata": {
    "id": "3Fc4JspK0rwp"
   },
   "outputs": [],
   "source": [
    "import nni.nas.strategy as strategy\n",
    "search_strategy = strategy.Random()"
   ]
  },
  {
   "cell_type": "markdown",
   "metadata": {
    "id": "Qdmw0va-2YbU"
   },
   "source": [
    "### Pick or customize a model evaluator"
   ]
  },
  {
   "cell_type": "markdown",
   "metadata": {
    "id": "jF2HK7Fj2Urj"
   },
   "source": [
    "In the exploration process, the exploration strategy repeatedly generates new models. A model evaluator is for training and validating each generated model to obtain the model’s performance. The performance is sent to the exploration strategy for the strategy to generate better models.\n",
    "\n",
    "NNI NAS has provided built-in model evaluators, but to start with, it is recommended to use FunctionalEvaluator, that is, to wrap your own training and evaluation code with one single function. This function should receive one single model class and uses nni.report_final_result() to report the final score of this model.\n",
    "\n"
   ]
  },
  {
   "cell_type": "markdown",
   "metadata": {
    "id": "dNcCz_rj2xKd"
   },
   "source": [
    "Model evaluators: https://nni.readthedocs.io/en/stable/nas/evaluator.html"
   ]
  },
  {
   "cell_type": "code",
   "execution_count": 9,
   "metadata": {
    "id": "c4Uh9oxI2y0_"
   },
   "outputs": [],
   "source": [
    "from torchvision import transforms\n",
    "from torchvision.datasets import MNIST\n",
    "from torch.utils.data import DataLoader\n",
    "\n",
    "def train_epoch(model, device, train_loader, optimizer, epoch):\n",
    "    loss_fn = torch.nn.CrossEntropyLoss()\n",
    "    model.train()\n",
    "\n",
    "    for batch_idx, (data, target) in enumerate(train_loader):\n",
    "        data, target = data.to(device), target.to(device)\n",
    "        optimizer.zero_grad()\n",
    "        output = model(data)\n",
    "        loss = loss_fn(output, target)\n",
    "        loss.backward()\n",
    "        optimizer.step()\n",
    "        if batch_idx % 10 == 0:\n",
    "            print('Train Epoch: {} [{}/{} ({:.0f}%)]\\tLoss: {:.6f}'.format(\n",
    "                epoch, batch_idx * len(data), len(train_loader.dataset),\n",
    "                100. * batch_idx / len(train_loader), loss.item()))\n",
    "\n",
    "\n",
    "def test_epoch(model, device, test_loader):\n",
    "    model.eval()\n",
    "    test_loss = 0\n",
    "    correct = 0\n",
    "    with torch.no_grad():\n",
    "        for data, target in test_loader:\n",
    "            data, target = data.to(device), target.to(device)\n",
    "            output = model(data)\n",
    "            pred = output.argmax(dim=1, keepdim=True)\n",
    "            correct += pred.eq(target.view_as(pred)).sum().item()\n",
    "\n",
    "    test_loss /= len(test_loader.dataset)\n",
    "    accuracy = 100. * correct / len(test_loader.dataset)\n",
    "\n",
    "    print('\\nTest set: Accuracy: {}/{} ({:.0f}%)\\n'.format(\n",
    "          correct, len(test_loader.dataset), accuracy))\n",
    "\n",
    "    return accuracy"
   ]
  },
  {
   "cell_type": "code",
   "execution_count": 10,
   "metadata": {
    "id": "Dz9sHzNG4v7T"
   },
   "outputs": [],
   "source": [
    "def evaluate_model(model):\n",
    "    # By v3.0, the model will be instantiated by default.\n",
    "    device = torch.device('cuda') if torch.cuda.is_available() else torch.device('cpu')\n",
    "    model.to(device)\n",
    "\n",
    "    optimizer = torch.optim.Adam(model.parameters(), lr=1e-3)\n",
    "    transf = transforms.Compose([transforms.ToTensor(), transforms.Normalize((0.1307,), (0.3081,))])\n",
    "    train_loader = DataLoader(MNIST('data/mnist', download=True, transform=transf), batch_size=64, shuffle=True)\n",
    "    test_loader = DataLoader(MNIST('data/mnist', download=True, train=False, transform=transf), batch_size=64)\n",
    "\n",
    "    for epoch in range(3):\n",
    "        # train the model for one epoch\n",
    "        train_epoch(model, device, train_loader, optimizer, epoch)\n",
    "        # test the model for one epoch\n",
    "        accuracy = test_epoch(model, device, test_loader)\n",
    "        # call report intermediate result. Result can be float or dict\n",
    "        nni.report_intermediate_result(accuracy)\n",
    "\n",
    "    # report final test result\n",
    "    nni.report_final_result(accuracy)"
   ]
  },
  {
   "cell_type": "markdown",
   "metadata": {
    "id": "m42GtjBE5cfp"
   },
   "source": [
    "### Create the evaluator"
   ]
  },
  {
   "cell_type": "code",
   "execution_count": 11,
   "metadata": {
    "id": "SjTJ-Sd04lvR"
   },
   "outputs": [],
   "source": [
    "from nni.nas.evaluator import FunctionalEvaluator\n",
    "evaluator = FunctionalEvaluator(evaluate_model)"
   ]
  },
  {
   "cell_type": "markdown",
   "metadata": {
    "id": "ikzl6UwG6ixm"
   },
   "source": [
    "### Launch an experiment"
   ]
  },
  {
   "cell_type": "code",
   "execution_count": 12,
   "metadata": {
    "colab": {
     "base_uri": "https://localhost:8080/"
    },
    "id": "1M9Sw0fR0qWJ",
    "outputId": "f9938f68-3f0c-490d-b65a-9bd684b7486e"
   },
   "outputs": [
    {
     "name": "stdout",
     "output_type": "stream",
     "text": [
      "[2024-04-17 12:07:53] \u001b[32mConfig is not provided. Will try to infer.\u001b[0m\n",
      "[2024-04-17 12:07:53] \u001b[32mUsing execution engine based on training service. Trial concurrency is set to 1.\u001b[0m\n",
      "[2024-04-17 12:07:53] \u001b[32mUsing simplified model format.\u001b[0m\n",
      "[2024-04-17 12:07:53] \u001b[32mUsing local training service.\u001b[0m\n"
     ]
    },
    {
     "name": "stderr",
     "output_type": "stream",
     "text": [
      "/home/anaconda/lib/python3.9/site-packages/torch/cuda/__init__.py:628: UserWarning: Can't initialize NVML\n",
      "  warnings.warn(\"Can't initialize NVML\")\n"
     ]
    }
   ],
   "source": [
    "from nni.nas.experiment import NasExperiment\n",
    "exp = NasExperiment(model_space, evaluator, search_strategy)"
   ]
  },
  {
   "cell_type": "code",
   "execution_count": 13,
   "metadata": {
    "id": "Wn6usoTo0ifO"
   },
   "outputs": [],
   "source": [
    "# optional\n",
    "\n",
    "#exp.config.max_trial_number = 3   # spawn 3 trials at most\n",
    "#exp.config.trial_concurrency = 1  # will run 1 trial concurrently\n",
    "#exp.config.trial_gpu_number = 0   # will not use GPU\n",
    "\n",
    "# uncomment to use GPU\n",
    "# exp.config.trial_gpu_number = 1\n",
    "# exp.config.training_service.use_active_gpu = True"
   ]
  },
  {
   "cell_type": "code",
   "execution_count": 14,
   "metadata": {
    "colab": {
     "base_uri": "https://localhost:8080/",
     "height": 900
    },
    "id": "Bv5T5Cyl685A",
    "outputId": "42c306c0-1c1e-4625-f7ec-804bea50067c"
   },
   "outputs": [
    {
     "name": "stdout",
     "output_type": "stream",
     "text": [
      "[2024-04-17 12:08:38] \u001b[32mCreating experiment, Experiment ID: \u001b[36my72nsj4a\u001b[0m\n",
      "[2024-04-17 12:08:38] \u001b[32mStarting web server...\u001b[0m\n",
      "[2024-04-17 12:08:39] \u001b[32mSetting up...\u001b[0m\n",
      "[2024-04-17 12:08:39] \u001b[32mWeb portal URLs: \u001b[36mhttp://127.0.0.1:8081 http://172.17.0.3:8081\u001b[0m\n",
      "[2024-04-17 12:08:39] \u001b[32mSuccessfully update searchSpace.\u001b[0m\n",
      "[2024-04-17 12:08:39] \u001b[32mCheckpoint saved to /root/nni-experiments/y72nsj4a/checkpoint.\u001b[0m\n",
      "[2024-04-17 12:08:39] \u001b[32mExperiment initialized successfully. Starting exploration strategy...\u001b[0m\n",
      "[2024-04-17 12:15:44] \u001b[33mWARNING: Strategy is interrupted.\u001b[0m\n",
      "[2024-04-17 12:15:44] \u001b[33mWARNING: KeyboardInterrupt detected\u001b[0m\n",
      "[2024-04-17 12:15:44] \u001b[32mStopping experiment, please wait...\u001b[0m\n",
      "[2024-04-17 12:15:44] \u001b[32mCheckpoint saved to /root/nni-experiments/y72nsj4a/checkpoint.\u001b[0m\n",
      "[2024-04-17 12:15:45] \u001b[32mExperiment stopped\u001b[0m\n"
     ]
    }
   ],
   "source": [
    "exp.run(port=8081)"
   ]
  },
  {
   "cell_type": "markdown",
   "metadata": {
    "id": "oSKUMgWv_MbR"
   },
   "source": [
    "### Export top models"
   ]
  },
  {
   "cell_type": "code",
   "execution_count": 15,
   "metadata": {
    "colab": {
     "base_uri": "https://localhost:8080/",
     "height": 645
    },
    "id": "QwqN0FwI7APK",
    "outputId": "ebe80eb1-f2cd-4815-ed43-c850ac0e9769"
   },
   "outputs": [
    {
     "ename": "RuntimeError",
     "evalue": "The engine has been stopped. Cannot take any more action.",
     "output_type": "error",
     "traceback": [
      "\u001b[0;31m---------------------------------------------------------------------------\u001b[0m",
      "\u001b[0;31mRuntimeError\u001b[0m                              Traceback (most recent call last)",
      "\u001b[0;32m/tmp/ipykernel_2455434/1620535017.py\u001b[0m in \u001b[0;36m<module>\u001b[0;34m\u001b[0m\n\u001b[0;32m----> 1\u001b[0;31m \u001b[0;32mfor\u001b[0m \u001b[0mmodel_dict\u001b[0m \u001b[0;32min\u001b[0m \u001b[0mexp\u001b[0m\u001b[0;34m.\u001b[0m\u001b[0mexport_top_models\u001b[0m\u001b[0;34m(\u001b[0m\u001b[0mformatter\u001b[0m\u001b[0;34m=\u001b[0m\u001b[0;34m'dict'\u001b[0m\u001b[0;34m)\u001b[0m\u001b[0;34m:\u001b[0m\u001b[0;34m\u001b[0m\u001b[0;34m\u001b[0m\u001b[0m\n\u001b[0m\u001b[1;32m      2\u001b[0m     \u001b[0mprint\u001b[0m\u001b[0;34m(\u001b[0m\u001b[0mmodel_dict\u001b[0m\u001b[0;34m)\u001b[0m\u001b[0;34m\u001b[0m\u001b[0;34m\u001b[0m\u001b[0m\n",
      "\u001b[0;32m/home/anaconda/lib/python3.9/site-packages/nni/nas/experiment/experiment.py\u001b[0m in \u001b[0;36mexport_top_models\u001b[0;34m(self, top_k, formatter, **kwargs)\u001b[0m\n\u001b[1;32m    322\u001b[0m             \u001b[0mwarnings\u001b[0m\u001b[0;34m.\u001b[0m\u001b[0mwarn\u001b[0m\u001b[0;34m(\u001b[0m\u001b[0;34m'Optimize mode has no effect starting from NNI v3.0.'\u001b[0m\u001b[0;34m,\u001b[0m \u001b[0mDeprecationWarning\u001b[0m\u001b[0;34m)\u001b[0m\u001b[0;34m\u001b[0m\u001b[0;34m\u001b[0m\u001b[0m\n\u001b[1;32m    323\u001b[0m \u001b[0;34m\u001b[0m\u001b[0m\n\u001b[0;32m--> 324\u001b[0;31m         \u001b[0mmodels\u001b[0m \u001b[0;34m=\u001b[0m \u001b[0mlist\u001b[0m\u001b[0;34m(\u001b[0m\u001b[0mself\u001b[0m\u001b[0;34m.\u001b[0m\u001b[0mstrategy\u001b[0m\u001b[0;34m.\u001b[0m\u001b[0mlist_models\u001b[0m\u001b[0;34m(\u001b[0m\u001b[0mlimit\u001b[0m\u001b[0;34m=\u001b[0m\u001b[0mtop_k\u001b[0m\u001b[0;34m)\u001b[0m\u001b[0;34m)\u001b[0m\u001b[0;34m\u001b[0m\u001b[0;34m\u001b[0m\u001b[0m\n\u001b[0m\u001b[1;32m    325\u001b[0m         \u001b[0;32mif\u001b[0m \u001b[0mformatter\u001b[0m \u001b[0;32mis\u001b[0m \u001b[0;32mNone\u001b[0m\u001b[0;34m:\u001b[0m\u001b[0;34m\u001b[0m\u001b[0;34m\u001b[0m\u001b[0m\n\u001b[1;32m    326\u001b[0m             \u001b[0;32mreturn\u001b[0m \u001b[0mmodels\u001b[0m\u001b[0;34m\u001b[0m\u001b[0;34m\u001b[0m\u001b[0m\n",
      "\u001b[0;32m/home/anaconda/lib/python3.9/site-packages/nni/nas/strategy/base.py\u001b[0m in \u001b[0;36mlist_models\u001b[0;34m(self, sort, limit)\u001b[0m\n\u001b[1;32m    241\u001b[0m \u001b[0;34m\u001b[0m\u001b[0m\n\u001b[1;32m    242\u001b[0m         \u001b[0;32mif\u001b[0m \u001b[0msort\u001b[0m\u001b[0;34m:\u001b[0m\u001b[0;34m\u001b[0m\u001b[0;34m\u001b[0m\u001b[0m\n\u001b[0;32m--> 243\u001b[0;31m             \u001b[0mmodels\u001b[0m \u001b[0;34m=\u001b[0m \u001b[0;34m[\u001b[0m\u001b[0mmodel\u001b[0m \u001b[0;32mfor\u001b[0m \u001b[0mmodel\u001b[0m \u001b[0;32min\u001b[0m \u001b[0mself\u001b[0m\u001b[0;34m.\u001b[0m\u001b[0mengine\u001b[0m\u001b[0;34m.\u001b[0m\u001b[0mlist_models\u001b[0m\u001b[0;34m(\u001b[0m\u001b[0mstatus\u001b[0m\u001b[0;34m=\u001b[0m\u001b[0mModelStatus\u001b[0m\u001b[0;34m.\u001b[0m\u001b[0mTrained\u001b[0m\u001b[0;34m)\u001b[0m \u001b[0;32mif\u001b[0m \u001b[0mmodel\u001b[0m\u001b[0;34m.\u001b[0m\u001b[0mmetric\u001b[0m \u001b[0;32mis\u001b[0m \u001b[0;32mnot\u001b[0m \u001b[0;32mNone\u001b[0m\u001b[0;34m]\u001b[0m\u001b[0;34m\u001b[0m\u001b[0;34m\u001b[0m\u001b[0m\n\u001b[0m\u001b[1;32m    244\u001b[0m             \u001b[0;32mif\u001b[0m \u001b[0mlimit\u001b[0m \u001b[0;32mis\u001b[0m \u001b[0;32mnot\u001b[0m \u001b[0;32mNone\u001b[0m \u001b[0;32mand\u001b[0m \u001b[0mlimit\u001b[0m \u001b[0;34m>\u001b[0m \u001b[0mlen\u001b[0m\u001b[0;34m(\u001b[0m\u001b[0mmodels\u001b[0m\u001b[0;34m)\u001b[0m\u001b[0;34m:\u001b[0m\u001b[0;34m\u001b[0m\u001b[0;34m\u001b[0m\u001b[0m\n\u001b[1;32m    245\u001b[0m                 \u001b[0m_logger\u001b[0m\u001b[0;34m.\u001b[0m\u001b[0mwarning\u001b[0m\u001b[0;34m(\u001b[0m\u001b[0;34m'Only %d models are trained, but %d top models are requested.'\u001b[0m\u001b[0;34m,\u001b[0m \u001b[0mlen\u001b[0m\u001b[0;34m(\u001b[0m\u001b[0mmodels\u001b[0m\u001b[0;34m)\u001b[0m\u001b[0;34m,\u001b[0m \u001b[0mlimit\u001b[0m\u001b[0;34m)\u001b[0m\u001b[0;34m\u001b[0m\u001b[0;34m\u001b[0m\u001b[0m\n",
      "\u001b[0;32m/home/anaconda/lib/python3.9/site-packages/nni/nas/strategy/base.py\u001b[0m in \u001b[0;36m<listcomp>\u001b[0;34m(.0)\u001b[0m\n\u001b[1;32m    241\u001b[0m \u001b[0;34m\u001b[0m\u001b[0m\n\u001b[1;32m    242\u001b[0m         \u001b[0;32mif\u001b[0m \u001b[0msort\u001b[0m\u001b[0;34m:\u001b[0m\u001b[0;34m\u001b[0m\u001b[0;34m\u001b[0m\u001b[0m\n\u001b[0;32m--> 243\u001b[0;31m             \u001b[0mmodels\u001b[0m \u001b[0;34m=\u001b[0m \u001b[0;34m[\u001b[0m\u001b[0mmodel\u001b[0m \u001b[0;32mfor\u001b[0m \u001b[0mmodel\u001b[0m \u001b[0;32min\u001b[0m \u001b[0mself\u001b[0m\u001b[0;34m.\u001b[0m\u001b[0mengine\u001b[0m\u001b[0;34m.\u001b[0m\u001b[0mlist_models\u001b[0m\u001b[0;34m(\u001b[0m\u001b[0mstatus\u001b[0m\u001b[0;34m=\u001b[0m\u001b[0mModelStatus\u001b[0m\u001b[0;34m.\u001b[0m\u001b[0mTrained\u001b[0m\u001b[0;34m)\u001b[0m \u001b[0;32mif\u001b[0m \u001b[0mmodel\u001b[0m\u001b[0;34m.\u001b[0m\u001b[0mmetric\u001b[0m \u001b[0;32mis\u001b[0m \u001b[0;32mnot\u001b[0m \u001b[0;32mNone\u001b[0m\u001b[0;34m]\u001b[0m\u001b[0;34m\u001b[0m\u001b[0;34m\u001b[0m\u001b[0m\n\u001b[0m\u001b[1;32m    244\u001b[0m             \u001b[0;32mif\u001b[0m \u001b[0mlimit\u001b[0m \u001b[0;32mis\u001b[0m \u001b[0;32mnot\u001b[0m \u001b[0;32mNone\u001b[0m \u001b[0;32mand\u001b[0m \u001b[0mlimit\u001b[0m \u001b[0;34m>\u001b[0m \u001b[0mlen\u001b[0m\u001b[0;34m(\u001b[0m\u001b[0mmodels\u001b[0m\u001b[0;34m)\u001b[0m\u001b[0;34m:\u001b[0m\u001b[0;34m\u001b[0m\u001b[0;34m\u001b[0m\u001b[0m\n\u001b[1;32m    245\u001b[0m                 \u001b[0m_logger\u001b[0m\u001b[0;34m.\u001b[0m\u001b[0mwarning\u001b[0m\u001b[0;34m(\u001b[0m\u001b[0;34m'Only %d models are trained, but %d top models are requested.'\u001b[0m\u001b[0;34m,\u001b[0m \u001b[0mlen\u001b[0m\u001b[0;34m(\u001b[0m\u001b[0mmodels\u001b[0m\u001b[0;34m)\u001b[0m\u001b[0;34m,\u001b[0m \u001b[0mlimit\u001b[0m\u001b[0;34m)\u001b[0m\u001b[0;34m\u001b[0m\u001b[0;34m\u001b[0m\u001b[0m\n",
      "\u001b[0;32m/home/anaconda/lib/python3.9/site-packages/nni/nas/execution/training_service.py\u001b[0m in \u001b[0;36mlist_models\u001b[0;34m(self, status)\u001b[0m\n\u001b[1;32m    199\u001b[0m             \u001b[0mWhether\u001b[0m \u001b[0mto\u001b[0m \u001b[0minclude\u001b[0m \u001b[0mintermediate\u001b[0m \u001b[0mmodels\u001b[0m\u001b[0;34m.\u001b[0m\u001b[0;34m\u001b[0m\u001b[0;34m\u001b[0m\u001b[0m\n\u001b[1;32m    200\u001b[0m         \"\"\"\n\u001b[0;32m--> 201\u001b[0;31m         \u001b[0mself\u001b[0m\u001b[0;34m.\u001b[0m\u001b[0m_check_running\u001b[0m\u001b[0;34m(\u001b[0m\u001b[0;34m)\u001b[0m\u001b[0;34m\u001b[0m\u001b[0;34m\u001b[0m\u001b[0m\n\u001b[0m\u001b[1;32m    202\u001b[0m \u001b[0;34m\u001b[0m\u001b[0m\n\u001b[1;32m    203\u001b[0m         \u001b[0;32mfor\u001b[0m \u001b[0mtrial\u001b[0m \u001b[0;32min\u001b[0m \u001b[0mself\u001b[0m\u001b[0;34m.\u001b[0m\u001b[0mnodejs_binding\u001b[0m\u001b[0;34m.\u001b[0m\u001b[0mlist_trial_jobs\u001b[0m\u001b[0;34m(\u001b[0m\u001b[0;34m)\u001b[0m\u001b[0;34m:\u001b[0m\u001b[0;34m\u001b[0m\u001b[0;34m\u001b[0m\u001b[0m\n",
      "\u001b[0;32m/home/anaconda/lib/python3.9/site-packages/nni/nas/execution/training_service.py\u001b[0m in \u001b[0;36m_check_running\u001b[0;34m(self)\u001b[0m\n\u001b[1;32m    329\u001b[0m     \u001b[0;32mdef\u001b[0m \u001b[0m_check_running\u001b[0m\u001b[0;34m(\u001b[0m\u001b[0mself\u001b[0m\u001b[0;34m)\u001b[0m \u001b[0;34m->\u001b[0m \u001b[0;32mNone\u001b[0m\u001b[0;34m:\u001b[0m\u001b[0;34m\u001b[0m\u001b[0;34m\u001b[0m\u001b[0m\n\u001b[1;32m    330\u001b[0m         \u001b[0;32mif\u001b[0m \u001b[0mself\u001b[0m\u001b[0;34m.\u001b[0m\u001b[0m_stopped\u001b[0m\u001b[0;34m:\u001b[0m\u001b[0;34m\u001b[0m\u001b[0;34m\u001b[0m\u001b[0m\n\u001b[0;32m--> 331\u001b[0;31m             \u001b[0;32mraise\u001b[0m \u001b[0mRuntimeError\u001b[0m\u001b[0;34m(\u001b[0m\u001b[0;34m'The engine has been stopped. Cannot take any more action.'\u001b[0m\u001b[0;34m)\u001b[0m\u001b[0;34m\u001b[0m\u001b[0;34m\u001b[0m\u001b[0m\n\u001b[0m\u001b[1;32m    332\u001b[0m \u001b[0;34m\u001b[0m\u001b[0m\n\u001b[1;32m    333\u001b[0m     \u001b[0;32mdef\u001b[0m \u001b[0m_next_parameter_id\u001b[0m\u001b[0;34m(\u001b[0m\u001b[0mself\u001b[0m\u001b[0;34m)\u001b[0m \u001b[0;34m->\u001b[0m \u001b[0mint\u001b[0m\u001b[0;34m:\u001b[0m\u001b[0;34m\u001b[0m\u001b[0;34m\u001b[0m\u001b[0m\n",
      "\u001b[0;31mRuntimeError\u001b[0m: The engine has been stopped. Cannot take any more action."
     ]
    }
   ],
   "source": [
    "for model_dict in exp.export_top_models(formatter='dict'):\n",
    "    print(model_dict)"
   ]
  },
  {
   "cell_type": "code",
   "execution_count": null,
   "metadata": {
    "id": "yJF4eKvu60Mn"
   },
   "outputs": [],
   "source": []
  },
  {
   "cell_type": "code",
   "execution_count": null,
   "metadata": {
    "id": "RlbvAu9m6wcY"
   },
   "outputs": [],
   "source": []
  },
  {
   "cell_type": "code",
   "execution_count": null,
   "metadata": {
    "id": "m3n5QgAs0d46"
   },
   "outputs": [],
   "source": []
  },
  {
   "cell_type": "code",
   "execution_count": null,
   "metadata": {
    "id": "CW22uJOl0ZQ4"
   },
   "outputs": [],
   "source": []
  },
  {
   "cell_type": "code",
   "execution_count": null,
   "metadata": {
    "id": "gVdrGtVoz7Up"
   },
   "outputs": [],
   "source": []
  },
  {
   "cell_type": "code",
   "execution_count": null,
   "metadata": {
    "id": "Rd0kkOGQyXmr"
   },
   "outputs": [],
   "source": []
  },
  {
   "cell_type": "code",
   "execution_count": null,
   "metadata": {
    "id": "4tRDHayTvgmx"
   },
   "outputs": [],
   "source": []
  }
 ],
 "metadata": {
  "accelerator": "GPU",
  "colab": {
   "gpuType": "T4",
   "provenance": []
  },
  "kernelspec": {
   "display_name": "Python 3 (ipykernel)",
   "language": "python",
   "name": "python3"
  },
  "language_info": {
   "codemirror_mode": {
    "name": "ipython",
    "version": 3
   },
   "file_extension": ".py",
   "mimetype": "text/x-python",
   "name": "python",
   "nbconvert_exporter": "python",
   "pygments_lexer": "ipython3",
   "version": "3.9.13"
  }
 },
 "nbformat": 4,
 "nbformat_minor": 1
}
